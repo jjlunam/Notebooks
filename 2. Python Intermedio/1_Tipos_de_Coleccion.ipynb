{
  "nbformat": 4,
  "nbformat_minor": 0,
  "metadata": {
    "colab": {
      "provenance": [],
      "collapsed_sections": []
    },
    "kernelspec": {
      "name": "python3",
      "display_name": "Python 3"
    },
    "language_info": {
      "name": "python"
    }
  },
  "cells": [
    {
      "cell_type": "markdown",
      "source": [
        "# DICCIONARIOS"
      ],
      "metadata": {
        "id": "GkJuI9rm9gKz"
      }
    },
    {
      "cell_type": "markdown",
      "source": [
        "Python proporciona una serie de **tipos de colección** incorporados para almacenar múltiples valores.\n",
        "\n",
        "Las **listas** son uno de estos tipos de colección y le permiten almacenar valores indexados:"
      ],
      "metadata": {
        "id": "xSsdFH6i9qC6"
      }
    },
    {
      "cell_type": "code",
      "execution_count": null,
      "metadata": {
        "colab": {
          "base_uri": "https://localhost:8080/"
        },
        "id": "6xgEOyJV80cO",
        "outputId": "e823c76b-1915-4d56-a0f5-e410e56c55ed"
      },
      "outputs": [
        {
          "output_type": "stream",
          "name": "stdout",
          "text": [
            "welcome\n"
          ]
        }
      ],
      "source": [
        "x = ['hi', 'hello', 'welcome']\n",
        "print(x[2])"
      ]
    },
    {
      "cell_type": "markdown",
      "source": [
        "Cada elemento de una lista tiene un índice, que se establece automáticamente.\n",
        "\n",
        "Los **diccionarios** son otro tipo de colección y le permiten asignar claves arbitrarias a valores.\n",
        "\n",
        "Los diccionarios se pueden indexar de la misma manera que las listas, utilizando **corchetes** que contienen claves. Ejemplo:"
      ],
      "metadata": {
        "id": "5pSNLLmY9teT"
      }
    },
    {
      "cell_type": "code",
      "source": [
        "ages = {\n",
        "    \"Dave\": 24,\n",
        "    \"Mary\": 42,\n",
        "    \"John\": 58\n",
        "}\n",
        "print (ages[\"Dave\"])\n",
        "print (ages[\"Mary\"])"
      ],
      "metadata": {
        "colab": {
          "base_uri": "https://localhost:8080/"
        },
        "id": "y0O_Wzig9v3P",
        "outputId": "df7c2093-62f6-4e9e-9aff-546b56ba8ce2"
      },
      "execution_count": null,
      "outputs": [
        {
          "output_type": "stream",
          "name": "stdout",
          "text": [
            "24\n",
            "42\n"
          ]
        }
      ]
    },
    {
      "cell_type": "markdown",
      "source": [
        "> Cada elemento de un diccionario está representado por un par **clave:valor**."
      ],
      "metadata": {
        "id": "vV35rj6Q9wWz"
      }
    },
    {
      "cell_type": "markdown",
      "source": [
        "Solo los objetos **inmutables** se pueden usar como claves para los diccionarios. Los objetos **inmutables** son aquellos que no se pueden cambiar.\n",
        "\n",
        "Hasta ahora, los únicos objetos mutables con los que te has encontrado son **listas y diccionarios**."
      ],
      "metadata": {
        "id": "rVW5ivQM-0R-"
      }
    },
    {
      "cell_type": "code",
      "source": [
        "bad_dict = {\n",
        "    [1, 2, 3] = \"one two three\"\n",
        "}"
      ],
      "metadata": {
        "colab": {
          "base_uri": "https://localhost:8080/",
          "height": 135
        },
        "id": "2TsSyiOu-2mV",
        "outputId": "0e84fde2-6827-4c77-b34e-26dcc1d2cb81"
      },
      "execution_count": null,
      "outputs": [
        {
          "output_type": "error",
          "ename": "SyntaxError",
          "evalue": "ignored",
          "traceback": [
            "\u001b[0;36m  File \u001b[0;32m\"<ipython-input-4-46e64fae5c87>\"\u001b[0;36m, line \u001b[0;32m2\u001b[0m\n\u001b[0;31m    [1, 2, 3] = \"one two three\"\u001b[0m\n\u001b[0m              ^\u001b[0m\n\u001b[0;31mSyntaxError\u001b[0m\u001b[0;31m:\u001b[0m invalid syntax\n"
          ]
        }
      ]
    },
    {
      "cell_type": "markdown",
      "source": [
        "Dado que las listas son mutables, el código anterior arroja un error.\n",
        "> Esto significa que puede usar cadenas, enteros, booleanos y cualquier otro tipo inmutable como claves de diccionario."
      ],
      "metadata": {
        "id": "l9_QwyHg-3Fe"
      }
    },
    {
      "cell_type": "markdown",
      "source": [
        "## FUNCIONES DE DICCIONARIO"
      ],
      "metadata": {
        "id": "MfOgrFbOAJBg"
      }
    },
    {
      "cell_type": "markdown",
      "source": [
        "Para determinar si una clave está en un diccionario, puede usar **in** y **not in** , al igual que para una lista"
      ],
      "metadata": {
        "id": "qLSpBvBBANHx"
      }
    },
    {
      "cell_type": "code",
      "source": [
        "nums = {\n",
        "    1: \"one\",\n",
        "    2: \"two\",\n",
        "    3: \"Three\"\n",
        "}\n",
        "print(1 in nums)\n",
        "print(\"three\" in nums)\n",
        "print(4 not in nums)"
      ],
      "metadata": {
        "colab": {
          "base_uri": "https://localhost:8080/"
        },
        "id": "yFZ2vuCu_-go",
        "outputId": "13b7e895-4cfe-4896-c1d1-8e2d81119831"
      },
      "execution_count": null,
      "outputs": [
        {
          "output_type": "stream",
          "name": "stdout",
          "text": [
            "True\n",
            "False\n",
            "True\n"
          ]
        }
      ]
    },
    {
      "cell_type": "markdown",
      "source": [
        "Una función de diccionario útil es **get**. Hace lo mismo que la indexación, pero si la clave no se encuentra en el diccionario, devuelve otro valor especificado.\n",
        "> Para determinar cuántos elementos tiene un diccionario, use la función len()."
      ],
      "metadata": {
        "id": "A7acRNGjAn8E"
      }
    },
    {
      "cell_type": "code",
      "source": [
        "pairs= {\n",
        "    1: \" apple\",\n",
        "    \"orange\": [2, 3, 4],\n",
        "    True: False,\n",
        "    12: \"True\"\n",
        "}\n",
        "print(pairs.get(\"orange\"))\n",
        "print(pairs.get(7, 42))\n",
        "print(pairs.get(12345, \"not found\"))"
      ],
      "metadata": {
        "colab": {
          "base_uri": "https://localhost:8080/"
        },
        "id": "MB4BHkXuAj4i",
        "outputId": "83a23af0-b143-48ae-b99a-302533c7b6c5"
      },
      "execution_count": null,
      "outputs": [
        {
          "output_type": "stream",
          "name": "stdout",
          "text": [
            "[2, 3, 4]\n",
            "42\n",
            "not found\n"
          ]
        }
      ]
    },
    {
      "cell_type": "markdown",
      "source": [
        "# TUPLAS"
      ],
      "metadata": {
        "id": "5rDcJTjbBW5M"
      }
    },
    {
      "cell_type": "markdown",
      "source": [
        "Las **tuplas** son muy similares a las listas, excepto que son inmutables (no se pueden cambiar).\n",
        "\n",
        "Además, se crean usando **paréntesis**, en lugar de corchetes."
      ],
      "metadata": {
        "id": "O4xAgbTXBYmV"
      }
    },
    {
      "cell_type": "code",
      "source": [
        "words = (\"spam\", \"eggs\", \"sausages\")"
      ],
      "metadata": {
        "id": "ITJv66VaBZ-F"
      },
      "execution_count": null,
      "outputs": []
    },
    {
      "cell_type": "markdown",
      "source": [
        "Puede acceder a los valores en la tupla con su índice, tal como lo hizo con las listas:"
      ],
      "metadata": {
        "id": "1ftLKU2WBao-"
      }
    },
    {
      "cell_type": "code",
      "source": [
        "print(words[0])"
      ],
      "metadata": {
        "colab": {
          "base_uri": "https://localhost:8080/"
        },
        "id": "M0lDjiF4BFtg",
        "outputId": "1ffcb320-81d5-4e25-9e03-44dd91dff460"
      },
      "execution_count": null,
      "outputs": [
        {
          "output_type": "stream",
          "name": "stdout",
          "text": [
            "spam\n"
          ]
        }
      ]
    },
    {
      "cell_type": "markdown",
      "source": [
        "Intentar reasignar un valor en una tupla provoca un error."
      ],
      "metadata": {
        "id": "5_b1QLkaBcG2"
      }
    },
    {
      "cell_type": "code",
      "source": [
        "words[1] = \"cheese\""
      ],
      "metadata": {
        "colab": {
          "base_uri": "https://localhost:8080/",
          "height": 172
        },
        "id": "NuN468wpBd8_",
        "outputId": "2f3f1d8a-299b-47c9-f4c0-4ee436c8c9a0"
      },
      "execution_count": null,
      "outputs": [
        {
          "output_type": "error",
          "ename": "TypeError",
          "evalue": "ignored",
          "traceback": [
            "\u001b[0;31m---------------------------------------------------------------------------\u001b[0m",
            "\u001b[0;31mTypeError\u001b[0m                                 Traceback (most recent call last)",
            "\u001b[0;32m<ipython-input-10-bf923172c036>\u001b[0m in \u001b[0;36m<module>\u001b[0;34m\u001b[0m\n\u001b[0;32m----> 1\u001b[0;31m \u001b[0mwords\u001b[0m\u001b[0;34m[\u001b[0m\u001b[0;36m1\u001b[0m\u001b[0;34m]\u001b[0m \u001b[0;34m=\u001b[0m \u001b[0;34m\"cheese\"\u001b[0m\u001b[0;34m\u001b[0m\u001b[0;34m\u001b[0m\u001b[0m\n\u001b[0m",
            "\u001b[0;31mTypeError\u001b[0m: 'tuple' object does not support item assignment"
          ]
        }
      ]
    },
    {
      "cell_type": "markdown",
      "source": [
        "> Al igual que las listas y los diccionarios, las tuplas se pueden anidar unas dentro de otras."
      ],
      "metadata": {
        "id": "nEYJ_O0XBeX8"
      }
    },
    {
      "cell_type": "markdown",
      "source": [
        "Las tuplas se pueden crear sin los paréntesis simplemente separando los valores con comas."
      ],
      "metadata": {
        "id": "JVsP4MQxB-9W"
      }
    },
    {
      "cell_type": "code",
      "source": [
        "my_tuple = \"one\", \"two\", \"three\"\n",
        "print(my_tuple[0])"
      ],
      "metadata": {
        "colab": {
          "base_uri": "https://localhost:8080/"
        },
        "id": "plrlMSzoB_yn",
        "outputId": "a0867b6a-a7be-45d8-9ee3-c38c895781cf"
      },
      "execution_count": null,
      "outputs": [
        {
          "output_type": "stream",
          "name": "stdout",
          "text": [
            "one\n"
          ]
        }
      ]
    },
    {
      "cell_type": "markdown",
      "source": [
        "Las tuplas son más rápidas que las listas, pero no se pueden cambiar."
      ],
      "metadata": {
        "id": "S4t8rJslCAYn"
      }
    },
    {
      "cell_type": "markdown",
      "source": [
        "## DESEMPAQUETADO DE TUPLAS"
      ],
      "metadata": {
        "id": "zM18Ni9xCOj_"
      }
    },
    {
      "cell_type": "markdown",
      "source": [
        "El **desempaquetado de tuplas** le permite asignar cada elemento de una colección a una variable."
      ],
      "metadata": {
        "id": "D2s99bzVCQsX"
      }
    },
    {
      "cell_type": "code",
      "source": [
        "numbers = (1, 2, 3)\n",
        "a, b, c = numbers\n",
        "print(a)\n",
        "print(b)\n",
        "print(c)"
      ],
      "metadata": {
        "colab": {
          "base_uri": "https://localhost:8080/"
        },
        "id": "WN6xHjkwCQJ_",
        "outputId": "573cbf10-082d-44e6-b635-3cbe64a40167"
      },
      "execution_count": null,
      "outputs": [
        {
          "output_type": "stream",
          "name": "stdout",
          "text": [
            "1\n",
            "2\n",
            "3\n"
          ]
        }
      ]
    },
    {
      "cell_type": "markdown",
      "source": [
        "> Esto también se puede usar para intercambiar variables haciendo **a, b = b, a**, ya que **b, a** en el lado derecho forma la tupla **(b, a)** que luego se desempaqueta."
      ],
      "metadata": {
        "id": "yfLTUHbvCTxf"
      }
    },
    {
      "cell_type": "markdown",
      "source": [
        "Una variable que está precedida por un asterisco (*) toma todos los valores de la colección que quedan de las otras variables."
      ],
      "metadata": {
        "id": "5u-Txl5FC4GR"
      }
    },
    {
      "cell_type": "code",
      "source": [
        "a, b, *c, d = [1, 2, 3, 4, 5, 6, 7, 8, 9]\n",
        "print(a)\n",
        "print(b)\n",
        "print(c)\n",
        "print(d)"
      ],
      "metadata": {
        "colab": {
          "base_uri": "https://localhost:8080/"
        },
        "id": "-XZEEvLyC556",
        "outputId": "9da1a115-62df-4ddd-8674-d4ea89693ff9"
      },
      "execution_count": null,
      "outputs": [
        {
          "output_type": "stream",
          "name": "stdout",
          "text": [
            "1\n",
            "2\n",
            "[3, 4, 5, 6, 7, 8]\n",
            "9\n"
          ]
        }
      ]
    },
    {
      "cell_type": "markdown",
      "source": [
        "A **c** se le asignarán los valores del 3 al 8."
      ],
      "metadata": {
        "id": "IPisPE4xC6Ni"
      }
    },
    {
      "cell_type": "markdown",
      "source": [
        "# CONJUNTOS (SETS)"
      ],
      "metadata": {
        "id": "9XIfgJZEDTFk"
      }
    },
    {
      "cell_type": "markdown",
      "source": [
        "Los **conjuntos** son similares a listas o diccionarios.\n",
        "\n",
        "Se crean con llaves y no están ordenados, lo que significa que no se pueden indexar.\n",
        "\n",
        "Debido a la forma en que se almacenan, es más **rápido** verificar si un elemento es parte de un conjunto usando el operador **in**, en lugar de si es parte de una lista."
      ],
      "metadata": {
        "id": "rv42OaawDVvi"
      }
    },
    {
      "cell_type": "code",
      "source": [
        "num_set = {1, 2, 3, 4, 5}\n",
        "print(3 in num_set)"
      ],
      "metadata": {
        "colab": {
          "base_uri": "https://localhost:8080/"
        },
        "id": "z26YlzLUDDop",
        "outputId": "864ed730-bcae-44b6-ea19-e655e912e7a5"
      },
      "execution_count": null,
      "outputs": [
        {
          "output_type": "stream",
          "name": "stdout",
          "text": [
            "True\n"
          ]
        }
      ]
    },
    {
      "cell_type": "markdown",
      "source": [
        "> Los conjuntos no pueden contener elementos duplicados."
      ],
      "metadata": {
        "id": "AlBVOBEFDW-B"
      }
    },
    {
      "cell_type": "markdown",
      "source": [
        "Puede usar la función **add**() para agregar nuevos elementos al conjunto y **remove**() para eliminar un elemento específico:"
      ],
      "metadata": {
        "id": "LYCvVG6wDqck"
      }
    },
    {
      "cell_type": "code",
      "source": [
        "nums = {1, 2, 1, 3, 1, 4, 5, 6}\n",
        "\n",
        "print(nums)\n",
        "nums.add(-7)\n",
        "print(nums)\n",
        "nums.remove(3)\n",
        "print(nums)"
      ],
      "metadata": {
        "colab": {
          "base_uri": "https://localhost:8080/"
        },
        "id": "9HoEuGY9Drks",
        "outputId": "751707a7-0eda-441b-ad10-b7b5f13aabe7"
      },
      "execution_count": null,
      "outputs": [
        {
          "output_type": "stream",
          "name": "stdout",
          "text": [
            "{1, 2, 3, 4, 5, 6}\n",
            "{1, 2, 3, 4, 5, 6, -7}\n",
            "{1, 2, 4, 5, 6, -7}\n"
          ]
        }
      ]
    },
    {
      "cell_type": "markdown",
      "source": [
        "Los elementos duplicados se eliminarán automáticamente del conjunto.\n",
        "> La función **len**() se puede utilizar para devolver el número de elementos de un conjunto."
      ],
      "metadata": {
        "id": "Ney7HwAmDsJ0"
      }
    },
    {
      "cell_type": "markdown",
      "source": [
        "Los conjuntos se pueden combinar mediante operaciones matemáticas.\n",
        "\n",
        "* El operador **unión |** combina dos conjuntos para formar uno nuevo que contiene elementos en cualquiera. \n",
        "* El operador de **intersección &** obtiene elementos solo en ambos. \n",
        "* El operador de **diferencia -** obtiene elementos en el primer conjunto pero no en el segundo. \n",
        "* El operador de **diferencia simétrica ^** obtiene elementos en cualquier conjunto, pero no en ambos."
      ],
      "metadata": {
        "id": "UDB-dGwdEd51"
      }
    },
    {
      "cell_type": "code",
      "source": [
        "first = {1, 2, 3, 4, 5, 6}\n",
        "second = {4, 5, 6, 7, 8, 9}\n",
        "\n",
        "print(first | second)\n",
        "print(first & second)\n",
        "print(first - second)\n",
        "print(second - first)\n",
        "print(first ^ second)"
      ],
      "metadata": {
        "colab": {
          "base_uri": "https://localhost:8080/"
        },
        "id": "pzz-H8yeEe2d",
        "outputId": "a579c643-4323-4112-9f3d-4244090a9fa5"
      },
      "execution_count": null,
      "outputs": [
        {
          "output_type": "stream",
          "name": "stdout",
          "text": [
            "{1, 2, 3, 4, 5, 6, 7, 8, 9}\n",
            "{4, 5, 6}\n",
            "{1, 2, 3}\n",
            "{8, 9, 7}\n",
            "{1, 2, 3, 7, 8, 9}\n"
          ]
        }
      ]
    },
    {
      "cell_type": "markdown",
      "source": [
        "# LISTAS POR COMPRENSIONES"
      ],
      "metadata": {
        "id": "jZ2XyYVhEfUe"
      }
    },
    {
      "cell_type": "markdown",
      "source": [
        "Las **listas por comprensión** son una forma útil de crear rápidamente listas cuyos contenidos obedecen a una regla.\n",
        "\n",
        "Por ejemplo, podemos hacer lo siguiente:"
      ],
      "metadata": {
        "id": "zoNB-ejAFb-p"
      }
    },
    {
      "cell_type": "code",
      "source": [
        "cubes = [i**3 for i in range(5)]\n",
        "print(cubes)"
      ],
      "metadata": {
        "colab": {
          "base_uri": "https://localhost:8080/"
        },
        "id": "UIfVJwDlFaSn",
        "outputId": "0210ed62-654e-4673-fb97-24037b8f079b"
      },
      "execution_count": null,
      "outputs": [
        {
          "output_type": "stream",
          "name": "stdout",
          "text": [
            "[0, 1, 8, 27, 64]\n"
          ]
        }
      ]
    },
    {
      "cell_type": "markdown",
      "source": [
        "> Las listas de comprensión están inspiradas en la notación matemática de creación de conjuntos."
      ],
      "metadata": {
        "id": "Jm-M2cB_FcX8"
      }
    },
    {
      "cell_type": "markdown",
      "source": [
        "Una lista por comprensión también puede contener una instrucción **if** para aplicar una condición a los valores de la lista."
      ],
      "metadata": {
        "id": "K7OE2DquFuUA"
      }
    },
    {
      "cell_type": "code",
      "source": [
        "evens = [i**2 for i in range(10) if i**2 % 2 == 0]\n",
        "print(evens)"
      ],
      "metadata": {
        "colab": {
          "base_uri": "https://localhost:8080/"
        },
        "id": "pmNYwjMGFwIj",
        "outputId": "bd56b3f9-9543-4616-8cb6-b799e34f174f"
      },
      "execution_count": null,
      "outputs": [
        {
          "output_type": "stream",
          "name": "stdout",
          "text": [
            "[0, 4, 16, 36, 64]\n"
          ]
        }
      ]
    },
    {
      "cell_type": "markdown",
      "source": [
        "# RESUMEN"
      ],
      "metadata": {
        "id": "GY-VGopLGQpC"
      }
    },
    {
      "cell_type": "markdown",
      "source": [
        "## ESTRUCTURAS DE DATOS"
      ],
      "metadata": {
        "id": "FIgIgoK5GTZz"
      }
    },
    {
      "cell_type": "markdown",
      "source": [
        "Como hemos visto en las lecciones anteriores, Python admite los siguientes tipos de colección: **Listas , Diccionarios , Tuplas , Conjuntos**. \n",
        "\n",
        "**Cuándo utilizar un diccionario:**\n",
        "- Cuando necesite una asociación lógica entre un par **clave:valor**. \n",
        "- Cuando necesite una búsqueda rápida de sus datos, basada en una clave personalizada. \n",
        "- Cuando sus datos estén siendo modificados constantemente. Recuerde, los diccionarios son mutables. \n",
        "\n",
        "**Cuándo usar los otros tipos:** \n",
        "- Use **listas** si tiene una colección de datos que no necesita acceso aleatorio. Intente elegir listas cuando necesite una colección simple e iterable que se modifique con frecuencia. \n",
        "- Usar un **conjunto** si necesita singularidad para los elementos.\n",
        "- Utilice **tuplas** cuando sus datos no puedan/no deban cambiar.\n",
        "\n",
        "> Muchas veces, una **tupla** se usa en combinación con un **diccionario**, por ejemplo, una **tupla** podría representar una clave, porque es inmutable."
      ],
      "metadata": {
        "id": "RhfMFU1QGWK7"
      }
    },
    {
      "cell_type": "markdown",
      "source": [
        "### **PROBLEMA**"
      ],
      "metadata": {
        "id": "Wtx-6cvZG6HT"
      }
    },
    {
      "cell_type": "markdown",
      "source": [
        "Dada una cadena como entrada, debe generar cuántas veces aparece cada letra en la cadena.\n",
        "\n",
        "Decide almacenar los datos en un **diccionario**, con las letras como claves y las cuentas correspondientes como valores.\n",
        "\n",
        "Cree un programa para tomar una cadena como entrada y generar un diccionario, que representa el recuento de letras. \n",
        "\n",
        "**Entrada de muestra**\n",
        "* hello \n",
        "\n",
        "**Salida de muestra**\n",
        "* {'h': 1, 'e': 1, 'l': 2, 'o': 1}\n",
        "> Necesita generar el objeto de diccionario.\n",
        ">\n",
        "> Tenga en cuenta que las letras están en el orden de aparición en la cadena."
      ],
      "metadata": {
        "id": "dBFaIVpFHLac"
      }
    },
    {
      "cell_type": "markdown",
      "source": [
        "SOLUCION:"
      ],
      "metadata": {
        "id": "7i-ytH0OHcrN"
      }
    },
    {
      "cell_type": "code",
      "source": [
        "text = input()\n",
        "dict = {}\n",
        "#tu código va aquí\n",
        "x = len (text)\n",
        "for i in range(x):\n",
        "    dict[text[i]] = text.count(text[i])\n",
        "print (dict)"
      ],
      "metadata": {
        "colab": {
          "base_uri": "https://localhost:8080/"
        },
        "id": "gCWU_x66GGyi",
        "outputId": "26dde98c-6b78-49c2-de6f-6e0268e6075f"
      },
      "execution_count": null,
      "outputs": [
        {
          "output_type": "stream",
          "name": "stdout",
          "text": [
            "hello\n",
            "{'h': 1, 'e': 1, 'l': 2, 'o': 1}\n"
          ]
        }
      ]
    },
    {
      "cell_type": "code",
      "source": [],
      "metadata": {
        "id": "MoqxBm2lHfKd"
      },
      "execution_count": null,
      "outputs": []
    }
  ]
}