{
  "nbformat": 4,
  "nbformat_minor": 0,
  "metadata": {
    "colab": {
      "provenance": [],
      "collapsed_sections": []
    },
    "kernelspec": {
      "name": "python3",
      "display_name": "Python 3"
    },
    "language_info": {
      "name": "python"
    }
  },
  "cells": [
    {
      "cell_type": "markdown",
      "source": [
        "# **CLASES**"
      ],
      "metadata": {
        "id": "YGnN-AWSMEQC"
      }
    },
    {
      "cell_type": "markdown",
      "source": [
        "El punto focal de la **Programación Orientada a Objetos (POO)** son los **objetos**, que se crean usando **clases**.\n",
        "\n",
        "La **clase** describe lo que será el objeto, pero está separada del objeto en sí. En otras palabras, una clase se puede describir como el modelo, la descripción o la definición de un objeto.\n",
        "\n",
        "Puede usar la misma clase como modelo para crear varios objetos diferentes. Las clases se crean utilizando la palabra clave **class** y un bloque sangrado, que contiene **métodos** de clase (que son funciones). A continuación se muestra un ejemplo de una clase simple y sus objetos.\n",
        "\n",
        "---\n",
        "> El siguiente código define una clase llamada **Gato**, que tiene dos atributos: **color y patas (legs)**.\n",
        ">\n",
        "> Luego, la clase se usa para crear 3 objetos separados de esa clase..\n"
      ],
      "metadata": {
        "id": "BPza7LEUMOQ8"
      }
    },
    {
      "cell_type": "code",
      "execution_count": null,
      "metadata": {
        "id": "pmVXnmY-L2b5"
      },
      "outputs": [],
      "source": [
        "  class Cat:\n",
        "  def __init__(self, color, legs):\n",
        "    self.color = color\n",
        "    self.legs = legs\n",
        "felix = Cat (\"ginger\", 4)\n",
        "rover = Cat (\"dog-colored\", 4)\n",
        "stumpy = Cat (\"brown\", 3)"
      ]
    },
    {
      "cell_type": "markdown",
      "source": [
        "# **\\_ _ init _ _**"
      ],
      "metadata": {
        "id": "sjYLdWNbOoVd"
      }
    },
    {
      "cell_type": "markdown",
      "source": [
        "\n",
        "El método **\\_ _ init _ _** es el método más importante de una clase.\n",
        "\n",
        "Esto se llama cuando se crea una instancia (objeto) de la clase, usando el nombre de la clase como una función. \n",
        "\n",
        "Todos los métodos deben tener **self** como su primer parámetro, aunque no se pasa explícitamente, Python agrega el argumento **self** a la lista por usted; no necesita incluirlo cuando llame a los métodos. Dentro de una definición de método, **self** se refiere a la instancia que llama al método. \n",
        "\n",
        "Las instancias de una clase tienen **atributos**, que son piezas de datos asociadas con ellas. \n",
        "\n",
        "En este ejemplo, las instancias de **Cat** tienen atributos **color y patas**. Se puede acceder a estos poniendo un **punto** y el nombre del atributo después de una instancia.\n",
        "Por lo tanto, en un método **\\_ _ init _ _** , **self.attribute** se puede usar para establecer el valor inicial de los atributos de una instancia. Ejemplo:"
      ],
      "metadata": {
        "id": "taiLAoP9O-om"
      }
    },
    {
      "cell_type": "code",
      "source": [
        "class Cat:\n",
        "  def __init__(self, color, legs):\n",
        "    self.color = color\n",
        "    self.legs = legs"
      ],
      "metadata": {
        "id": "uPVrnBwGOI16"
      },
      "execution_count": null,
      "outputs": []
    },
    {
      "cell_type": "markdown",
      "source": [
        ">> En el ejemplo anterior, el método **\\_ _ init _ _** toma dos argumentos y los asigna a los atributos del objeto. El método **\\_ _ init _ _** se llama constructor de clases."
      ],
      "metadata": {
        "id": "e5WXtbJgQU51"
      }
    },
    {
      "cell_type": "markdown",
      "source": [
        "# **METODOS**"
      ],
      "metadata": {
        "id": "1LSrasQ9VTn2"
      }
    },
    {
      "cell_type": "markdown",
      "source": [
        "Las clases pueden tener otros **métodos** definidos para agregarles funcionalidad.\n",
        "\n",
        "Recuerde que todos los métodos deben tener **self** como su primer parámetro.\n",
        "\n",
        "Se accede a estos métodos utilizando **puntos** para cada atributo.\n",
        "> Los atributos de clase son compartidos por todas las instancias de la clase."
      ],
      "metadata": {
        "id": "Ps0nrhUDVZXh"
      }
    },
    {
      "cell_type": "code",
      "source": [
        "class Dog:\n",
        "  def __init__ (self, name, color):\n",
        "    self.name = name\n",
        "    self.color = color\n",
        "    \n",
        "  def bark (self): # bark (ladrar)\n",
        "    print (\"Woof!\")\n",
        "\n",
        "fido = Dog (\"Fido\", \"brown\")\n",
        "print (fido.name)\n",
        "fido.bark()"
      ],
      "metadata": {
        "colab": {
          "base_uri": "https://localhost:8080/"
        },
        "id": "dX15mwe9QPwi",
        "outputId": "7186b742-23c6-4e62-b202-02fcfc0864ee"
      },
      "execution_count": null,
      "outputs": [
        {
          "output_type": "stream",
          "name": "stdout",
          "text": [
            "Fido\n",
            "Woof!\n"
          ]
        }
      ]
    },
    {
      "cell_type": "markdown",
      "source": [
        "## **PROBLEMA**"
      ],
      "metadata": {
        "id": "68DpNYzFXSpB"
      }
    },
    {
      "cell_type": "markdown",
      "source": [
        "\n",
        "¡Estás haciendo un videojuego! El código dado declara una clase **Player**, con sus atributos y un método de **intro ()**. \n",
        "\n",
        "Complete el código para tomar el nombre y el nivel de la entrada del usuario, cree un objeto Player con los valores correspondientes y llame al método **intro ()** de ese objeto.\n",
        "\n",
        "\n",
        "**Entrada de muestra**\n",
        "* Tony\n",
        "* 12\n",
        "\n",
        "**Salida de muestra**\n",
        "* Tony (Nivel 12)\n",
        "\n",
        "\n",
        "> Use la sintaxis de punto para llamar al método intro () para el objeto declarado."
      ],
      "metadata": {
        "id": "vBl5Rw17XYcX"
      }
    },
    {
      "cell_type": "markdown",
      "source": [
        "**SOLUCION:**"
      ],
      "metadata": {
        "id": "fhTcDGeYaXeo"
      }
    },
    {
      "cell_type": "code",
      "source": [
        "class Player:\n",
        "    def __init__(self, name, level):\n",
        "        self.name = name\n",
        "        self.level = level\n",
        "\n",
        "    def intro(self):\n",
        "        print(self.name + \" (Level \" + self.level + \")\")"
      ],
      "metadata": {
        "id": "odZNYVuYaTio"
      },
      "execution_count": null,
      "outputs": []
    },
    {
      "cell_type": "code",
      "source": [
        "usuario = input()\n",
        "nivel = input()\n",
        "resultado = Player(usuario,nivel)\n",
        "resultado.intro()"
      ],
      "metadata": {
        "colab": {
          "base_uri": "https://localhost:8080/"
        },
        "id": "HFB3XyaXaWn_",
        "outputId": "e3e146c3-6b61-41e2-e562-f6db37d0dd45"
      },
      "execution_count": null,
      "outputs": [
        {
          "output_type": "stream",
          "name": "stdout",
          "text": [
            "Josias\n",
            "59\n",
            "Josias (Level 59)\n"
          ]
        }
      ]
    },
    {
      "cell_type": "markdown",
      "source": [
        "# **HERENCIA**"
      ],
      "metadata": {
        "id": "3m0R-41IdAbN"
      }
    },
    {
      "cell_type": "markdown",
      "source": [
        "La **herencia (inheritance)** proporciona una forma de compartir la funcionalidad entre clases.\n",
        "\n",
        "Imagine varias clases, **Gato, Perro, Conejo**, etc. Aunque pueden diferir en algunos aspectos (solo **Perro** puede tener el método **ladrar**), es probable que sean similares en otros (todos con los atributos **color** y **nombre**).\n",
        "\n",
        "Esta similitud se puede expresar haciendo que todos hereden de una **superclase Animal**, que contiene la funcionalidad compartida.\n",
        "\n",
        "Para heredar una clase de otra clase, coloque el nombre de la superclase entre paréntesis después del nombre de la clase."
      ],
      "metadata": {
        "id": "TZ7lZWBIdElK"
      }
    },
    {
      "cell_type": "code",
      "source": [
        "class Animal:\n",
        "  def __init__ (self, name, color):\n",
        "    self.name = name\n",
        "    self.color = color\n",
        "\n",
        "class Cat (Animal):\n",
        "  def purr (self):\n",
        "    print (\"Purr...\")\n",
        "\n",
        "class Dog (Animal):\n",
        "  def bark (self):\n",
        "    print (\"Woof!\")\n",
        "\n",
        "fido = Dog (\"Fido\", \"brown\")\n",
        "print (fido.color)\n",
        "fido.bark()"
      ],
      "metadata": {
        "colab": {
          "base_uri": "https://localhost:8080/"
        },
        "id": "iI_8c9fuagtq",
        "outputId": "a3ec579c-677a-4604-d6e1-1ca7019cfa09"
      },
      "execution_count": null,
      "outputs": [
        {
          "output_type": "stream",
          "name": "stdout",
          "text": [
            "brown\n",
            "Woof!\n"
          ]
        }
      ]
    },
    {
      "cell_type": "markdown",
      "source": [
        "Una clase que hereda de otra clase se llama **subclase**.\n",
        "\n",
        "Una clase que se hereda de se denomina **superclase**.\n",
        "\n",
        "Si una clase hereda de otra con los mismos atributos o métodos, los anula."
      ],
      "metadata": {
        "id": "Nv_LEYx3ebzj"
      }
    },
    {
      "cell_type": "code",
      "source": [
        "class Wolf:\n",
        "  def __init__ (self, name, color):\n",
        "    self.name = name\n",
        "    self.color = color\n",
        "\n",
        "  def bark (self):\n",
        "    print (\"Grr...\")\n",
        "\n",
        "class Dog (Wolf):\n",
        "  def bark (self):\n",
        "    print (\"Woof\")\n",
        "\n",
        "husky = Dog (\"Max\", \"grey\") \n",
        "print (husky.name)\n",
        "husky.bark()"
      ],
      "metadata": {
        "colab": {
          "base_uri": "https://localhost:8080/"
        },
        "id": "sJ1iRxbbbbhn",
        "outputId": "8b9de053-4be6-41a3-d15d-fd4c2f29d106"
      },
      "execution_count": null,
      "outputs": [
        {
          "output_type": "stream",
          "name": "stdout",
          "text": [
            "Max\n",
            "Woof\n"
          ]
        }
      ]
    },
    {
      "cell_type": "markdown",
      "source": [
        ">> En el ejemplo anterior, Wolf es la **superclase**, Dog es la subclase."
      ],
      "metadata": {
        "id": "BP7lgMrlfQmG"
      }
    },
    {
      "cell_type": "code",
      "source": [
        "# EJEMPLO:\n",
        "class A:\n",
        "  def method(self):\n",
        "    print (1)\n",
        "class B(A):\n",
        "  def method(self):\n",
        "    print (2)\n",
        "\n",
        "B().method()"
      ],
      "metadata": {
        "colab": {
          "base_uri": "https://localhost:8080/"
        },
        "id": "0VwWaqwNfF3P",
        "outputId": "22e8ccd9-5fbe-481b-8bb0-73e4a9a83423"
      },
      "execution_count": null,
      "outputs": [
        {
          "output_type": "stream",
          "name": "stdout",
          "text": [
            "2\n"
          ]
        }
      ]
    },
    {
      "cell_type": "markdown",
      "source": [
        "La función **super** es una función útil relacionada con la herencia que hace referencia a la clase principal. Se puede usar para encontrar el método con un nombre determinado en la superclase de un objeto."
      ],
      "metadata": {
        "id": "rfzaRdMrhG0e"
      }
    },
    {
      "cell_type": "code",
      "source": [
        "class A:\n",
        "  def spam (self):\n",
        "    print(1)\n",
        "\n",
        "class B(A):\n",
        "  def spam (self):\n",
        "    print(2)\n",
        "    super().spam()\n",
        "\n",
        "B().spam()"
      ],
      "metadata": {
        "colab": {
          "base_uri": "https://localhost:8080/"
        },
        "id": "KYowKIZVgM2L",
        "outputId": "77c93e6c-b68b-4953-cab9-5efb9ff24225"
      },
      "execution_count": null,
      "outputs": [
        {
          "output_type": "stream",
          "name": "stdout",
          "text": [
            "2\n",
            "1\n"
          ]
        }
      ]
    },
    {
      "cell_type": "markdown",
      "source": [
        ">> **super().spam()** llama al método spam de la **superclase**."
      ],
      "metadata": {
        "id": "1kgd4QUVhmHx"
      }
    },
    {
      "cell_type": "markdown",
      "source": [
        "# **METODOS MAGICOS**"
      ],
      "metadata": {
        "id": "n3uXzVvliaWV"
      }
    },
    {
      "cell_type": "markdown",
      "source": [
        "Los **métodos mágicos** son métodos especiales que tienen **guiones bajos dobles** al principio y al final de sus nombres.\n",
        "\n",
        "También se les conoce como **dunders**.\n",
        "\n",
        "Hasta ahora, el único que hemos encontrado es **\\_ _ init _ _**, pero hay varios.\n",
        "\n",
        "Se utilizan para crear funciones que no se puede representarse como un método normal. \n",
        "\n",
        "Un uso común de ellos es la **sobrecarga de operadores**. \n",
        "\n",
        "Esto significa definir operadores para clases personalizadas que permitan el uso de operadores como + y * en ellas. \n",
        "\n",
        "Un método mágico de ejemplo es **\\_ _ add _ _** para +."
      ],
      "metadata": {
        "id": "dWcelZLqihPW"
      }
    },
    {
      "cell_type": "code",
      "source": [
        "class Vector2D:\n",
        "  def __init__ (self, x, y):\n",
        "    self.x = x\n",
        "    self.y = y\n",
        "\n",
        "  def __add__ (self, other):\n",
        "    return Vector2D (self.x + other.x, self.y + other.y)\n",
        "\n",
        "first = Vector2D (5, 7)\n",
        "second = Vector2D (3, 9)\n",
        "result = first + second\n",
        "print (result.x)\n",
        "print (result.y)"
      ],
      "metadata": {
        "colab": {
          "base_uri": "https://localhost:8080/"
        },
        "id": "zctEzymrhj67",
        "outputId": "d6f80102-9112-432c-de73-acd4f84809e8"
      },
      "execution_count": null,
      "outputs": [
        {
          "output_type": "stream",
          "name": "stdout",
          "text": [
            "8\n",
            "16\n"
          ]
        }
      ]
    },
    {
      "cell_type": "markdown",
      "source": [
        ">> El método **\\_ _ add _ _** permite la definición de un comportamiento personalizado para el operador + en nuestra clase.\n",
        ">>\n",
        ">>Como puede ver, agrega los atributos correspondientes de los objetos y devuelve un nuevo objeto que contiene el resultado.\n",
        ">>\n",
        ">>Una vez definido, podemos agregar dos objetos de la clase juntos."
      ],
      "metadata": {
        "id": "L5n5n6L9jrba"
      }
    },
    {
      "cell_type": "markdown",
      "source": [
        "Más métodos mágicos para operadores comunes:\n",
        "\n",
        "\n",
        "* **\\_ _ sub _ _** para -\n",
        "* **\\_ _ mul _ _** para *\n",
        "* **\\_ _ truediv _ _** para /\n",
        "* **\\_ _ floordiv _ _** para //\n",
        "* **\\_ _ mod _ _** para %\n",
        "* **\\_ _ pow _ _** para **\n",
        "* **\\_ _ and _ _** para &\n",
        "* **\\_ _ xor _ _** para ^\n",
        "* **\\_ _ or _ _** para | \n",
        "\n",
        "La expresión **x + y** se traduce en **x.\\_ _ add _ _(y)**. \n",
        "\n",
        "Sin embargo, si x no ha implementado __add__, y x e y son de tipos diferentes, entonces se llama a **y.\\_ _ radd _ _(x)**.\n",
        "\n",
        "Hay métodos **r** equivalentes para todos los métodos mágicos que acabamos de mencionar. Ejemplo:"
      ],
      "metadata": {
        "id": "FbJ5Cxn7KdTs"
      }
    },
    {
      "cell_type": "code",
      "source": [
        "class SpecialString:\n",
        "  def __init__ (self, cont):\n",
        "    self.cont = cont\n",
        "  \n",
        "  def __truediv__ (self, other):\n",
        "    line = \"=\" * len (other.cont)\n",
        "    return \"\\n\".join ([self.cont, line, other.cont])  # JOIN = aplica \"\\n\" a cada elemento de la lista\n",
        "\n",
        "spam = SpecialString (\"spam\")\n",
        "hello = SpecialString (\"Hello world!\")\n",
        "print (spam / hello)"
      ],
      "metadata": {
        "id": "GkbDA3qgjlAq",
        "colab": {
          "base_uri": "https://localhost:8080/"
        },
        "outputId": "6b4e3f72-b9ea-4912-fd2c-8bd7b3364b12"
      },
      "execution_count": null,
      "outputs": [
        {
          "output_type": "stream",
          "name": "stdout",
          "text": [
            "spam\n",
            "============\n",
            "Hello world!\n"
          ]
        }
      ]
    },
    {
      "cell_type": "markdown",
      "source": [
        ">> En el ejemplo anterior, definimos la operación de **división** para nuestra clase SpecialString."
      ],
      "metadata": {
        "id": "NrWLNOWuM_Fb"
      }
    },
    {
      "cell_type": "markdown",
      "source": [
        "\n",
        "Python también proporciona métodos mágicos para las comparaciones.\n",
        "* **\\_ _ lt _ _** para <\n",
        "* **\\_ _ le _ _** para <=\n",
        "* **\\_ _ eq _ _** para ==\n",
        "* **\\_ _ ne _ _** para !=\n",
        "* **\\_ _ gt _ _** para >\n",
        "* **\\_ _ ge _ _** para >= \n",
        "\n",
        "Si **\\_ _ ne _ _** no está implementado, devuelve lo contrario de **\\_ _ eq _ _**.\n",
        "\n",
        "No hay otras relaciones entre los otros operadores."
      ],
      "metadata": {
        "id": "EabhhBguU_KN"
      }
    },
    {
      "cell_type": "code",
      "source": [
        "class SpecialString:\n",
        "  def __init__ (self, cont):\n",
        "    self.cont = cont\n",
        "  \n",
        "  def __gt__ (self, other):\n",
        "    for index in range (len(other.cont)+1):\n",
        "      result = other.cont[:index] + \">\" + self.cont\n",
        "      result += \">\" + other.cont[index:]\n",
        "      print (result)\n",
        "\n",
        "spam = SpecialString(\"spam\")\n",
        "eggs = SpecialString(\"eggs\")\n",
        "spam > eggs"
      ],
      "metadata": {
        "id": "6s09yaoONJy-",
        "colab": {
          "base_uri": "https://localhost:8080/"
        },
        "outputId": "880cd020-7e63-4261-8949-beb88eb42f3a"
      },
      "execution_count": null,
      "outputs": [
        {
          "output_type": "stream",
          "name": "stdout",
          "text": [
            ">spam>eggs\n",
            "e>spam>ggs\n",
            "eg>spam>gs\n",
            "egg>spam>s\n",
            "eggs>spam>\n"
          ]
        }
      ]
    },
    {
      "cell_type": "markdown",
      "source": [
        "Hay varios métodos mágicos para hacer que las clases actúen como contenedores.\n",
        "\n",
        "* **\\_ _ len _ _** para len()\n",
        "* **\\_ _ getitem _ _** para indexar\n",
        "* **\\_ _ setitem _ _** para asignar valores indexados\n",
        "* **\\_ _ delitem _ _** para eliminar valores indexados\n",
        "* **\\_ _ iter _ _** para iterar sobre objetos (p. ej., en bucles for)\n",
        "* **\\_ _ contains _ _** for in \n",
        "\n",
        "Hay muchos otros métodos mágicos que no cubriremos aquí, como **\\_ _ call _ _** para llamar a objetos como funciones, y **\\_ _ int _ _,** **\\_ _ str _ _** y similares, para convertir objetos en tipos integrados."
      ],
      "metadata": {
        "id": "GfR_UGrcmf4E"
      }
    },
    {
      "cell_type": "code",
      "source": [
        "import random\n",
        "\n",
        "class  VagueList:\n",
        "  def __init__ (self, cont):\n",
        "    self.cont = cont\n",
        "  \n",
        "  def __getitem__ (self, index):\n",
        "    return self.cont[index + random.randint(-1, 1)]\n",
        "\n",
        "  def __len__ (self):\n",
        "    return random.randint(0, len(self.cont)*2)\n",
        "\n",
        "vague_list = VagueList([\"A\", \"B\", \"C\", \"D\", \"E\"])\n",
        "print (len(vague_list))\n",
        "print (len(vague_list))\n",
        "print (vague_list[2])\n",
        "print (vague_list[2])"
      ],
      "metadata": {
        "colab": {
          "base_uri": "https://localhost:8080/"
        },
        "id": "r6InfIH7XLb2",
        "outputId": "9015afc9-fc55-4dc2-e136-2b350fa29856"
      },
      "execution_count": null,
      "outputs": [
        {
          "output_type": "stream",
          "name": "stdout",
          "text": [
            "9\n",
            "8\n",
            "C\n",
            "D\n"
          ]
        }
      ]
    },
    {
      "cell_type": "markdown",
      "source": [
        ">> Hemos anulado la función len() para que la clase VagueList devuelva un número aleatorio.\n",
        ">>\n",
        ">> La función de indexación también devuelve un elemento aleatorio en un rango de la lista, según la expresión."
      ],
      "metadata": {
        "id": "MmXkMDErISoy"
      }
    },
    {
      "cell_type": "markdown",
      "source": [
        "## **PROBLEMA**"
      ],
      "metadata": {
        "id": "RcGCMoOOIpXa"
      }
    },
    {
      "cell_type": "markdown",
      "source": [
        "**SOBRECARGA DEL OPERADOR**:\n",
        "\n",
        "Estamos mejorando nuestra aplicación de dibujo.\n",
        "\n",
        "Nuestra aplicación necesita admitir la adición y comparación de dos objetos **Shape**.\n",
        "\n",
        "Agregue los métodos correspondientes para habilitar la suma + y la comparación mediante el operador mayor que > para la clase Shape. \n",
        "\n",
        "La suma debe devolver un nuevo objeto con la suma de los anchos y altos de los operandos, mientras que la comparación debe devolver el resultado de comparar las áreas de los objetos.\n",
        "\n",
        "> El código dado crea dos objetos **Shape** a partir de la entrada del usuario, genera el área () de su adición y los compara."
      ],
      "metadata": {
        "id": "pmn4TC2DIusq"
      }
    },
    {
      "cell_type": "markdown",
      "source": [
        "SOLUCIÓN:"
      ],
      "metadata": {
        "id": "H5XGMGPIIz0h"
      }
    },
    {
      "cell_type": "code",
      "source": [
        "class Shape: \n",
        "    def __init__(self, w, h):\n",
        "        self.width = w\n",
        "        self.height = h\n",
        "\n",
        "    def area(self):\n",
        "        return self.width*self.height # AREA DEL OBJETO SHAPE\n",
        "\n",
        "    #your code goes here\n",
        "    def __add__ (self, other):\n",
        "      return Shape(self.width + other.width, self.height + other.height)  # SUMA DE DOS ANCHOS Y ALTOS\n",
        "\n",
        "    def __gt__ (self, other):\n",
        "      return self.area() > other.area() # COMPARACION DE DOS AREAS\n",
        "    \n",
        "w1 = int(input())\n",
        "h1 = int(input())\n",
        "w2 = int(input())\n",
        "h2 = int(input())\n",
        "\n",
        "s1 = Shape(w1, h1)\n",
        "s2 = Shape(w2, h2)\n",
        "result = s1 + s2\n",
        "\n",
        "print(result.area())\n",
        "print(s1 > s2)"
      ],
      "metadata": {
        "colab": {
          "base_uri": "https://localhost:8080/"
        },
        "id": "NwZJxlijdCyf",
        "outputId": "04f18760-3247-4862-da3b-717658baeb55"
      },
      "execution_count": null,
      "outputs": [
        {
          "output_type": "stream",
          "name": "stdout",
          "text": [
            "2\n",
            "5\n",
            "1\n",
            "3\n",
            "24\n",
            "True\n"
          ]
        }
      ]
    },
    {
      "cell_type": "markdown",
      "source": [
        "# OCULTACION DE DATOS"
      ],
      "metadata": {
        "id": "w4KVsJ4ilB5b"
      }
    },
    {
      "cell_type": "markdown",
      "source": [
        "Una parte clave de la programación orientada a objetos es la **encapsulación**, que implica empaquetar variables y funciones relacionadas en un solo objeto fácil de usar: una instancia de una clase.\n",
        "\n",
        "Un concepto relacionado es la **ocultación de datos** (data hiding), que establece que los detalles de implementación de una clase deben ocultarse y debe presentarse una interfaz estándar limpia para aquellos que desean usar la clase.\n",
        "\n",
        "En otros lenguajes de programación, esto generalmente se hace con métodos y atributos privados, que bloquean el acceso externo a ciertos métodos y atributos en una clase. \n",
        "\n",
        "La filosofía de Python es ligeramente diferente. A menudo se dice que \"aquí todos somos adultos que consienten\", lo que significa que no debe poner restricciones arbitrarias para acceder a partes de una clase. Por lo tanto, no hay forma de hacer cumplir que un método o atributo sea estrictamente privado.\n",
        "\n",
        "> Sin embargo, hay formas de disuadir a las personas de acceder a partes de una clase, como indicar que es un detalle de implementación y que debe usarse bajo su propio riesgo."
      ],
      "metadata": {
        "id": "9hOBikPhlG-c"
      }
    },
    {
      "cell_type": "markdown",
      "source": [
        "Los métodos y atributos débilmente privados tienen **un solo guión bajo** al principio.\n",
        "\n",
        "Esto indica que son privados y no deben ser utilizados por código externo. Sin embargo, en su mayoría es solo una convención y no impide que el código externo acceda a ellos. \n",
        "\n"
      ],
      "metadata": {
        "id": "Hv1nJzBXmfX8"
      }
    },
    {
      "cell_type": "code",
      "source": [
        "class Queue:\n",
        "  def __init__ (self, contents):\n",
        "    self._hiddenlist = list(contents)\n",
        "\n",
        "  def push (self, value):\n",
        "    self._hiddenlist.insert(0, value)  # AÑADIR UN VALOR EN LA POCISION INICIAL (0)\n",
        "\n",
        "  def pop (self):\n",
        "    return self._hiddenlist.pop(-1)  # ELIMINAR DESDE LA ULTIMA POSICIÓN (-1)\n",
        "\n",
        "  def __repr__ (self):\n",
        "    return \"Queue({})\".format (self._hiddenlist)\n",
        "\n",
        "queue = Queue([1, 2, 3])\n",
        "print (queue)\n",
        "queue.push(0)\n",
        "print(queue)\n",
        "queue.pop()\n",
        "print(queue)\n",
        "print(queue._hiddenlist) # SE MARCA EL MÉTODO COMO PRIVADO"
      ],
      "metadata": {
        "id": "G3LEpkpEOUaE",
        "colab": {
          "base_uri": "https://localhost:8080/"
        },
        "outputId": "c917d968-3873-4abb-e0e4-0eaba88ac2e7"
      },
      "execution_count": null,
      "outputs": [
        {
          "output_type": "stream",
          "name": "stdout",
          "text": [
            "Queue([1, 2, 3])\n",
            "Queue([0, 1, 2, 3])\n",
            "Queue([0, 1, 2])\n",
            "[0, 1, 2]\n"
          ]
        }
      ]
    },
    {
      "cell_type": "markdown",
      "source": [
        "> En el código anterior, el atributo **\\_ hiddenlist** está marcado como privado, pero aún se puede acceder a él desde el código externo.\n",
        ">\n",
        "> El método mágico **\\_ _ repr _ _** se utiliza para la representación de cadena de la instancia."
      ],
      "metadata": {
        "id": "YSsnTYLqwYwB"
      }
    },
    {
      "cell_type": "markdown",
      "source": [
        "Los métodos y atributos fuertemente privados tienen un **doble guión bajo** al principio de sus nombres. Esto hace que sus nombres sean manipulados, lo que significa que no se puede acceder a ellos desde fuera de la clase.\n",
        "\n",
        "El proósito de esto no es asegurar que se mantengan privados, sino evitar errores si hay subclases que tienen métodos o atributos con los mismos nombres.\n",
        "\n",
        "Se puede seguir accediendo a los métodos con nombres modificados, pero con un nombre diferente. El método **\\_ _ privatemethod** de la clse **Spam** se puede acceder externamente con **\\_ Spam _ _ privatemethod**.\n",
        "\n",
        "Ejemplo:"
      ],
      "metadata": {
        "id": "npkdpPqju5Ft"
      }
    },
    {
      "cell_type": "code",
      "source": [
        "class Spam:\n",
        "  __egg = 7\n",
        "  def print_egg (self):\n",
        "    print (self.__egg)\n",
        "\n",
        "s = Spam()\n",
        "s.print_egg()\n",
        "print (s._Spam__egg)\n",
        "print (s.__egg)"
      ],
      "metadata": {
        "colab": {
          "base_uri": "https://localhost:8080/",
          "height": 246
        },
        "id": "QRD3QBqVwQVS",
        "outputId": "bf39f583-1ca2-4f3e-d384-128a87479bd0"
      },
      "execution_count": null,
      "outputs": [
        {
          "output_type": "stream",
          "name": "stdout",
          "text": [
            "7\n",
            "7\n"
          ]
        },
        {
          "output_type": "error",
          "ename": "AttributeError",
          "evalue": "ignored",
          "traceback": [
            "\u001b[0;31m---------------------------------------------------------------------------\u001b[0m",
            "\u001b[0;31mAttributeError\u001b[0m                            Traceback (most recent call last)",
            "\u001b[0;32m<ipython-input-4-b8b31b2cd0c5>\u001b[0m in \u001b[0;36m<module>\u001b[0;34m\u001b[0m\n\u001b[1;32m      7\u001b[0m \u001b[0ms\u001b[0m\u001b[0;34m.\u001b[0m\u001b[0mprint_egg\u001b[0m\u001b[0;34m(\u001b[0m\u001b[0;34m)\u001b[0m\u001b[0;34m\u001b[0m\u001b[0;34m\u001b[0m\u001b[0m\n\u001b[1;32m      8\u001b[0m \u001b[0mprint\u001b[0m \u001b[0;34m(\u001b[0m\u001b[0ms\u001b[0m\u001b[0;34m.\u001b[0m\u001b[0m_Spam__egg\u001b[0m\u001b[0;34m)\u001b[0m\u001b[0;34m\u001b[0m\u001b[0;34m\u001b[0m\u001b[0m\n\u001b[0;32m----> 9\u001b[0;31m \u001b[0mprint\u001b[0m \u001b[0;34m(\u001b[0m\u001b[0ms\u001b[0m\u001b[0;34m.\u001b[0m\u001b[0m__egg\u001b[0m\u001b[0;34m)\u001b[0m\u001b[0;34m\u001b[0m\u001b[0;34m\u001b[0m\u001b[0m\n\u001b[0m",
            "\u001b[0;31mAttributeError\u001b[0m: 'Spam' object has no attribute '__egg'"
          ]
        }
      ]
    },
    {
      "cell_type": "markdown",
      "source": [
        ">> Básicamente, Python protege esos miembros cambiando internamente el nombre de la clase."
      ],
      "metadata": {
        "id": "SbFyDmN-xF_0"
      }
    },
    {
      "cell_type": "markdown",
      "source": [
        "## PROBLEMA"
      ],
      "metadata": {
        "id": "HEj-70k8xtR4"
      }
    },
    {
      "cell_type": "markdown",
      "source": [
        "Estamos trabajando en un juego. Nuestra clase **Player** tiene **name** y atributos privados **_ lives**.\n",
        "\n",
        "El método hit() debería disminuir las vidas del jugador en 1. En caso de que las vidas sean iguales a 0, debería generrar **\"Game Over\"**.\n",
        "\n",
        "Completa el método hit() para que el programa funcione como se espera.\n",
        "> El código crea un objeto  **Player** y llama a su método **hit()** varias veces."
      ],
      "metadata": {
        "id": "M8se0gidxvNI"
      }
    },
    {
      "cell_type": "markdown",
      "source": [
        "SOLUCIÓN:"
      ],
      "metadata": {
        "id": "HO9toJhCyyo-"
      }
    },
    {
      "cell_type": "code",
      "source": [
        "class Player:\n",
        "  def __init__(self, name, lives):\n",
        "    self.name = name\n",
        "    self._lives = lives\n",
        "\n",
        "  def hit(self):\n",
        "    self._lives -= 1\n",
        "    if self._lives == 0:\n",
        "      print (\"Game Over\")\n",
        "      \n",
        "######\n",
        "p = Player(\"Cyberpunk77\", 3)\n",
        "p.hit()\n",
        "p.hit()\n",
        "p.hit()"
      ],
      "metadata": {
        "colab": {
          "base_uri": "https://localhost:8080/"
        },
        "id": "Gjy6ZbE1wqUT",
        "outputId": "14136fbe-f6d7-4cac-899d-ce063db78800"
      },
      "execution_count": null,
      "outputs": [
        {
          "output_type": "stream",
          "name": "stdout",
          "text": [
            "Game Over\n"
          ]
        }
      ]
    },
    {
      "cell_type": "markdown",
      "source": [
        "# METODOS DE CLASE"
      ],
      "metadata": {
        "id": "hlQT4W_PBy2H"
      }
    },
    {
      "cell_type": "markdown",
      "source": [
        "Los métodos de los objetos que hemos visto hasta ahora son llamados por una instancia de una clase, que luego se pasa al parámetro **self** del método.\n",
        "\n",
        "Los **métodos de clase** son diferentes -- son llamados por una clase, que pasa al parámetro **cls** del método.\n",
        "\n",
        "Un uso común de estos son los métodos de fábrica, que instancian una instancia de una clase, utilizando parámetros diferentes a los que normalmente se pasan al constructor de la clase.\n",
        "\n",
        "Los métodos de clase están marcados con un **decorador classmethod**."
      ],
      "metadata": {
        "id": "AJfd7EChB17Z"
      }
    },
    {
      "cell_type": "code",
      "source": [
        "class Rectangle:\n",
        "  def __init__ (self, width, height):\n",
        "    self.width = width\n",
        "    self.height = height\n",
        "\n",
        "  def calculate_area (self):\n",
        "    return self.width * self.height\n",
        "\n",
        "  @classmethod\n",
        "  def new_square (cls, side_length):\n",
        "    return cls (side_length, side_length)\n",
        "\n",
        "\n",
        "square = Rectangle.new_square(5)\n",
        "print (square.calculate_area())\n"
      ],
      "metadata": {
        "id": "EYrVTPjz1Sk0",
        "colab": {
          "base_uri": "https://localhost:8080/"
        },
        "outputId": "75c133ba-23a4-4d45-bc1f-abdfd41d7d4f"
      },
      "execution_count": null,
      "outputs": [
        {
          "output_type": "stream",
          "name": "stdout",
          "text": [
            "25\n"
          ]
        }
      ]
    },
    {
      "cell_type": "markdown",
      "source": [
        "**new_square** es un método de clase y se llama en la clase, en lugar de en una instancia de la clase. Devuelve un nuevo objeto de la clase **cls**.\n",
        "\n",
        "> Técnicamente, los parámetros **self** y **cls** son solo convenciones; podrían cambiarse por cualquier otra cosa. Sin embargo, se siguen universalmente, por lo que es aconsejable seguir usándolos."
      ],
      "metadata": {
        "id": "enEONw9Jizcn"
      }
    },
    {
      "cell_type": "markdown",
      "source": [
        "# MÉTODOS ESTÁTICOS"
      ],
      "metadata": {
        "id": "esSPMmWoE4x5"
      }
    },
    {
      "cell_type": "markdown",
      "source": [
        "Los **métodos estáticos** son similares a los métodos de las clase, excepto que no reciben ningún argumento adicional; son identicos a las funciones normales que pertenecen a una clase.\n",
        "\n",
        "Están marcadas con el decorador **staticmethod**"
      ],
      "metadata": {
        "id": "89zmB-8dE7Oh"
      }
    },
    {
      "cell_type": "code",
      "source": [
        "class Pizza:\n",
        "  def __init__(self, toppings):\n",
        "    self.toppings = toppings\n",
        "\n",
        "  @staticmethod\n",
        "  def validate_topping(topping):\n",
        "    if topping == \"pineapple\":\n",
        "      raise ValueError (\"No pineapples!\")\n",
        "    else:\n",
        "      return True\n",
        "\n",
        "ingredients = [\"cheese\", \"onios\", \"spam\"]\n",
        "if all(Pizza.validate_topping(i) for i in ingredients):\n",
        "  pizza = Pizza(ingredients)"
      ],
      "metadata": {
        "id": "7_54z3mNiaZj"
      },
      "execution_count": null,
      "outputs": []
    },
    {
      "cell_type": "markdown",
      "source": [
        "> Los métodos estáticos se comportan como las funciones simples, excepto por el hecho de que puedes llamarlos desde una instancia de la clase."
      ],
      "metadata": {
        "id": "3qdq5OESGys6"
      }
    },
    {
      "cell_type": "markdown",
      "source": [
        "**PROBLEMA:**\n",
        "\n",
        "El código dado toma 2 números como entrada y llama al método estático **area()** de la clse **Shape**, para obtener el área de la forma, que es igual a la altura multiplicada por la anchura.\n",
        "\n",
        "Para que el código funcione, es necesario definir la clase Shape, y el método estático area(), que debería devolver la multiplicación de sus dos argumentos.\n",
        "\n",
        ">> Usa el decorador **@staticmethod** para definir un método estático."
      ],
      "metadata": {
        "id": "ZVCf_0cQHK0b"
      }
    },
    {
      "cell_type": "markdown",
      "source": [
        "SOLUCION:"
      ],
      "metadata": {
        "id": "msAsYKCKH2BD"
      }
    },
    {
      "cell_type": "code",
      "source": [
        "class Shape:\n",
        "  def __init__ (self, width, height):\n",
        "    self.width = width\n",
        "    self.height = height\n",
        "\n",
        "  @staticmethod\n",
        "  def area(w, h):\n",
        "    return w * h\n",
        "\n",
        "\n",
        "w = int(input())\n",
        "h = int(input())\n",
        "\n",
        "print (Shape.area(w, h))"
      ],
      "metadata": {
        "colab": {
          "base_uri": "https://localhost:8080/"
        },
        "id": "JwqvhX-fGlJj",
        "outputId": "39a4067d-03c2-41d2-d2af-7e172d5e1167"
      },
      "execution_count": null,
      "outputs": [
        {
          "output_type": "stream",
          "name": "stdout",
          "text": [
            "2\n",
            "6\n",
            "12\n"
          ]
        }
      ]
    },
    {
      "cell_type": "markdown",
      "source": [
        "# PROPIEDADES"
      ],
      "metadata": {
        "id": "_I_kFL48J-ld"
      }
    },
    {
      "cell_type": "markdown",
      "source": [
        "Las **Propiedades** proporcionan una forma de personalizar el acceso a los atributos de la instancia.\n",
        "\n",
        "Se crean poniendo el decorador **property** por encima de un método, lo que significa que cuando se accede al atributo de instancia con el mismo nombre que el método, se llamará al método en su lugar.\n",
        "\n",
        "Un uso común de una propiedad es hacer que un atributo sea de **solo lectura.**"
      ],
      "metadata": {
        "id": "68XDGXSuKAuF"
      }
    },
    {
      "cell_type": "code",
      "source": [
        "class Pizza:\n",
        "  def __init__ (self, toppings):\n",
        "    self.toppings = toppings\n",
        "\n",
        "  @property\n",
        "  def pineapple_allowed (self):\n",
        "    return False\n",
        "\n",
        "pizza = Pizza ([\"cheese\", \"tomato\"])\n",
        "print (pizza.pineapple_allowed)\n",
        "pizza.pineapple_allowed = True"
      ],
      "metadata": {
        "colab": {
          "base_uri": "https://localhost:8080/",
          "height": 227
        },
        "id": "aiCebKKjI2-B",
        "outputId": "e2485261-1e7b-4b3b-e867-54b839c1eded"
      },
      "execution_count": null,
      "outputs": [
        {
          "output_type": "stream",
          "name": "stdout",
          "text": [
            "False\n"
          ]
        },
        {
          "output_type": "error",
          "ename": "AttributeError",
          "evalue": "ignored",
          "traceback": [
            "\u001b[0;31m---------------------------------------------------------------------------\u001b[0m",
            "\u001b[0;31mAttributeError\u001b[0m                            Traceback (most recent call last)",
            "\u001b[0;32m<ipython-input-8-d7adea6fa9c4>\u001b[0m in \u001b[0;36m<module>\u001b[0;34m\u001b[0m\n\u001b[1;32m      9\u001b[0m \u001b[0mpizza\u001b[0m \u001b[0;34m=\u001b[0m \u001b[0mPizza\u001b[0m \u001b[0;34m(\u001b[0m\u001b[0;34m[\u001b[0m\u001b[0;34m\"cheese\"\u001b[0m\u001b[0;34m,\u001b[0m \u001b[0;34m\"tomato\"\u001b[0m\u001b[0;34m]\u001b[0m\u001b[0;34m)\u001b[0m\u001b[0;34m\u001b[0m\u001b[0;34m\u001b[0m\u001b[0m\n\u001b[1;32m     10\u001b[0m \u001b[0mprint\u001b[0m \u001b[0;34m(\u001b[0m\u001b[0mpizza\u001b[0m\u001b[0;34m.\u001b[0m\u001b[0mpineapple_allowed\u001b[0m\u001b[0;34m)\u001b[0m\u001b[0;34m\u001b[0m\u001b[0;34m\u001b[0m\u001b[0m\n\u001b[0;32m---> 11\u001b[0;31m \u001b[0mpizza\u001b[0m\u001b[0;34m.\u001b[0m\u001b[0mpineapple_allowed\u001b[0m \u001b[0;34m=\u001b[0m \u001b[0;32mTrue\u001b[0m\u001b[0;34m\u001b[0m\u001b[0;34m\u001b[0m\u001b[0m\n\u001b[0m",
            "\u001b[0;31mAttributeError\u001b[0m: can't set attribute"
          ]
        }
      ]
    },
    {
      "cell_type": "code",
      "source": [],
      "metadata": {
        "id": "0A3XF89_Yvmn"
      },
      "execution_count": null,
      "outputs": []
    }
  ]
}