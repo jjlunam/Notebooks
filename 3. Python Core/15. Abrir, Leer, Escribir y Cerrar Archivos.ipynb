{
 "cells": [
  {
   "cell_type": "markdown",
   "id": "6b58027b",
   "metadata": {},
   "source": [
    "# ABRIR ARCHIVOS"
   ]
  },
  {
   "cell_type": "markdown",
   "id": "c4afeb74",
   "metadata": {},
   "source": [
    "Puede usar Python para leer y escribir el contenido de los **archivos**.\n",
    "Los archivos de texto son los más faciles de manipular. Antes de que se pueda editar un archivo, se debe abrir con la función **open**."
   ]
  },
  {
   "cell_type": "markdown",
   "id": "db24ab06",
   "metadata": {},
   "source": [
    "* El argumento de la función **open** es la **ruta** del archivo. Si el archivo está en el directorio de trabajo actual del programa, solo puede especificar el nombre."
   ]
  },
  {
   "cell_type": "code",
   "execution_count": null,
   "id": "0851723e",
   "metadata": {},
   "outputs": [],
   "source": [
    "myfile = open (\"filename.txt\")"
   ]
  },
  {
   "cell_type": "markdown",
   "id": "c16ae706",
   "metadata": {},
   "source": [
    "Puede especificar el **modo** utilizado para abrir un archivo aplicando un segundo argumento a la función de **apertura**.\n",
    "\n",
    "Enviar **\"r\"** significa abrir en modo lectura, que es el predeterminado.\n",
    "\n",
    "Enviar **\"w\"** significa modo de escritura, para reescribir el contenido de un archivo.\n",
    "\n",
    "Enviar **\"a\"** significa modo de adición, para agregar contenido nuevo al final del archivo. Agregar **\"b\"** a un modo lo abre en modo **binario**, que se usa para archivos que no son de texto (como archivos de imagen y sonido). Por ejemplo:"
   ]
  },
  {
   "cell_type": "code",
   "execution_count": null,
   "id": "e2211945",
   "metadata": {},
   "outputs": [],
   "source": [
    "#write mode\n",
    "open (\"filename.txt\", \"w\")"
   ]
  },
  {
   "cell_type": "code",
   "execution_count": null,
   "id": "4e5eaeec",
   "metadata": {},
   "outputs": [],
   "source": [
    "#read mode\n",
    "open (\"filename.txt\", \"r\")"
   ]
  },
  {
   "cell_type": "code",
   "execution_count": null,
   "id": "d2226f7b",
   "metadata": {},
   "outputs": [],
   "source": [
    "open (\"filename.txt\")"
   ]
  },
  {
   "cell_type": "code",
   "execution_count": null,
   "id": "3b3575e5",
   "metadata": {},
   "outputs": [],
   "source": [
    "#binary mode\n",
    "open (\"filename.txt\", \"wb\")"
   ]
  },
  {
   "cell_type": "markdown",
   "id": "537583ad",
   "metadata": {},
   "source": [
    "* Se puede usar el signo + con cada uno de los modos anteriores para darles acceso adicional a los archivos. Por ejemplo r+ abre el archivo para lectura y escritura"
   ]
  },
  {
   "cell_type": "markdown",
   "id": "8b82ae41",
   "metadata": {},
   "source": [
    "Una vez que se ha abierto y utilizado un archivo, debe cerrarlo. Esto se hace con el método de cierre del objeto de archivo."
   ]
  },
  {
   "cell_type": "code",
   "execution_count": null,
   "id": "807ae80c",
   "metadata": {},
   "outputs": [],
   "source": [
    "file = open (\"filename.txt\", \"w\")\n",
    "#Hacer algo con el archivo\n",
    "file.close()"
   ]
  },
  {
   "cell_type": "markdown",
   "id": "11ba115b",
   "metadata": {},
   "source": [
    "# LECTURA DE ARCHIVOS"
   ]
  },
  {
   "cell_type": "markdown",
   "id": "8ff2216f",
   "metadata": {},
   "source": [
    "Para leer solo una cierta cantidad de bytes de un archivo, puede proporcionar un número como argumento para la función de lectura **read**. Esto determina el número de **bytes** que se deben leer.\n",
    "\n",
    "Puede realizar más llamadas **read** en el mismo objeto de archivo para leer más del archivo byte por byte. Sin argumentos, **read** devuelve el resto del archivo.\n",
    "\n",
    "* Al igual que no pasar argumentos, los valores negativos devolverán el contenido completo."
   ]
  },
  {
   "cell_type": "code",
   "execution_count": null,
   "id": "595cff33",
   "metadata": {},
   "outputs": [],
   "source": [
    "file = open (\"filename.txt\", \"r\")"
   ]
  },
  {
   "cell_type": "code",
   "execution_count": null,
   "id": "a1270eaa",
   "metadata": {},
   "outputs": [],
   "source": [
    "print (file.read(16))"
   ]
  },
  {
   "cell_type": "code",
   "execution_count": null,
   "id": "992a4f41",
   "metadata": {},
   "outputs": [],
   "source": [
    "print (file.read(4))"
   ]
  },
  {
   "cell_type": "code",
   "execution_count": null,
   "id": "102a615f",
   "metadata": {},
   "outputs": [],
   "source": [
    "print (file.read(4))"
   ]
  },
  {
   "cell_type": "code",
   "execution_count": null,
   "id": "05bfcae9",
   "metadata": {},
   "outputs": [],
   "source": [
    "print (file.read())"
   ]
  },
  {
   "cell_type": "code",
   "execution_count": null,
   "id": "8f1d521a",
   "metadata": {},
   "outputs": [],
   "source": [
    "file.close() #PARA CERRAR"
   ]
  },
  {
   "cell_type": "markdown",
   "id": "fbd2338e",
   "metadata": {},
   "source": [
    "Después de que se haya leído todo el contenido de un archivo, cualquier intento de leer más de ese archivo devolverá una cadena vacía, porque está intentando leer desde el final del archivo."
   ]
  },
  {
   "cell_type": "code",
   "execution_count": null,
   "id": "51a0a292",
   "metadata": {},
   "outputs": [],
   "source": [
    "file = open (\"filename.txt\", \"r\")\n",
    "file.read()\n",
    "print (\"Re-reading\")\n",
    "print (file.read())\n",
    "print (\"Finished\")\n",
    "file.close()"
   ]
  },
  {
   "cell_type": "markdown",
   "id": "193a6444",
   "metadata": {},
   "source": [
    " * Al igual que no pasar argumentos, los valores negativos devolverán el contenido completo."
   ]
  },
  {
   "cell_type": "markdown",
   "id": "b9324dd1",
   "metadata": {},
   "source": [
    "Para recuperar cada línea en un archivo, puede usar el método **readlines** para devollver una lista en la que cada elemento es una linea en el archivo.\n",
    "Por ejemplo:"
   ]
  },
  {
   "cell_type": "code",
   "execution_count": 1,
   "id": "8320f8b1",
   "metadata": {},
   "outputs": [
    {
     "name": "stdout",
     "output_type": "stream",
     "text": [
      "['HOLA_MUNDO_BIENVENIDOS_A_TODOS\\n', '1\\n', '2\\n', '3\\n', '4\\n', '5']\n"
     ]
    }
   ],
   "source": [
    "file = open (\"filename.txt\", \"r\")\n",
    "print (file.readlines())\n",
    "file.close()"
   ]
  },
  {
   "cell_type": "markdown",
   "id": "0867c1be",
   "metadata": {},
   "source": [
    "También puede usar un bucle **for** para iterar a través de las líneas en el archivo:"
   ]
  },
  {
   "cell_type": "code",
   "execution_count": 2,
   "id": "43b5202d",
   "metadata": {},
   "outputs": [
    {
     "name": "stdout",
     "output_type": "stream",
     "text": [
      "HOLA_MUNDO_BIENVENIDOS_A_TODOS\n",
      "\n",
      "1\n",
      "\n",
      "2\n",
      "\n",
      "3\n",
      "\n",
      "4\n",
      "\n",
      "5\n"
     ]
    }
   ],
   "source": [
    "file = open (\"filename.txt\", \"r\")\n",
    "for line in file:\n",
    "    print (line)\n",
    "file.close()"
   ]
  },
  {
   "cell_type": "markdown",
   "id": "9fa7900f",
   "metadata": {},
   "source": [
    "* En la salida, las líneas están separadas por líneas en blanco, ya que la función de **print** agrega automáticamente una nueva línea al final de su salida."
   ]
  },
  {
   "cell_type": "markdown",
   "id": "fc40b785",
   "metadata": {},
   "source": [
    "# ESCRIBIR ARCHIVOS"
   ]
  },
  {
   "cell_type": "markdown",
   "id": "a6910ade",
   "metadata": {},
   "source": [
    "Para escribir en archivos, utiliza el método **write** , que escribe una cadena en el archivo.\n",
    "Por ejemplo:"
   ]
  },
  {
   "cell_type": "code",
   "execution_count": null,
   "id": "acc8bd52",
   "metadata": {},
   "outputs": [],
   "source": [
    "file = open (\"newfile.txt\", \"w\") # El modo \"w\" creará un archivo si aún no existe\n",
    "file.write (\"Esto se ha escrito en el archivo\")\n",
    "file.close()"
   ]
  },
  {
   "cell_type": "code",
   "execution_count": null,
   "id": "c9495523",
   "metadata": {},
   "outputs": [],
   "source": [
    "file = open (\"newfile.txt\", \"r\")\n",
    "print (file.read())\n",
    "file.close()"
   ]
  },
  {
   "cell_type": "markdown",
   "id": "f817d1ef",
   "metadata": {},
   "source": [
    "Cuando se abre un archivo en modo de escritura, se elimina el contenido existente del archivo."
   ]
  },
  {
   "cell_type": "code",
   "execution_count": null,
   "id": "7ba5558d",
   "metadata": {},
   "outputs": [],
   "source": [
    "file = open (\"newfile.txt\", \"r\")\n",
    "print (\"Leyendo contenido inicial\")\n",
    "print (file.read())\n",
    "print (\"Terminado\")\n",
    "file.close()"
   ]
  },
  {
   "cell_type": "code",
   "execution_count": null,
   "id": "7757fec5",
   "metadata": {},
   "outputs": [],
   "source": [
    "file = open (\"newfile.txt\", \"w\")\n",
    "file.write (\"Algún texto nuevo\")\n",
    "file.close()"
   ]
  },
  {
   "cell_type": "code",
   "execution_count": null,
   "id": "b10665d9",
   "metadata": {},
   "outputs": [],
   "source": [
    "file = open(\"newfile.txt\", \"r\")\n",
    "print (\"Leyendo el nuevo contenido\")\n",
    "print (file.read())\n",
    "print (\"Terminado\")\n",
    "file.close()"
   ]
  },
  {
   "cell_type": "markdown",
   "id": "e99ac7f6",
   "metadata": {},
   "source": [
    "* El contenido se ha sobreescrito."
   ]
  },
  {
   "cell_type": "markdown",
   "id": "9d92e5c3",
   "metadata": {},
   "source": [
    "El método **write** devuelve el número de **bytes** escritos en un archivo, si tiene éxito."
   ]
  },
  {
   "cell_type": "code",
   "execution_count": null,
   "id": "b039e57e",
   "metadata": {},
   "outputs": [],
   "source": [
    "msj = \"Hello world!\"\n",
    "file = open (\"newfile.txt\", \"w\")\n",
    "cantidad_escrita = file.write (msj)\n",
    "print (cantidad_escrita)\n",
    "file.close()"
   ]
  },
  {
   "cell_type": "markdown",
   "id": "e1953c9b",
   "metadata": {},
   "source": [
    "* Para escribir algo que no sea una cadena, primero debe convertirse en una cadena."
   ]
  },
  {
   "cell_type": "code",
   "execution_count": null,
   "id": "effcc97b",
   "metadata": {},
   "outputs": [],
   "source": []
  }
 ],
 "metadata": {
  "kernelspec": {
   "display_name": "Python 3 (ipykernel)",
   "language": "python",
   "name": "python3"
  },
  "language_info": {
   "codemirror_mode": {
    "name": "ipython",
    "version": 3
   },
   "file_extension": ".py",
   "mimetype": "text/x-python",
   "name": "python",
   "nbconvert_exporter": "python",
   "pygments_lexer": "ipython3",
   "version": "3.9.7"
  }
 },
 "nbformat": 4,
 "nbformat_minor": 5
}
