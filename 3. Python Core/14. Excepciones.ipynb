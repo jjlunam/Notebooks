{
 "cells": [
  {
   "cell_type": "markdown",
   "id": "aaed553c",
   "metadata": {},
   "source": [
    "# EXCEPCIONES"
   ]
  },
  {
   "cell_type": "markdown",
   "id": "dc95737c",
   "metadata": {},
   "source": [
    "Ya ha visto **excepciones** en el código anterior. Ocurren cuando algo sale mal, debido a un código o entrada incorrectos. Cuando ocurre una excepción, el programa se detiene inmediatamente.\n",
    "\n",
    "El siguiente código genera la excepción ZeroDivisionError al intentar dividir 7 entre 0."
   ]
  },
  {
   "cell_type": "code",
   "execution_count": 1,
   "id": "4f4c09e3",
   "metadata": {},
   "outputs": [
    {
     "ename": "ZeroDivisionError",
     "evalue": "division by zero",
     "output_type": "error",
     "traceback": [
      "\u001b[1;31m---------------------------------------------------------------------------\u001b[0m",
      "\u001b[1;31mZeroDivisionError\u001b[0m                         Traceback (most recent call last)",
      "\u001b[1;32m~\\AppData\\Local\\Temp/ipykernel_11396/2377889827.py\u001b[0m in \u001b[0;36m<module>\u001b[1;34m\u001b[0m\n\u001b[0;32m      1\u001b[0m \u001b[0mnum1\u001b[0m \u001b[1;33m=\u001b[0m \u001b[1;36m7\u001b[0m\u001b[1;33m\u001b[0m\u001b[1;33m\u001b[0m\u001b[0m\n\u001b[0;32m      2\u001b[0m \u001b[0mnum2\u001b[0m \u001b[1;33m=\u001b[0m \u001b[1;36m0\u001b[0m\u001b[1;33m\u001b[0m\u001b[1;33m\u001b[0m\u001b[0m\n\u001b[1;32m----> 3\u001b[1;33m \u001b[0mprint\u001b[0m \u001b[1;33m(\u001b[0m\u001b[0mnum1\u001b[0m \u001b[1;33m/\u001b[0m \u001b[0mnum2\u001b[0m\u001b[1;33m)\u001b[0m\u001b[1;33m\u001b[0m\u001b[1;33m\u001b[0m\u001b[0m\n\u001b[0m",
      "\u001b[1;31mZeroDivisionError\u001b[0m: division by zero"
     ]
    }
   ],
   "source": [
    "num1 = 7\n",
    "num2 = 0\n",
    "print (num1 / num2)"
   ]
  },
  {
   "cell_type": "markdown",
   "id": "4bb3fd87",
   "metadata": {},
   "source": [
    "Se plantean diferentes excepciones por diferentes razones.\n",
    "Excepciones comunes:\n",
    "\n",
    "* **ImportError**: una importación fallida;\n",
    "* **IndexError**: una lista está indexada con un número fuera de rango;\n",
    "* **NameError**: se utiliza una variable desconocida;\n",
    "* **TypeError**: se llama a una función en un valor de un tipo inapropiado;\n",
    "* **ValueError**: se llama a una función sobre un valor del tipo correcto, pero con un valor inapropiado.\n",
    "\n",
    "Python tiene otras excepciones integradas, como ZeroDivisionError y OSError. Las bibliotecas de terceros también suelen definir sus propias excepciones.\n"
   ]
  },
  {
   "cell_type": "markdown",
   "id": "922c6f2a",
   "metadata": {},
   "source": [
    "# MANEJO DE EXCEPCIONES"
   ]
  },
  {
   "cell_type": "markdown",
   "id": "59332b77",
   "metadata": {},
   "source": [
    "Para controlar las excepciones y llamar al código cuando se produce una excepción, puede utilizar una sentencia **try/except**.\n",
    "\n",
    "El bloque **try** contiene código que podría generar una excepción. Si se produce esa excepción, el código del bloque de **try** deja de ejecutarse y se ejecuta el código del bloque de **except**. Si no se produce ningún error, el código del bloque **except** no se ejecuta."
   ]
  },
  {
   "cell_type": "markdown",
   "id": "1ca5a46c",
   "metadata": {},
   "source": [
    "* La declaración except define el tipo de excepción a manejar (en nuestro caso, **ZeroDivisionError**)."
   ]
  },
  {
   "cell_type": "code",
   "execution_count": 4,
   "id": "65732067",
   "metadata": {},
   "outputs": [
    {
     "name": "stdout",
     "output_type": "stream",
     "text": [
      "Ocurrió un error\n",
      "Debido a dividir entre cero\n"
     ]
    }
   ],
   "source": [
    "try:\n",
    "    num1 = 7\n",
    "    num2 = 0\n",
    "    print (num1 / num2)\n",
    "    print (\"Cálculo realizado\")\n",
    "except ZeroDivisionError:\n",
    "    print (\"Ocurrió un error\")\n",
    "    print (\"Debido a dividir entre cero\")"
   ]
  },
  {
   "cell_type": "markdown",
   "id": "8a7f7dc5",
   "metadata": {},
   "source": [
    "Una declaración **try** puede tener múltiples bloques **except** diferentes para manejar diferentes excepciones.\n",
    "\n",
    "Las excepciones múltiples también se pueden poner en un solo bloque **except** usando paréntesis, para que el bloque **except** las maneje todas."
   ]
  },
  {
   "cell_type": "code",
   "execution_count": 9,
   "id": "ecd29c47",
   "metadata": {},
   "outputs": [
    {
     "name": "stdout",
     "output_type": "stream",
     "text": [
      "Error ocurrido\n"
     ]
    }
   ],
   "source": [
    "try:\n",
    "    variable = 10\n",
    "    print (variable + \"Hello\")\n",
    "    print (variable / 2)\n",
    "except ZeroDivisionError:\n",
    "    print (\"Dividido por cero\")\n",
    "except (ValueError, TypeError):\n",
    "    print (\"Error ocurrido\")"
   ]
  },
  {
   "cell_type": "markdown",
   "id": "4c82493a",
   "metadata": {},
   "source": [
    "Una declaración **except** sin ninguna excepción especificada detectará todos los errores. Estos deben usarse con moderación, ya que pueden detectar errores inesperados y ocultar errores de programación.\n",
    "\n",
    "* El manejo de excepciones es particularmente útil cuando se trata de la entrada del usuario."
   ]
  },
  {
   "cell_type": "code",
   "execution_count": 11,
   "id": "a1664549",
   "metadata": {},
   "outputs": [
    {
     "name": "stdout",
     "output_type": "stream",
     "text": [
      "Ocurrió un error\n"
     ]
    }
   ],
   "source": [
    "try:\n",
    "    word = \"spam\"\n",
    "    print (word / 0)\n",
    "except:\n",
    "    print (\"Ocurrió un error\")"
   ]
  },
  {
   "cell_type": "markdown",
   "id": "fa66d443",
   "metadata": {},
   "source": [
    "# FINALLY"
   ]
  },
  {
   "cell_type": "markdown",
   "id": "51fc6062",
   "metadata": {},
   "source": [
    "Para asegurarse de que parte del código se ejecute independientemente de los errores que se produzcan, puede utilizar una instrucción **finally** . La declaración **finally** se coloca al final de una declaración de **try/except**. \n",
    "\n",
    "El código dentro de una declaración **finally** siempre se ejecuta después de la ejecución del código en los bloques **try** y posiblemente en los bloques **except** ."
   ]
  },
  {
   "cell_type": "code",
   "execution_count": 12,
   "id": "98576109",
   "metadata": {},
   "outputs": [
    {
     "name": "stdout",
     "output_type": "stream",
     "text": [
      "Hello\n",
      "Dividido entre cero\n",
      "Este código se ejecutará pase lo que pase\n"
     ]
    }
   ],
   "source": [
    "try:\n",
    "    print (\"Hello\")\n",
    "    print (1 / 0)\n",
    "except ZeroDivisionError:\n",
    "    print (\"Dividido entre cero\")\n",
    "finally:\n",
    "    print (\"Este código se ejecutará pase lo que pase\")"
   ]
  },
  {
   "cell_type": "markdown",
   "id": "c9969225",
   "metadata": {},
   "source": [
    "El código en una instrucción **finally** se ejecuta incluso si se produce una excepción no detectada en uno de los bloques anteriores."
   ]
  },
  {
   "cell_type": "code",
   "execution_count": 1,
   "id": "e02b40d1",
   "metadata": {
    "scrolled": true
   },
   "outputs": [
    {
     "name": "stdout",
     "output_type": "stream",
     "text": [
      "1\n",
      "variable_desconocida\n",
      "Esto se ejecuta al final\n"
     ]
    }
   ],
   "source": [
    "try:\n",
    "    print (1)\n",
    "    print (10 / 0)\n",
    "except ZeroDivisionError: \n",
    "    print (\"variable_desconocida\")\n",
    "finally:\n",
    "    print (\"Esto se ejecuta al final\")"
   ]
  },
  {
   "cell_type": "markdown",
   "id": "32216dc1",
   "metadata": {},
   "source": [
    "# GENERAR EXCEPCIONES"
   ]
  },
  {
   "cell_type": "markdown",
   "id": "1edfdf57",
   "metadata": {},
   "source": [
    "Puede generar excepciones utilizando la declaración **raise**.\n",
    "* Debe especificar el **tipo** de excepción aumentada."
   ]
  },
  {
   "cell_type": "code",
   "execution_count": 4,
   "id": "fca7ef90",
   "metadata": {},
   "outputs": [
    {
     "name": "stdout",
     "output_type": "stream",
     "text": [
      "1\n"
     ]
    },
    {
     "ename": "ValueError",
     "evalue": "",
     "output_type": "error",
     "traceback": [
      "\u001b[1;31m---------------------------------------------------------------------------\u001b[0m",
      "\u001b[1;31mValueError\u001b[0m                                Traceback (most recent call last)",
      "\u001b[1;32m~\\AppData\\Local\\Temp/ipykernel_1120/2651061741.py\u001b[0m in \u001b[0;36m<module>\u001b[1;34m\u001b[0m\n\u001b[0;32m      1\u001b[0m \u001b[0mprint\u001b[0m \u001b[1;33m(\u001b[0m\u001b[1;36m1\u001b[0m\u001b[1;33m)\u001b[0m\u001b[1;33m\u001b[0m\u001b[1;33m\u001b[0m\u001b[0m\n\u001b[1;32m----> 2\u001b[1;33m \u001b[1;32mraise\u001b[0m \u001b[0mValueError\u001b[0m\u001b[1;33m\u001b[0m\u001b[1;33m\u001b[0m\u001b[0m\n\u001b[0m\u001b[0;32m      3\u001b[0m \u001b[0mprint\u001b[0m \u001b[1;33m(\u001b[0m\u001b[1;36m2\u001b[0m\u001b[1;33m)\u001b[0m\u001b[1;33m\u001b[0m\u001b[1;33m\u001b[0m\u001b[0m\n",
      "\u001b[1;31mValueError\u001b[0m: "
     ]
    }
   ],
   "source": [
    "print (1)\n",
    "raise ValueError\n",
    "print (2)"
   ]
  },
  {
   "cell_type": "markdown",
   "id": "1c0423c5",
   "metadata": {},
   "source": [
    "Las excepciones se pueden generar con argumentos que den detalles sobre ellas."
   ]
  },
  {
   "cell_type": "code",
   "execution_count": 17,
   "id": "8feaab67",
   "metadata": {},
   "outputs": [
    {
     "ename": "NameError",
     "evalue": "¡Nombre no válido!",
     "output_type": "error",
     "traceback": [
      "\u001b[1;31m---------------------------------------------------------------------------\u001b[0m",
      "\u001b[1;31mNameError\u001b[0m                                 Traceback (most recent call last)",
      "\u001b[1;32m~\\AppData\\Local\\Temp/ipykernel_11396/3630261124.py\u001b[0m in \u001b[0;36m<module>\u001b[1;34m\u001b[0m\n\u001b[0;32m      1\u001b[0m \u001b[0mnumero\u001b[0m \u001b[1;33m=\u001b[0m \u001b[1;34m\"123\"\u001b[0m\u001b[1;33m\u001b[0m\u001b[1;33m\u001b[0m\u001b[0m\n\u001b[1;32m----> 2\u001b[1;33m \u001b[1;32mraise\u001b[0m \u001b[0mNameError\u001b[0m \u001b[1;33m(\u001b[0m\u001b[1;34m\"¡Nombre no válido!\"\u001b[0m\u001b[1;33m)\u001b[0m\u001b[1;33m\u001b[0m\u001b[1;33m\u001b[0m\u001b[0m\n\u001b[0m",
      "\u001b[1;31mNameError\u001b[0m: ¡Nombre no válido!"
     ]
    }
   ],
   "source": [
    "numero = \"123\"\n",
    "raise NameError (\"¡Nombre no válido!\")"
   ]
  },
  {
   "cell_type": "markdown",
   "id": "51f4ef93",
   "metadata": {},
   "source": [
    "En los bloques **except**, la declaración **raise** se puede usar sin argumentos para volver a generar cualquier excepción que haya ocurrido."
   ]
  },
  {
   "cell_type": "code",
   "execution_count": 20,
   "id": "d8985012",
   "metadata": {},
   "outputs": [
    {
     "name": "stdout",
     "output_type": "stream",
     "text": [
      "Ocurrió un error\n"
     ]
    },
    {
     "ename": "ZeroDivisionError",
     "evalue": "division by zero",
     "output_type": "error",
     "traceback": [
      "\u001b[1;31m---------------------------------------------------------------------------\u001b[0m",
      "\u001b[1;31mZeroDivisionError\u001b[0m                         Traceback (most recent call last)",
      "\u001b[1;32m~\\AppData\\Local\\Temp/ipykernel_11396/865523062.py\u001b[0m in \u001b[0;36m<module>\u001b[1;34m\u001b[0m\n\u001b[0;32m      1\u001b[0m \u001b[1;32mtry\u001b[0m\u001b[1;33m:\u001b[0m\u001b[1;33m\u001b[0m\u001b[1;33m\u001b[0m\u001b[0m\n\u001b[1;32m----> 2\u001b[1;33m     \u001b[0mnum\u001b[0m \u001b[1;33m=\u001b[0m \u001b[1;36m5\u001b[0m \u001b[1;33m/\u001b[0m \u001b[1;36m0\u001b[0m\u001b[1;33m\u001b[0m\u001b[1;33m\u001b[0m\u001b[0m\n\u001b[0m\u001b[0;32m      3\u001b[0m \u001b[1;32mexcept\u001b[0m\u001b[1;33m:\u001b[0m\u001b[1;33m\u001b[0m\u001b[1;33m\u001b[0m\u001b[0m\n\u001b[0;32m      4\u001b[0m     \u001b[0mprint\u001b[0m \u001b[1;33m(\u001b[0m\u001b[1;34m\"Ocurrió un error\"\u001b[0m\u001b[1;33m)\u001b[0m\u001b[1;33m\u001b[0m\u001b[1;33m\u001b[0m\u001b[0m\n\u001b[0;32m      5\u001b[0m     \u001b[1;32mraise\u001b[0m\u001b[1;33m\u001b[0m\u001b[1;33m\u001b[0m\u001b[0m\n",
      "\u001b[1;31mZeroDivisionError\u001b[0m: division by zero"
     ]
    }
   ],
   "source": [
    "try:\n",
    "    num = 5 / 0\n",
    "except:\n",
    "    print (\"Ocurrió un error\")\n",
    "    raise"
   ]
  },
  {
   "cell_type": "markdown",
   "id": "fc1b3a84",
   "metadata": {},
   "source": [
    "# AFIRMACIONES"
   ]
  },
  {
   "cell_type": "markdown",
   "id": "983671d5",
   "metadata": {},
   "source": [
    "Un **assertion** es una verificación que se puede activar o desactivar cuando haya terminado de probar el programa.\n",
    "\n",
    "Se prueba una expresión y, si el resultado es falso, se genera una excepción.\n",
    "\n",
    "Las aserciones se llevan a cabo mediante el uso de la declaración de afirmación **assert**.\n",
    "\n",
    "* Los programadores a menudo colocan afirmaciones al comienzo de una función para verificar una entrada válida y después de una llamada de función para verificar una salida válida."
   ]
  },
  {
   "cell_type": "code",
   "execution_count": 21,
   "id": "d283641f",
   "metadata": {
    "scrolled": false
   },
   "outputs": [
    {
     "name": "stdout",
     "output_type": "stream",
     "text": [
      "1\n",
      "2\n"
     ]
    },
    {
     "ename": "AssertionError",
     "evalue": "",
     "output_type": "error",
     "traceback": [
      "\u001b[1;31m---------------------------------------------------------------------------\u001b[0m",
      "\u001b[1;31mAssertionError\u001b[0m                            Traceback (most recent call last)",
      "\u001b[1;32m~\\AppData\\Local\\Temp/ipykernel_11396/1074098559.py\u001b[0m in \u001b[0;36m<module>\u001b[1;34m\u001b[0m\n\u001b[0;32m      2\u001b[0m \u001b[1;32massert\u001b[0m \u001b[1;36m2\u001b[0m \u001b[1;33m+\u001b[0m \u001b[1;36m2\u001b[0m \u001b[1;33m==\u001b[0m \u001b[1;36m4\u001b[0m\u001b[1;33m\u001b[0m\u001b[1;33m\u001b[0m\u001b[0m\n\u001b[0;32m      3\u001b[0m \u001b[0mprint\u001b[0m \u001b[1;33m(\u001b[0m\u001b[1;36m2\u001b[0m\u001b[1;33m)\u001b[0m\u001b[1;33m\u001b[0m\u001b[1;33m\u001b[0m\u001b[0m\n\u001b[1;32m----> 4\u001b[1;33m \u001b[1;32massert\u001b[0m \u001b[1;36m1\u001b[0m \u001b[1;33m+\u001b[0m \u001b[1;36m1\u001b[0m \u001b[1;33m==\u001b[0m \u001b[1;36m3\u001b[0m\u001b[1;33m\u001b[0m\u001b[1;33m\u001b[0m\u001b[0m\n\u001b[0m\u001b[0;32m      5\u001b[0m \u001b[0mprint\u001b[0m \u001b[1;33m(\u001b[0m\u001b[1;36m3\u001b[0m\u001b[1;33m)\u001b[0m\u001b[1;33m\u001b[0m\u001b[1;33m\u001b[0m\u001b[0m\n",
      "\u001b[1;31mAssertionError\u001b[0m: "
     ]
    }
   ],
   "source": [
    "print (1)\n",
    "assert 2 + 2 == 4\n",
    "print (2)\n",
    "assert 1 + 1 == 3\n",
    "print (3)"
   ]
  },
  {
   "cell_type": "markdown",
   "id": "888170e4",
   "metadata": {},
   "source": [
    "La **aserción** puede tomar un segundo argumento que se pasa al AssertionError generado si la aserción falla.\n",
    "\n",
    "* Las excepciones AssertionError pueden capturarse y manejarse como cualquier otra excepción mediante la instrucción **try-except**, pero si no se manejan, este tipo de excepción terminará el programa."
   ]
  },
  {
   "cell_type": "code",
   "execution_count": 24,
   "id": "4dd037a2",
   "metadata": {
    "scrolled": true
   },
   "outputs": [
    {
     "ename": "AssertionError",
     "evalue": "Más frio que el cero absoluto",
     "output_type": "error",
     "traceback": [
      "\u001b[1;31m---------------------------------------------------------------------------\u001b[0m",
      "\u001b[1;31mAssertionError\u001b[0m                            Traceback (most recent call last)",
      "\u001b[1;32m~\\AppData\\Local\\Temp/ipykernel_11396/3058636309.py\u001b[0m in \u001b[0;36m<module>\u001b[1;34m\u001b[0m\n\u001b[0;32m      1\u001b[0m \u001b[0mtemp\u001b[0m \u001b[1;33m=\u001b[0m \u001b[1;33m-\u001b[0m\u001b[1;36m10\u001b[0m\u001b[1;33m\u001b[0m\u001b[1;33m\u001b[0m\u001b[0m\n\u001b[1;32m----> 2\u001b[1;33m \u001b[1;32massert\u001b[0m \u001b[1;33m(\u001b[0m\u001b[0mtemp\u001b[0m \u001b[1;33m>=\u001b[0m \u001b[1;36m0\u001b[0m\u001b[1;33m)\u001b[0m\u001b[1;33m,\u001b[0m \u001b[1;34m\"Más frio que el cero absoluto\"\u001b[0m\u001b[1;33m\u001b[0m\u001b[1;33m\u001b[0m\u001b[0m\n\u001b[0m",
      "\u001b[1;31mAssertionError\u001b[0m: Más frio que el cero absoluto"
     ]
    }
   ],
   "source": [
    "temp = -10\n",
    "assert (temp >= 0), \"Más frio que el cero absoluto\""
   ]
  }
 ],
 "metadata": {
  "kernelspec": {
   "display_name": "Python 3 (ipykernel)",
   "language": "python",
   "name": "python3"
  },
  "language_info": {
   "codemirror_mode": {
    "name": "ipython",
    "version": 3
   },
   "file_extension": ".py",
   "mimetype": "text/x-python",
   "name": "python",
   "nbconvert_exporter": "python",
   "pygments_lexer": "ipython3",
   "version": "3.9.7"
  }
 },
 "nbformat": 4,
 "nbformat_minor": 5
}
