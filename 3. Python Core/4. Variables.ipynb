{
 "cells": [
  {
   "cell_type": "markdown",
   "id": "03cf6723",
   "metadata": {},
   "source": [
    "Una **variable** le permite almacenar un valor asignándole un nombre, que puede usarse para referirse al valor más adelante en el programa.\n",
    "Por ejemplo, en el desarrollo de juegos, usarías una variable para almacenar los puntos del jugador. Para asignar una variable, use un **signo igual**\n",
    "* En el ejemplo dado, asignamos la cadena \"James\" a la variable de usuario."
   ]
  },
  {
   "cell_type": "code",
   "execution_count": null,
   "id": "dc44d16a",
   "metadata": {},
   "outputs": [],
   "source": [
    "usuario = \"James\""
   ]
  },
  {
   "cell_type": "markdown",
   "id": "cca619e6",
   "metadata": {},
   "source": [
    "# Nombres de Variables"
   ]
  },
  {
   "cell_type": "markdown",
   "id": "d36ed772",
   "metadata": {},
   "source": [
    "Se aplican ciertas restricciones con respecto a los caracteres que se pueden usar en los nombres de variables de Python. Los únicos caracteres permitidos son **letras , números y guiones bajos** . Además, no pueden comenzar con números.\n",
    "No seguir estas reglas da lugar a errores.\n",
    "* Python es un lenguaje de programación sensible a mayúsculas y minúsculas. Por lo tanto, **Lastname y lastname** son dos nombres de variables diferentes en Python."
   ]
  },
  {
   "cell_type": "code",
   "execution_count": null,
   "id": "238f50a0",
   "metadata": {},
   "outputs": [],
   "source": [
    "this_is_a_normal_name = \"Josias\""
   ]
  },
  {
   "cell_type": "code",
   "execution_count": null,
   "id": "599dcac6",
   "metadata": {},
   "outputs": [],
   "source": [
    "123abc = 7"
   ]
  },
  {
   "cell_type": "markdown",
   "id": "9e524b7a",
   "metadata": {},
   "source": [
    "# Trabajar con variables"
   ]
  },
  {
   "cell_type": "markdown",
   "id": "bff83632",
   "metadata": {},
   "source": [
    "Puede usar variables para realizar las operaciones correspondientes, tal como lo hizo con números y cadenas:"
   ]
  },
  {
   "cell_type": "code",
   "execution_count": null,
   "id": "0075eb9f",
   "metadata": {},
   "outputs": [],
   "source": [
    "x = 7\n",
    "print (x)\n",
    "print (x + 3)\n",
    "print (x)"
   ]
  },
  {
   "cell_type": "markdown",
   "id": "dbec6f92",
   "metadata": {},
   "source": [
    "Las variables se pueden reasignar tantas veces como se desee para cambiar su valor.\n",
    "En Python, las variables no tienen tipos específicos, por lo que puede asignar una cadena a una variable y luego asignar un número entero a la misma variable.\n",
    "* Sin embargo, no es una buena práctica. Para evitar errores, trate de evitar sobrescribir la misma variable con diferentes tipos de datos."
   ]
  },
  {
   "cell_type": "code",
   "execution_count": null,
   "id": "63821531",
   "metadata": {},
   "outputs": [],
   "source": [
    "x = 123.456\n",
    "print (x)"
   ]
  },
  {
   "cell_type": "code",
   "execution_count": null,
   "id": "a2e7b9a3",
   "metadata": {},
   "outputs": [],
   "source": [
    "x = \"Esta es una cadena\"\n",
    "print (x)"
   ]
  },
  {
   "cell_type": "markdown",
   "id": "0d7ae2f4",
   "metadata": {},
   "source": [
    "# Input"
   ]
  },
  {
   "cell_type": "markdown",
   "id": "884ad6e0",
   "metadata": {},
   "source": [
    "Para obtener información del usuario en Python, puede utilizar la función **input** con nombre intuitivo .\n",
    "Por ejemplo, un juego puede solicitar el nombre y la edad del usuario como **entrada (input)** y usarlos en el juego. La función de entrada solicita al usuario que ingrese y devuelve lo que ingresa como una cadena (con el contenido de escape automáticamente).\n",
    "* Incluso si el usuario ingresa un número como entrada, se procesa como una cadena ."
   ]
  },
  {
   "cell_type": "code",
   "execution_count": null,
   "id": "4cc29f34",
   "metadata": {},
   "outputs": [],
   "source": [
    "x = input ()\n",
    "print (x)"
   ]
  },
  {
   "cell_type": "markdown",
   "id": "635ee744",
   "metadata": {},
   "source": [
    "La declaración de **entrada** debe ir seguida de paréntesis.\n",
    "Puede proporcionar una cadena para **input ()** entre paréntesis, produciendo un mensaje de solicitud.\n",
    "* El mensaje de aviso ayuda a aclarar qué entrada solicita el programa."
   ]
  },
  {
   "cell_type": "code",
   "execution_count": null,
   "id": "a788c3f5",
   "metadata": {},
   "outputs": [],
   "source": [
    "name = input (\"Ingrese su nombre: \")\n",
    "print (\"Hola, \" + name)"
   ]
  },
  {
   "cell_type": "markdown",
   "id": "ecdbef55",
   "metadata": {},
   "source": [
    "Supongamos que queremos tomar la edad del usuario como entrada.\n",
    "Sabemos que la función **input ()** devuelve una cadena.\n",
    "Para convertirlo en un número, podemos usar la función **int ()** :"
   ]
  },
  {
   "cell_type": "code",
   "execution_count": null,
   "id": "705aef2a",
   "metadata": {},
   "outputs": [],
   "source": [
    "edad = int (input (\"Ingrese su edad:\"))\n",
    "print (edad)"
   ]
  },
  {
   "cell_type": "markdown",
   "id": "4d87c2f9",
   "metadata": {},
   "source": [
    "De manera similar, para convertir un número en una cadena, se usa la función **str ()**. Esto puede resultar útil si necesita utilizar un número en la concatenación de cadenas.\n",
    "+ Puede convertir a float usando la función **float ()** ."
   ]
  },
  {
   "cell_type": "code",
   "execution_count": null,
   "id": "9a01d900",
   "metadata": {},
   "outputs": [],
   "source": [
    "age = 68\n",
    "print (\"Su edad es \" + str(age))"
   ]
  },
  {
   "cell_type": "markdown",
   "id": "40798283",
   "metadata": {},
   "source": [
    "Puede usar **input ()** varias veces para tomar múltiples entradas de usuario.\n",
    "* Cuando se ejecuta la función input (), el flujo del programa se detiene hasta que un usuario ingresa algún valor."
   ]
  },
  {
   "cell_type": "code",
   "execution_count": null,
   "id": "b8207678",
   "metadata": {},
   "outputs": [],
   "source": [
    "name = input ()\n",
    "edad = input ()\n",
    "print (name + \" tiene \" + edad + \" años.\")"
   ]
  },
  {
   "cell_type": "markdown",
   "id": "27a1dd0b",
   "metadata": {},
   "source": [
    "# Operadores in-Place"
   ]
  },
  {
   "cell_type": "markdown",
   "id": "456482f8",
   "metadata": {},
   "source": [
    "Los **operadores in situ** le permiten escribir código como 'x = x + 3' de forma más concisa, como 'x + = 3'.\n",
    "Lo mismo es posible con otros operadores como -, *, / y % también.\n"
   ]
  },
  {
   "cell_type": "code",
   "execution_count": null,
   "id": "617d707d",
   "metadata": {},
   "outputs": [],
   "source": [
    "x = 2\n",
    "x += 3\n",
    "print (x)"
   ]
  },
  {
   "cell_type": "markdown",
   "id": "5d2086d0",
   "metadata": {},
   "source": [
    "Estos operadores también se pueden utilizar en cadenas"
   ]
  },
  {
   "cell_type": "code",
   "execution_count": null,
   "id": "ddc8e3a5",
   "metadata": {},
   "outputs": [],
   "source": [
    "x = \"spam\"\n",
    "print (x)\n",
    "x += \"eggs\"\n",
    "print (x)"
   ]
  },
  {
   "cell_type": "markdown",
   "id": "dcb6537d",
   "metadata": {},
   "source": [
    "# Operadores Walrus"
   ]
  },
  {
   "cell_type": "markdown",
   "id": "d6c7245e",
   "metadata": {},
   "source": [
    "Operador de morsa **:=** le permite asignar valores a variables dentro de una expresión, incluidas las variables que aún no existen. \n",
    "\n",
    "Supongamos que queremos tomar un número entero del usuario, asignarlo a una variable **num** y generarlo\n",
    "* El operador de morsa hace que el código sea más legible y puede ser útil en muchas situaciones."
   ]
  },
  {
   "cell_type": "code",
   "execution_count": null,
   "id": "ff45cf51",
   "metadata": {},
   "outputs": [],
   "source": [
    "num = int(input())\n",
    "print (num)"
   ]
  },
  {
   "cell_type": "markdown",
   "id": "cabc0f03",
   "metadata": {},
   "source": [
    "El operador de morsas realiza estas operaciones a la vez:\n"
   ]
  },
  {
   "cell_type": "code",
   "execution_count": null,
   "id": "7c9e7d9d",
   "metadata": {},
   "outputs": [],
   "source": [
    "print (num:= int (input()))        #Imprimir num donde num es = ..."
   ]
  },
  {
   "cell_type": "code",
   "execution_count": null,
   "id": "dc9f33aa",
   "metadata": {},
   "outputs": [],
   "source": []
  }
 ],
 "metadata": {
  "kernelspec": {
   "display_name": "Python 3 (ipykernel)",
   "language": "python",
   "name": "python3"
  },
  "language_info": {
   "codemirror_mode": {
    "name": "ipython",
    "version": 3
   },
   "file_extension": ".py",
   "mimetype": "text/x-python",
   "name": "python",
   "nbconvert_exporter": "python",
   "pygments_lexer": "ipython3",
   "version": "3.9.7"
  }
 },
 "nbformat": 4,
 "nbformat_minor": 5
}
