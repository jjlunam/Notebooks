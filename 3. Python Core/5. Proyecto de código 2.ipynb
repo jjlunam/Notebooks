{
 "cells": [
  {
   "cell_type": "markdown",
   "id": "0cbc25b2",
   "metadata": {},
   "source": [
    "# CALCULADORA SIMPLE"
   ]
  },
  {
   "cell_type": "markdown",
   "id": "c4601acb",
   "metadata": {},
   "source": [
    "Escribe un programa para tomar dos números enteros como entrada y sacar su suma. \n",
    "\n",
    "Entrada de muestra: \n",
    "+ 2 \n",
    "+ 8 \n",
    "\n",
    "\n",
    "Salida de muestra: \n",
    "+ 10"
   ]
  },
  {
   "cell_type": "code",
   "execution_count": null,
   "id": "0e3a7db8",
   "metadata": {},
   "outputs": [],
   "source": [
    "x = int (input ())\n",
    "y = int (input ())\n",
    "print (x + y)"
   ]
  },
  {
   "cell_type": "code",
   "execution_count": null,
   "id": "debee430",
   "metadata": {},
   "outputs": [],
   "source": []
  }
 ],
 "metadata": {
  "kernelspec": {
   "display_name": "Python 3 (ipykernel)",
   "language": "python",
   "name": "python3"
  },
  "language_info": {
   "codemirror_mode": {
    "name": "ipython",
    "version": 3
   },
   "file_extension": ".py",
   "mimetype": "text/x-python",
   "name": "python",
   "nbconvert_exporter": "python",
   "pygments_lexer": "ipython3",
   "version": "3.8.12"
  }
 },
 "nbformat": 4,
 "nbformat_minor": 5
}
