{
 "cells": [
  {
   "cell_type": "markdown",
   "id": "eac24189",
   "metadata": {},
   "source": [
    "# Listas"
   ]
  },
  {
   "cell_type": "markdown",
   "id": "4ee0ff01",
   "metadata": {},
   "source": [
    "Las **listas** se utilizan para almacenar artículos.\n",
    "Se crea una lista utilizando **corchetes*** con **comas** que separan los elementos."
   ]
  },
  {
   "cell_type": "code",
   "execution_count": 1,
   "id": "e963dd25",
   "metadata": {},
   "outputs": [],
   "source": [
    "words = [\"Hola\", \"mundo\", \"!\"]"
   ]
  },
  {
   "cell_type": "markdown",
   "id": "5c669ae4",
   "metadata": {},
   "source": [
    "En el ejemplo anterior, la lista de palabras contiene tres elementos de cadena. Se puede acceder a un determinado elemento de la lista utilizando su índice entre corchetes.\n",
    "* El índice del primer elemento de la lista es **0** , en lugar de **1**, como podría esperarse."
   ]
  },
  {
   "cell_type": "code",
   "execution_count": 4,
   "id": "60ef7143",
   "metadata": {},
   "outputs": [
    {
     "name": "stdout",
     "output_type": "stream",
     "text": [
      "Hola\n",
      "mundo\n",
      "!\n"
     ]
    }
   ],
   "source": [
    "print (words [0])\n",
    "print (words [1])\n",
    "print (words [2])"
   ]
  },
  {
   "cell_type": "markdown",
   "id": "0a2b36a9",
   "metadata": {},
   "source": [
    "A veces es necesario crear una lista vacía y completarla más tarde durante el programa. Por ejemplo, si está creando un programa de administración de colas, la cola estará vacía al principio y se llenará con datos de personas más adelante. Se crea una lista vacía con un par de corchetes vacíos.\n",
    "* En algunos ejemplos de código, es posible que vea una coma después del último elemento de la lista. No es obligatorio, pero es perfectamente válido."
   ]
  },
  {
   "cell_type": "code",
   "execution_count": 3,
   "id": "5eda4b0c",
   "metadata": {},
   "outputs": [
    {
     "name": "stdout",
     "output_type": "stream",
     "text": [
      "[]\n"
     ]
    }
   ],
   "source": [
    "lista_vacia = []\n",
    "print(lista_vacia)"
   ]
  },
  {
   "cell_type": "markdown",
   "id": "f95e5409",
   "metadata": {},
   "source": [
    "Normalmente, una lista contendrá elementos de un solo tipo de elemento, pero también es posible incluir varios tipos diferentes.\n",
    "Las listas también se pueden anidar dentro de otras listas."
   ]
  },
  {
   "cell_type": "code",
   "execution_count": 5,
   "id": "85d73418",
   "metadata": {},
   "outputs": [
    {
     "name": "stdout",
     "output_type": "stream",
     "text": [
      "0\n",
      "[1, 2, 3]\n",
      "3\n"
     ]
    }
   ],
   "source": [
    "number = 3\n",
    "things = [\"string\", 0, [1, 2, number], 4.56]\n",
    "print (things [1])\n",
    "print (things [2])\n",
    "print (things [2] [2])"
   ]
  },
  {
   "cell_type": "markdown",
   "id": "01ab41f0",
   "metadata": {},
   "source": [
    "Las listas anidadas se pueden utilizar para representar cuadrículas 2D, como matrices."
   ]
  },
  {
   "cell_type": "markdown",
   "id": "9c2e83bb",
   "metadata": {},
   "source": [
    "Se puede usar una estructura similar a una matriz en los casos en que necesite almacenar datos en formato de fila-columna. Por ejemplo, al crear un programa de emisión de boletos, los números de asiento se pueden almacenar en una matriz, con sus filas y números correspondientes.\n",
    "* El código siguiente genera el tercer elemento de la segunda fila."
   ]
  },
  {
   "cell_type": "code",
   "execution_count": 6,
   "id": "ec01229f",
   "metadata": {},
   "outputs": [
    {
     "name": "stdout",
     "output_type": "stream",
     "text": [
      "6\n"
     ]
    }
   ],
   "source": [
    "m = [\n",
    "    [1, 2, 3],\n",
    "    [4, 5, 6,]\n",
    "]\n",
    "print (m [1] [2])"
   ]
  },
  {
   "cell_type": "markdown",
   "id": "7de73de9",
   "metadata": {},
   "source": [
    "Algunos tipos, como **cadenas** , se pueden indexar como listas.\n",
    "La **indexación de cadenas** se comporta como si estuviera indexando una lista que contiene cada carácter de la **cadena**. El espacio (\" \") también es un símbolo y tiene un índice.\n",
    "* Intentar acceder a un índice no existente producirá un error."
   ]
  },
  {
   "cell_type": "code",
   "execution_count": 7,
   "id": "c30480eb",
   "metadata": {},
   "outputs": [
    {
     "name": "stdout",
     "output_type": "stream",
     "text": [
      "u\n"
     ]
    }
   ],
   "source": [
    "str = \"Hola mundo!\"\n",
    "print (str[6])"
   ]
  },
  {
   "cell_type": "markdown",
   "id": "439e6c3e",
   "metadata": {},
   "source": [
    "# Operaciones de Listas"
   ]
  },
  {
   "cell_type": "markdown",
   "id": "8c696268",
   "metadata": {},
   "source": [
    "El elemento en un índice determinado en una lista se puede reasignar.\n",
    "* Puede reemplazar el artículo con un artículo de otro tipo."
   ]
  },
  {
   "cell_type": "code",
   "execution_count": 1,
   "id": "a2b05d99",
   "metadata": {},
   "outputs": [
    {
     "name": "stdout",
     "output_type": "stream",
     "text": [
      "[7, 7, 5, 7, 7]\n"
     ]
    }
   ],
   "source": [
    "nums = [7, 7, 7, 7, 7]\n",
    "nums [2] = 5\n",
    "print (nums)"
   ]
  },
  {
   "cell_type": "markdown",
   "id": "5c893f91",
   "metadata": {},
   "source": [
    "Las listas se pueden sumar y multiplicar de la misma manera que las cadenas.\n",
    "\n",
    "Las listas y cadenas son similares en muchos aspectos: las cadenas se pueden considerar como listas de caracteres que no se pueden cambiar.\n",
    "* Por ejemplo, la cadena \"Hola\" se puede considerar como una lista, donde cada carácter es un elemento de la lista. El primer elemento es \"H\", el segundo elemento es \"e\" y así sucesivamente."
   ]
  },
  {
   "cell_type": "code",
   "execution_count": 3,
   "id": "befa9cf9",
   "metadata": {},
   "outputs": [
    {
     "name": "stdout",
     "output_type": "stream",
     "text": [
      "[1, 2, 3, 4, 5, 6]\n",
      "[1, 2, 3, 1, 2, 3, 1, 2, 3]\n"
     ]
    }
   ],
   "source": [
    "nums = [1, 2, 3]\n",
    "print (nums + [4, 5, 6])\n",
    "print (nums * 3)"
   ]
  },
  {
   "cell_type": "markdown",
   "id": "61c4271e",
   "metadata": {},
   "source": [
    "Para comprobar si un elemento está en una lista, se puede utilizar el operador **in** .\n",
    "Devuelve **True** si el elemento aparece una o más veces en la lista y **False** si no es así.\n",
    "* El operador **in** también se usa para determinar si una cadena es o no una subcadena de otra cadena."
   ]
  },
  {
   "cell_type": "code",
   "execution_count": 4,
   "id": "0c63cf0f",
   "metadata": {},
   "outputs": [
    {
     "name": "stdout",
     "output_type": "stream",
     "text": [
      "True\n",
      "True\n",
      "False\n"
     ]
    }
   ],
   "source": [
    "words = [\"spam\", \"eggs\", \"spam\", \"sausage\"]\n",
    "print (\"spam\" in words)\n",
    "print (\"eggs\" in words)\n",
    "print (\"tomato\" in words)"
   ]
  },
  {
   "cell_type": "markdown",
   "id": "1ad0d87e",
   "metadata": {},
   "source": [
    "Para comprobar si un elemento no está en una lista, puede utilizar el operador **not**"
   ]
  },
  {
   "cell_type": "code",
   "execution_count": 5,
   "id": "7beb4fb1",
   "metadata": {},
   "outputs": [
    {
     "name": "stdout",
     "output_type": "stream",
     "text": [
      "True\n",
      "True\n",
      "False\n",
      "False\n"
     ]
    }
   ],
   "source": [
    "nums = [1, 2, 3]\n",
    "print (not 4 in nums)\n",
    "print (4 not in nums)\n",
    "print (not 3 in nums)\n",
    "print (3 not in nums)"
   ]
  },
  {
   "cell_type": "markdown",
   "id": "8660f84f",
   "metadata": {},
   "source": [
    "# Funciones de Lista"
   ]
  },
  {
   "cell_type": "markdown",
   "id": "bd75c179",
   "metadata": {},
   "source": [
    "El método **append** agrega un elemento al final de una lista existente.\n",
    "* El **punto** antes de agregar está ahí porque es un **método** de la clase de lista. Los métodos se explicarán en una lección posterior."
   ]
  },
  {
   "cell_type": "code",
   "execution_count": 6,
   "id": "fba9a193",
   "metadata": {},
   "outputs": [
    {
     "name": "stdout",
     "output_type": "stream",
     "text": [
      "[1, 2, 3, 4]\n"
     ]
    }
   ],
   "source": [
    "nums = [1, 2, 3]\n",
    "nums.append (4)\n",
    "print (nums)"
   ]
  },
  {
   "cell_type": "markdown",
   "id": "9d15c8f0",
   "metadata": {},
   "source": [
    "Para obtener el número de elementos de una lista, puede utilizar la función **len**.\n",
    "\n",
    "A diferencia del índice de los elementos, **len** no comienza con 0. Por lo tanto, la lista anterior contiene 5 elementos, lo que significa que **len** devolverá 5.\n",
    "* **len** se escribe antes de la lista a la que se llama, sin un punto."
   ]
  },
  {
   "cell_type": "code",
   "execution_count": 7,
   "id": "b4f4eded",
   "metadata": {},
   "outputs": [
    {
     "name": "stdout",
     "output_type": "stream",
     "text": [
      "5\n"
     ]
    }
   ],
   "source": [
    "nums = [1, 3, 5, 2, 4]\n",
    "print (len (nums))"
   ]
  },
  {
   "cell_type": "markdown",
   "id": "519e511a",
   "metadata": {},
   "source": [
    "El método de **insert** es similar a **append** , excepto que le permite insertar un nuevo elemento en cualquier posición de la lista, en lugar de solo al final.\n",
    "* Los elementos que están después del item insertado se desplazan hacia la derecha."
   ]
  },
  {
   "cell_type": "code",
   "execution_count": 8,
   "id": "92296077",
   "metadata": {},
   "outputs": [
    {
     "name": "stdout",
     "output_type": "stream",
     "text": [
      "['Python', 'is', 'fun']\n"
     ]
    }
   ],
   "source": [
    "words = [\"Python\", \"fun\"]\n",
    "index = 1\n",
    "words.insert (index, \"is\")\n",
    "print (words)"
   ]
  },
  {
   "cell_type": "markdown",
   "id": "4fa0b8e8",
   "metadata": {},
   "source": [
    "El método **index** busca la primera aparición de un elemento de lista y devuelve su índice.\n",
    "Si el elemento no está en la lista, genera un ValueError.\n",
    "\n",
    "Hay algunas funciones y métodos más útiles para las listas.\n",
    "* **max** (list): Devuelve el elemento de la lista con el valor máximo.\n",
    "* **min** (list): Devuelve el elemento de la lista con el valor mínimo\n",
    "* list.**count** (elemento): Devuelve un recuento de cuántas veces aparece un elemento en una\n",
    "* list.**remove** (elemento): elimina un objeto de una\n",
    "* list.**reverse** (): invierte los elementos de una lista.\n",
    "\n",
    "Por ejemplo, puede contar cuántos 42 hay en la lista usando:\n",
    "**items.count (42)**\n",
    "donde **items** es el nombre de nuestra lista."
   ]
  },
  {
   "cell_type": "code",
   "execution_count": 9,
   "id": "9a299b4e",
   "metadata": {},
   "outputs": [
    {
     "name": "stdout",
     "output_type": "stream",
     "text": [
      "2\n",
      "0\n"
     ]
    },
    {
     "ename": "ValueError",
     "evalue": "'z' is not in list",
     "output_type": "error",
     "traceback": [
      "\u001b[1;31m---------------------------------------------------------------------------\u001b[0m",
      "\u001b[1;31mValueError\u001b[0m                                Traceback (most recent call last)",
      "\u001b[1;32m~\\AppData\\Local\\Temp/ipykernel_14572/2763426534.py\u001b[0m in \u001b[0;36m<module>\u001b[1;34m\u001b[0m\n\u001b[0;32m      2\u001b[0m \u001b[0mprint\u001b[0m \u001b[1;33m(\u001b[0m\u001b[0mwords\u001b[0m\u001b[1;33m.\u001b[0m\u001b[0mindex\u001b[0m \u001b[1;33m(\u001b[0m\u001b[1;34m\"r\"\u001b[0m\u001b[1;33m)\u001b[0m\u001b[1;33m)\u001b[0m\u001b[1;33m\u001b[0m\u001b[1;33m\u001b[0m\u001b[0m\n\u001b[0;32m      3\u001b[0m \u001b[0mprint\u001b[0m \u001b[1;33m(\u001b[0m\u001b[0mwords\u001b[0m\u001b[1;33m.\u001b[0m\u001b[0mindex\u001b[0m \u001b[1;33m(\u001b[0m\u001b[1;34m\"p\"\u001b[0m\u001b[1;33m)\u001b[0m\u001b[1;33m)\u001b[0m\u001b[1;33m\u001b[0m\u001b[1;33m\u001b[0m\u001b[0m\n\u001b[1;32m----> 4\u001b[1;33m \u001b[0mprint\u001b[0m \u001b[1;33m(\u001b[0m\u001b[0mwords\u001b[0m\u001b[1;33m.\u001b[0m\u001b[0mindex\u001b[0m \u001b[1;33m(\u001b[0m\u001b[1;34m\"z\"\u001b[0m\u001b[1;33m)\u001b[0m\u001b[1;33m)\u001b[0m\u001b[1;33m\u001b[0m\u001b[1;33m\u001b[0m\u001b[0m\n\u001b[0m",
      "\u001b[1;31mValueError\u001b[0m: 'z' is not in list"
     ]
    }
   ],
   "source": [
    "words = [\"p\", \"q\", \"r\", \"s\", \"p\", \"u\"]\n",
    "print (words.index (\"r\"))\n",
    "print (words.index (\"p\"))\n",
    "print (words.index (\"z\"))"
   ]
  },
  {
   "cell_type": "code",
   "execution_count": null,
   "id": "0defa8b4",
   "metadata": {},
   "outputs": [],
   "source": []
  }
 ],
 "metadata": {
  "kernelspec": {
   "display_name": "Python 3 (ipykernel)",
   "language": "python",
   "name": "python3"
  },
  "language_info": {
   "codemirror_mode": {
    "name": "ipython",
    "version": 3
   },
   "file_extension": ".py",
   "mimetype": "text/x-python",
   "name": "python",
   "nbconvert_exporter": "python",
   "pygments_lexer": "ipython3",
   "version": "3.9.7"
  }
 },
 "nbformat": 4,
 "nbformat_minor": 5
}
