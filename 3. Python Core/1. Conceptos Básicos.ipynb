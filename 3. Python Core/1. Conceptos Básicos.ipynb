{
 "cells": [
  {
   "cell_type": "markdown",
   "id": "e54ed1f8",
   "metadata": {},
   "source": [
    "# Bienvenido a Python"
   ]
  },
  {
   "cell_type": "markdown",
   "id": "60d2f8e6",
   "metadata": {},
   "source": [
    "**Python** es un lenguaje de programación de alto nivel, con aplicaciones en numerosas áreas, incluyendo programación web, scripting, computación científica e inteligencia artificial. Es muy popular y utilizado por organizaciones como Google, NASA, CIA y Disney."
   ]
  },
  {
   "cell_type": "markdown",
   "id": "5c1e6ae1",
   "metadata": {},
   "source": [
    "# Imprimir texto"
   ]
  },
  {
   "cell_type": "code",
   "execution_count": 3,
   "id": "e0802ff1",
   "metadata": {},
   "outputs": [
    {
     "name": "stdout",
     "output_type": "stream",
     "text": [
      "Hello World\n"
     ]
    }
   ],
   "source": [
    "print (\"Hello World\")"
   ]
  },
  {
   "cell_type": "markdown",
   "id": "457cc06d",
   "metadata": {},
   "source": [
    "# Operaciones simples"
   ]
  },
  {
   "cell_type": "markdown",
   "id": "06b4b9bf",
   "metadata": {},
   "source": [
    "Python tiene la capacidad de realizar cálculos."
   ]
  },
  {
   "cell_type": "code",
   "execution_count": 4,
   "id": "93f264ea",
   "metadata": {},
   "outputs": [
    {
     "name": "stdout",
     "output_type": "stream",
     "text": [
      "5\n"
     ]
    }
   ],
   "source": [
    "print (2 + 3)"
   ]
  },
  {
   "cell_type": "markdown",
   "id": "691eb338",
   "metadata": {},
   "source": [
    "Python también lleva a cabo la multiplicación y la división, utilizando un **asterisco *** para indicar la multiplicación y una barra **inclinada /** para indicar la división. Utilice **paréntesis** para determinar qué operaciones se realizan primero.\n",
    "* El uso de una sola barra para dividir números produce un decimal (o flotante , como se le llama en programación)."
   ]
  },
  {
   "cell_type": "code",
   "execution_count": 5,
   "id": "272d5baa",
   "metadata": {},
   "outputs": [
    {
     "name": "stdout",
     "output_type": "stream",
     "text": [
      "14\n",
      "5.0\n"
     ]
    }
   ],
   "source": [
    "print (2 *(3 + 4))\n",
    "print (10/2)"
   ]
  },
  {
   "cell_type": "markdown",
   "id": "abc2457a",
   "metadata": {},
   "source": [
    "# FLOTANTES"
   ]
  },
  {
   "cell_type": "markdown",
   "id": "0726b61c",
   "metadata": {},
   "source": [
    "Los **flotantes** se utilizan en Python para representar números que **no son enteros** (números enteros).\n",
    "Algunos ejemplos de números que se representan como flotantes son 0.5 y -7.8237591.\n",
    "Se pueden crear directamente ingresando un número con un punto decimal o usando operaciones como la división de números enteros.\n",
    "* Las computadoras no pueden almacenar flotantes con perfecta precisión, de la misma manera que no podemos escribir la expansión decimal completa de 1/3 (0.3333333333333333 ...). ¡Tenga esto en cuenta, porque a menudo conduce a errores exasperantes!"
   ]
  },
  {
   "cell_type": "code",
   "execution_count": 6,
   "id": "71bdd784",
   "metadata": {},
   "outputs": [
    {
     "name": "stdout",
     "output_type": "stream",
     "text": [
      "0.75\n",
      "0.42\n"
     ]
    }
   ],
   "source": [
    "print (3/4)\n",
    "print (0.42) "
   ]
  },
  {
   "cell_type": "markdown",
   "id": "923d9b56",
   "metadata": {},
   "source": [
    "Como vio anteriormente, dividir dos números enteros produce un **flotante** .\n",
    "Un flotante también se produce al ejecutar una operación entre dos flotantes, o en un flotante y un entero.\n",
    "* Se puede agregar un flotante a un número entero, porque Python convierte silenciosamente el número entero en un flotante."
   ]
  },
  {
   "cell_type": "code",
   "execution_count": 8,
   "id": "1f75d768",
   "metadata": {},
   "outputs": [
    {
     "name": "stdout",
     "output_type": "stream",
     "text": [
      "4.0\n",
      "42.0\n",
      "5.65\n"
     ]
    }
   ],
   "source": [
    "print (8/2)\n",
    "print (6 * 7.0)\n",
    "print (4 + 1.65)"
   ]
  },
  {
   "cell_type": "markdown",
   "id": "35c9d0d1",
   "metadata": {},
   "source": [
    "# EXPONENCIACIÓN"
   ]
  },
  {
   "cell_type": "markdown",
   "id": "5730fe0a",
   "metadata": {},
   "source": [
    "Además de la suma, resta, multiplicación y división, Python también admite la **exponenciación**, que es la elevación de un número a la potencia de otro. Esta operación se realiza mediante dos asteriscos.\n",
    "* Puede encadenar exponenciaciones. En otras palabras, puede aumentar un número a múltiples potencias. Por ejemplo, 2 ** 3 ** 2."
   ]
  },
  {
   "cell_type": "code",
   "execution_count": 9,
   "id": "992cd9d6",
   "metadata": {},
   "outputs": [
    {
     "name": "stdout",
     "output_type": "stream",
     "text": [
      "32\n"
     ]
    }
   ],
   "source": [
    "print (2 ** 5)"
   ]
  },
  {
   "cell_type": "markdown",
   "id": "0f14d567",
   "metadata": {},
   "source": [
    "También puede usar flotadores en exponenciación. Por ejemplo, el siguiente código resultará en la raíz cuadrada de 9:\n",
    "* Tenga en cuenta que el resultado será un flotador ."
   ]
  },
  {
   "cell_type": "code",
   "execution_count": 10,
   "id": "6db87375",
   "metadata": {},
   "outputs": [
    {
     "name": "stdout",
     "output_type": "stream",
     "text": [
      "3.0\n"
     ]
    }
   ],
   "source": [
    "print (9 ** (1/2))"
   ]
  },
  {
   "cell_type": "markdown",
   "id": "c064e84d",
   "metadata": {},
   "source": [
    "# COCIENTE"
   ]
  },
  {
   "cell_type": "markdown",
   "id": "1d567398",
   "metadata": {},
   "source": [
    "**La división de piso** se realiza mediante dos barras diagonales y se usa para determinar el **cociente** de una división (la cantidad producida por la división de dos números).\n",
    "* Tambien se usa en flotantes"
   ]
  },
  {
   "cell_type": "code",
   "execution_count": 11,
   "id": "4d44c9b1",
   "metadata": {},
   "outputs": [
    {
     "name": "stdout",
     "output_type": "stream",
     "text": [
      "3\n"
     ]
    }
   ],
   "source": [
    "print (20 // 6)"
   ]
  },
  {
   "cell_type": "markdown",
   "id": "774fe45d",
   "metadata": {},
   "source": [
    "# RESTO"
   ]
  },
  {
   "cell_type": "markdown",
   "id": "2be49b74",
   "metadata": {},
   "source": [
    "**El operador de módulo** se realiza con un símbolo de porcentaje (%) y se utiliza para obtener el **resto** de una división.\n",
    "* Todos los operadores numéricos también se pueden utilizar con flotantes."
   ]
  },
  {
   "cell_type": "code",
   "execution_count": 13,
   "id": "67872d4f",
   "metadata": {},
   "outputs": [
    {
     "name": "stdout",
     "output_type": "stream",
     "text": [
      "2\n",
      "0.25\n"
     ]
    }
   ],
   "source": [
    "print (20 % 6)\n",
    "print (1.25 % 0.5)"
   ]
  },
  {
   "cell_type": "code",
   "execution_count": null,
   "id": "97030435",
   "metadata": {},
   "outputs": [],
   "source": []
  }
 ],
 "metadata": {
  "kernelspec": {
   "display_name": "Python 3 (ipykernel)",
   "language": "python",
   "name": "python3"
  },
  "language_info": {
   "codemirror_mode": {
    "name": "ipython",
    "version": 3
   },
   "file_extension": ".py",
   "mimetype": "text/x-python",
   "name": "python",
   "nbconvert_exporter": "python",
   "pygments_lexer": "ipython3",
   "version": "3.8.12"
  }
 },
 "nbformat": 4,
 "nbformat_minor": 5
}
