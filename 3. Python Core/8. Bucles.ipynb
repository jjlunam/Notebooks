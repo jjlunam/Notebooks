{
 "cells": [
  {
   "cell_type": "markdown",
   "id": "82a2d8a0",
   "metadata": {},
   "source": [
    "# BUCLE WHILE"
   ]
  },
  {
   "cell_type": "markdown",
   "id": "2435e822",
   "metadata": {},
   "source": [
    "El bucle **WHILE** se utiliza para repetir un bloque de múltiples código veces.\n",
    "Por ejemplo, digamos que necesitamos procesar múltiples entradas de usuario, de modo que cada vez que el usuario ingrese algo, se deba ejecutar el mismo bloque de código. A continuación se muestra un bucle **while** que contiene una variable que cuenta hasta de 1 a 5, en cuyo punto el termina de bucle."
   ]
  },
  {
   "cell_type": "code",
   "execution_count": null,
   "id": "a549f030",
   "metadata": {},
   "outputs": [],
   "source": [
    "i = 0\n",
    "while i <= 5:\n",
    "    print (i)\n",
    "    i = i + 1\n",
    "print (\"Finished\")"
   ]
  },
  {
   "cell_type": "markdown",
   "id": "34a78c0e",
   "metadata": {},
   "source": [
    "Puede utilizar varias declaraciones en el ciclo while. Por ejemplo, puede utilizar una declaración **if** para tomar decisiones. Esto puede ser útil si está creando un juego y necesita recorrer varias acciones del jugador y agregar o eliminar puntos del jugador. El siguiente código usa una declaración if / else dentro de un ciclo while para separar los números pares e impares en el rango de 1 a 10:"
   ]
  },
  {
   "cell_type": "code",
   "execution_count": null,
   "id": "54fd3f8e",
   "metadata": {},
   "outputs": [],
   "source": [
    "x = 1\n",
    "while x < 10:\n",
    "    if x%2 == 0:\n",
    "        print (str(x) + \" es par\")\n",
    "    else:\n",
    "        print (str(x) + \" es impar\")\n",
    "    x += 1"
   ]
  },
  {
   "cell_type": "markdown",
   "id": "6249fc6c",
   "metadata": {},
   "source": [
    "# BREAK"
   ]
  },
  {
   "cell_type": "markdown",
   "id": "75f0e0a1",
   "metadata": {},
   "source": [
    "Para finalizar un bucle **while** prematuramente, se puede usar la declaración **brak***.\n",
    "Por ejemplo, podemos romper un bucle infinito si se cumple alguna condición.\n",
    "*  **while True** es una forma corta y fácil de hacer un bucle infinito. \n",
    "\n",
    "**Un ejemplo de caso de uso de ruptura:** \n",
    "\n",
    "se puede usar un bucle while infinito para tomar continuamente la entrada del usuario. Por ejemplo, está haciendo una calculadora y necesita tomar números del usuario para agregar y detener cuando el usuario ingresa **\"stop\"**. \n",
    "\n",
    "En este caso, la instrucción **break*** se puede utilizar para finalizar el bucle infinito cuando la entrada del usuario es igual a \"stop\".\n",
    "* El uso de la instrucción **break** fuera de un bucle provoca un error."
   ]
  },
  {
   "cell_type": "code",
   "execution_count": null,
   "id": "66adc09e",
   "metadata": {},
   "outputs": [],
   "source": [
    "i = 0\n",
    "while True:\n",
    "    print (i)\n",
    "    i = i + 1\n",
    "    if  i >= 5:\n",
    "        print (\"Breaking\")\n",
    "        break\n",
    "print (\"Finished\")    "
   ]
  },
  {
   "cell_type": "markdown",
   "id": "5780358f",
   "metadata": {},
   "source": [
    "# CONTINUE"
   ]
  },
  {
   "cell_type": "markdown",
   "id": "ac958800",
   "metadata": {},
   "source": [
    "Otra declaración que se puede utilizar dentro de los bucles es **continue**.\n",
    "A diferencia del **break**, **continue** vuelven a la parte superior del bucle, en lugar de detenerlo. Básicamente, la instrucción **continue** detiene la iteración actual y continúa con la siguiente. \n",
    "\n",
    "**Un ejemplo de caso de uso de continue:***\n",
    "\n",
    "\n",
    "un sistema de emisión de billetes de avión necesita calcular el costo total de todos los billetes comprados. Las entradas para niños menores de 1 año son gratuitas. Podemos usar un ciclo while para recorrer la lista de pasajeros y calcular el costo total de sus boletos. Aquí, la instrucción **continue** se puede usar para omitir a los niños.\n",
    "* El uso de la instrucción **continue** fuera de un bucle provoca un error."
   ]
  },
  {
   "cell_type": "code",
   "execution_count": null,
   "id": "e53824f6",
   "metadata": {},
   "outputs": [],
   "source": [
    "i = 1\n",
    "while i <= 5:\n",
    "    print (i)\n",
    "    i += 1\n",
    "    if i ==3:\n",
    "        print (\"Saltando 3\")\n",
    "        continue"
   ]
  },
  {
   "cell_type": "markdown",
   "id": "99af16dc",
   "metadata": {},
   "source": [
    "# FOR"
   ]
  },
  {
   "cell_type": "markdown",
   "id": "b25bc610",
   "metadata": {},
   "source": [
    "El bucle for se utiliza para iterar sobre una secuencia determinada, como listas o cadenas. El siguiente código genera cada elemento de la lista y agrega un signo de exclamación al final\n",
    "* En el código, la variable word representa el elemento correspondiente de la lista en cada iteración del ciclo.\n",
    "Durante la primera iteración, palabra es igual a \"hello\", y durante la segunda iteración es igual a \"world\", y así sucesivamente."
   ]
  },
  {
   "cell_type": "code",
   "execution_count": null,
   "id": "d42132c6",
   "metadata": {},
   "outputs": [],
   "source": [
    "words = [\"hello\", \"world\", \"spam\", \"eggs\"]\n",
    "for word in words:\n",
    "    print (word + \"!\")"
   ]
  },
  {
   "cell_type": "markdown",
   "id": "b1db8136",
   "metadata": {},
   "source": [
    "El bucle **for** se puede utilizar para iterar sobre cadenas."
   ]
  },
  {
   "cell_type": "code",
   "execution_count": null,
   "id": "c855e075",
   "metadata": {},
   "outputs": [],
   "source": [
    "str = \"testing for loops\"\n",
    "count = 0\n",
    "\n",
    "for x in str:\n",
    "    if (x == \"t\"):\n",
    "        count += 1 \n",
    "\n",
    "print (count)"
   ]
  },
  {
   "cell_type": "markdown",
   "id": "beaaa227",
   "metadata": {},
   "source": [
    "El código anterior define una variable **count**, itera sobre la cadena y calcula el recuento de letras 't' en ella. Durante cada iteración, la variable x representa la letra actual de la cadena.\n",
    "\n",
    "\n",
    "La variable **count** se incrementa cada vez que se encuentra la letra 't', por lo tanto, al final del ciclo representa el número de letras 't' en la cadena.\n",
    "* Al igual que en los bucles **while**, las declaraciones **break** y **continue** se pueden utilizar en bucles **for**, para detener el bucle o saltar a la siguiente iteración."
   ]
  },
  {
   "cell_type": "markdown",
   "id": "37557dfb",
   "metadata": {},
   "source": [
    "# FOR vs WHILE"
   ]
  },
  {
   "cell_type": "markdown",
   "id": "7c124fdf",
   "metadata": {},
   "source": [
    "Tanto, los bucles**for** y **while** se pueden utilizar para ejecutar un bloque de código múltiples veces. \n",
    "\n",
    "Es común usar el bucle **for** cuando el número de iteraciones es fijo. Por ejemplo, iterar sobre una lista fija de artículos en una lista de compras. \n",
    "\n",
    "El bucle **while** se utiliza en casos cuando el número de iteraciones no se conoce y depende de algunos cálculos y condiciones en el bloque de código del bucle. \n",
    "\n",
    "Por ejemplo, finalizar el ciclo cuando el usuario ingresa una entrada específica en un programa de calculadora.\n",
    "* Tanto, los bucles **for** y **while** se pueden utilizar para lograr los mismos resultados, sin embargo, el bucle **for** tiene la sintaxis más corta y limpia, por lo que es una mejor opción en la mayoría de los casos."
   ]
  },
  {
   "cell_type": "markdown",
   "id": "1a7ffd77",
   "metadata": {},
   "source": [
    "# RANGE"
   ]
  },
  {
   "cell_type": "markdown",
   "id": "0469ce4e",
   "metadata": {},
   "source": [
    "La función **range ()** devuelve una secuencia de números.\n",
    "De forma predeterminada, comienza desde 0, se incrementa en 1 y se detiene **antes del número especificado**. El siguiente código genera una lista que contiene todos los números enteros, hasta 10.\n",
    "* Para generar el rango como una lista, necesitamos convertirlo explícitamente en una lista, usando la función **list ()**."
   ]
  },
  {
   "cell_type": "code",
   "execution_count": null,
   "id": "c7007354",
   "metadata": {},
   "outputs": [],
   "source": [
    "numbers = list (range(10))\n",
    "print(numbers)"
   ]
  },
  {
   "cell_type": "markdown",
   "id": "7ead6c0f",
   "metadata": {},
   "source": [
    "Si se llama a **range** con un argumento, produce un objeto con valores de 0 a ese argumento.\n",
    "Si se llama con dos argumentos, produce valores del primero al segundo.\n",
    "* Recuerde, el segundo argumento no está incluido en el rango, por lo que el **range (3, 8)** no incluirá el número 8."
   ]
  },
  {
   "cell_type": "code",
   "execution_count": null,
   "id": "17b2be9b",
   "metadata": {},
   "outputs": [],
   "source": [
    "numbers = list (range(3,8))\n",
    "print (numbers)\n",
    "\n",
    "print (range(20)) == range (0, 20)"
   ]
  },
  {
   "cell_type": "markdown",
   "id": "a38acef3",
   "metadata": {},
   "source": [
    "**range** puede tener un tercer argumento, que determina el intervalo de la secuencia producida, también llamado **paso**.\n",
    "* También podemos crear una lista de números decrecientes, usando un número negativo como tercer argumento, por ejemplo **list (range (20, 5, -2))**."
   ]
  },
  {
   "cell_type": "code",
   "execution_count": null,
   "id": "2097aa72",
   "metadata": {},
   "outputs": [],
   "source": [
    "numbers = list (range (5,20,2))\n",
    "print (numbers)"
   ]
  },
  {
   "cell_type": "markdown",
   "id": "6b516a5f",
   "metadata": {},
   "source": [
    "# Bucles for"
   ]
  },
  {
   "cell_type": "markdown",
   "id": "c92ba7c2",
   "metadata": {},
   "source": [
    "El bucle **for** se usa comúnmente para repetir algún código un cierto número de veces. Esto se hace combinando bucles for con objetos de **range*.\n",
    "* No es necesario llamar a **list** en el objeto **range** cuando se usa en un bucle **for**, porque no se está indexando, por lo que no se requiere una lista."
   ]
  },
  {
   "cell_type": "code",
   "execution_count": null,
   "id": "363e170d",
   "metadata": {},
   "outputs": [],
   "source": [
    "for i in range (5):\n",
    "    print (\"hello!\")"
   ]
  },
  {
   "cell_type": "code",
   "execution_count": null,
   "id": "d455d631",
   "metadata": {},
   "outputs": [],
   "source": []
  }
 ],
 "metadata": {
  "kernelspec": {
   "display_name": "Python 3 (ipykernel)",
   "language": "python",
   "name": "python3"
  },
  "language_info": {
   "codemirror_mode": {
    "name": "ipython",
    "version": 3
   },
   "file_extension": ".py",
   "mimetype": "text/x-python",
   "name": "python",
   "nbconvert_exporter": "python",
   "pygments_lexer": "ipython3",
   "version": "3.9.7"
  }
 },
 "nbformat": 4,
 "nbformat_minor": 5
}
