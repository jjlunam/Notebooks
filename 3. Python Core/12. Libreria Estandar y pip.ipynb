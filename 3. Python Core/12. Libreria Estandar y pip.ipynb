{
 "cells": [
  {
   "cell_type": "markdown",
   "id": "022ff73e",
   "metadata": {},
   "source": [
    "# LIBRERÍA ESTANDAR"
   ]
  },
  {
   "cell_type": "markdown",
   "id": "c1d17e1f",
   "metadata": {},
   "source": [
    "Hay tres tipos principales de módulos en Python, los que escribe usted mismo, los que instala desde fuentes externas y los que están preinstalados con Python.\n",
    "\n",
    "El último tipo se llama **librería estándar** y contiene muchos módulos útiles. Algunos de los módulos útiles de la librería estándar incluyen **string, re, datetime, math, random, os, multiprocessing, subprocess, socket, email, json, doctest, unittest, pdb, argparse y sis**. \n",
    "\n",
    "Las tareas que puede realizar la librería estándar incluyen análisis de cadenas, serialización de datos, pruebas, depuración y manipulación de fechas, correos electrónicos, argumentos de línea de comandos y mucho más.\n",
    "\n",
    "* La extensa librería estándar de Python es una de sus principales fortalezas como lenguaje."
   ]
  },
  {
   "cell_type": "markdown",
   "id": "fef161ad",
   "metadata": {},
   "source": [
    "Algunos de los módulos de la librería estándar están escritos en Python y otros están escritos en C.\n",
    "\n",
    "La mayoría están disponibles en todas las plataformas, pero algunos son específicos de Windows o Unix.\n",
    "\n",
    "* No cubriremos todos los módulos en la librería estándar; simplemente hay demasiados. La documentación completa de la librería estándar está disponible en línea en www.python.org."
   ]
  },
  {
   "cell_type": "markdown",
   "id": "2cdfc366",
   "metadata": {},
   "source": [
    "# MÓDULOS"
   ]
  },
  {
   "cell_type": "markdown",
   "id": "153e13e1",
   "metadata": {},
   "source": [
    "Muchos módulos de Python de terceros se almacenan en el **índice de paquetes de Python (PyPI - Python Package Index)**.\n",
    "\n",
    "La mejor manera de instalarlos es usando un programa llamado **pip**. Esto viene instalado por defecto con las distribuciones modernas de Python. Si no lo tiene, es fácil de instalar en línea. Una vez que lo tenga, instalar librerías desde PyPI es fácil. Busque el nombre de la biblioteca que desea instalar, vaya a la línea de comando (para Windows será el Símbolo del sistema) e ingrese **pip install library_name**. Una vez que haya hecho esto, importe la biblioteca y utilícela en su código.\n",
    "\n",
    "Usar **pip** es la forma estándar de instalar librerías en la mayoría de los sistemas operativos, pero algunas librerías tienen binarios prediseñados para Windows. Estos son archivos ejecutables normales que le permiten instalar librerías con una GUI de la misma manera que instalaría otros programas.\n",
    "\n",
    "* Es importante ingresar el comando **pip** en la línea de comandos, no en el intérprete de Python."
   ]
  },
  {
   "cell_type": "code",
   "execution_count": null,
   "id": "375102d4",
   "metadata": {},
   "outputs": [],
   "source": []
  }
 ],
 "metadata": {
  "kernelspec": {
   "display_name": "Python 3 (ipykernel)",
   "language": "python",
   "name": "python3"
  },
  "language_info": {
   "codemirror_mode": {
    "name": "ipython",
    "version": 3
   },
   "file_extension": ".py",
   "mimetype": "text/x-python",
   "name": "python",
   "nbconvert_exporter": "python",
   "pygments_lexer": "ipython3",
   "version": "3.9.7"
  }
 },
 "nbformat": 4,
 "nbformat_minor": 5
}
