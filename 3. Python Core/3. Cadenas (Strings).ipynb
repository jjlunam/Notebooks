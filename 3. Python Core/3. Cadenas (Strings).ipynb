{
 "cells": [
  {
   "cell_type": "markdown",
   "id": "31661dd9",
   "metadata": {},
   "source": [
    "# STRINGS"
   ]
  },
  {
   "cell_type": "markdown",
   "id": "250331f5",
   "metadata": {},
   "source": [
    "Si desea usar texto en Python, debe usar una **cadena** .\n",
    "Una cadena se crea ingresando texto entre **dos comillas simples o dobles**."
   ]
  },
  {
   "cell_type": "code",
   "execution_count": null,
   "id": "11d9b3b7",
   "metadata": {},
   "outputs": [],
   "source": [
    "print (\"Hola Mundo!\")"
   ]
  },
  {
   "cell_type": "markdown",
   "id": "f2b68f67",
   "metadata": {},
   "source": [
    "# BACKSLASH (Barra Invertida)"
   ]
  },
  {
   "cell_type": "markdown",
   "id": "1bbc0a92",
   "metadata": {},
   "source": [
    "Algunos caracteres no se pueden incluir directamente en una cadena. Por ejemplo, las comillas dobles no se pueden incluir directamente en una cadena de comillas dobles; esto haría que terminara prematuramente. Los carateres como estos deben obviarse colocando una **barra invertida** delante de ellos. Las comillas dobles solo necesitan salirse en las cadenas de comillas dobles, y lo mismo para las cadenas de comillas simples. Por ejemplo:\n",
    "\n",
    "* Las barras invertidas también se pueden usar para escapar de tabulaciones, caracteres Unicode arbitrarios y varias otras que no se pueden imprimir de manera confiable."
   ]
  },
  {
   "cell_type": "code",
   "execution_count": null,
   "id": "9835f9ae",
   "metadata": {},
   "outputs": [],
   "source": [
    "print ('Bryan\\'s mother: He\\'s not an angel')"
   ]
  },
  {
   "cell_type": "markdown",
   "id": "15a765e0",
   "metadata": {},
   "source": [
    "# Nuevas Lineas"
   ]
  },
  {
   "cell_type": "markdown",
   "id": "ce3387f6",
   "metadata": {},
   "source": [
    "\\n representa una nueva línea.\n",
    "Se puede utilizar en cadenas para crear una salida multilínea.\n",
    "* \\t representa una tabulación"
   ]
  },
  {
   "cell_type": "code",
   "execution_count": 1,
   "id": "97d3848f",
   "metadata": {},
   "outputs": [
    {
     "name": "stdout",
     "output_type": "stream",
     "text": [
      "uno \n",
      "dos \n",
      "tres\n"
     ]
    }
   ],
   "source": [
    "print (\"uno \\ndos \\ntres\")"
   ]
  },
  {
   "cell_type": "markdown",
   "id": "57ca784d",
   "metadata": {},
   "source": [
    "Las nuevas líneas se agregarán automáticamente para las cadenas que se crean utilizando **tres comillas.**\n",
    "* Esto facilita el formateo de textos largos de varias líneas sin la necesidad de poner explícitamente \\n para los saltos de línea."
   ]
  },
  {
   "cell_type": "code",
   "execution_count": null,
   "id": "f8f0c74e",
   "metadata": {},
   "outputs": [],
   "source": [
    "print (\"\"\"Este es\n",
    "un texto\n",
    "de varias\n",
    "líneas\"\"\")"
   ]
  },
  {
   "cell_type": "markdown",
   "id": "84d0c7e4",
   "metadata": {},
   "source": [
    "# OPERACIONES CON CADENAS"
   ]
  },
  {
   "cell_type": "markdown",
   "id": "d1697166",
   "metadata": {},
   "source": [
    "Al igual que con los números enteros y flotantes, se pueden agregar cadenas en Python mediante un proceso llamado **concatenación** , que se puede realizar en dos cadenas cualesquiera."
   ]
  },
  {
   "cell_type": "code",
   "execution_count": null,
   "id": "e01af0c5",
   "metadata": {},
   "outputs": [],
   "source": [
    "print (\"spam\" + \"eggs\")\n",
    "print (\"2\" + \"2\")"
   ]
  },
  {
   "cell_type": "markdown",
   "id": "02014dc0",
   "metadata": {},
   "source": [
    "Las cadenas también se pueden **multiplicar** por números enteros. Esto produce una versión repetida de la cadena original. El orden de la cadena y el número entero no importa, pero la cadena suele ser lo primero.\n",
    "* Las cadenas no se pueden multiplicar por otras cadenas. Las cadenas tampoco se pueden multiplicar por flotantes, incluso si las flotantes son números enteros."
   ]
  },
  {
   "cell_type": "code",
   "execution_count": null,
   "id": "35282257",
   "metadata": {},
   "outputs": [],
   "source": [
    "print (\"spam\" * 3)\n",
    "print (4 * \"2\")"
   ]
  },
  {
   "cell_type": "code",
   "execution_count": null,
   "id": "cbcf7f60",
   "metadata": {},
   "outputs": [],
   "source": []
  }
 ],
 "metadata": {
  "kernelspec": {
   "display_name": "Python 3 (ipykernel)",
   "language": "python",
   "name": "python3"
  },
  "language_info": {
   "codemirror_mode": {
    "name": "ipython",
    "version": 3
   },
   "file_extension": ".py",
   "mimetype": "text/x-python",
   "name": "python",
   "nbconvert_exporter": "python",
   "pygments_lexer": "ipython3",
   "version": "3.9.7"
  }
 },
 "nbformat": 4,
 "nbformat_minor": 5
}
