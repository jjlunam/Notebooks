{
 "cells": [
  {
   "cell_type": "markdown",
   "id": "953b812a",
   "metadata": {},
   "source": [
    "# RETORNO DESDE FUNCIONES"
   ]
  },
  {
   "cell_type": "markdown",
   "id": "2801df9a",
   "metadata": {},
   "source": [
    "Ciertas funciones, como **int** o **str**, devuelven un valor que se puede usar más adelante.\n",
    "\n",
    "Para hacer esto para sus funciones definidas, puede usar la declaración de **return**.\n",
    "\n",
    "* La declaración de **return** no se puede usar fuera de una definición de función."
   ]
  },
  {
   "cell_type": "code",
   "execution_count": 1,
   "id": "24d00dd6",
   "metadata": {},
   "outputs": [],
   "source": [
    "def max (x, y):\n",
    "    if x >= y:\n",
    "        return x\n",
    "    else:\n",
    "        return y"
   ]
  },
  {
   "cell_type": "code",
   "execution_count": 2,
   "id": "5a467981",
   "metadata": {},
   "outputs": [
    {
     "name": "stdout",
     "output_type": "stream",
     "text": [
      "7\n"
     ]
    }
   ],
   "source": [
    "print (max (4, 7))"
   ]
  },
  {
   "cell_type": "code",
   "execution_count": 4,
   "id": "32d656f3",
   "metadata": {},
   "outputs": [
    {
     "name": "stdout",
     "output_type": "stream",
     "text": [
      "8\n"
     ]
    }
   ],
   "source": [
    "z = max (8, 5)\n",
    "print (z)"
   ]
  },
  {
   "cell_type": "markdown",
   "id": "33ec1672",
   "metadata": {},
   "source": [
    "Una vez que devuelve un valor de una función, inmediatamente deja de ejecutarse. Cualquier código después de la declaración de **return** nunca sucederá."
   ]
  },
  {
   "cell_type": "code",
   "execution_count": 5,
   "id": "319511df",
   "metadata": {},
   "outputs": [],
   "source": [
    "def add_numbers (x, y):\n",
    "    total = x + y\n",
    "    return total\n",
    "    print (\"Esto no se imprimirá\")"
   ]
  },
  {
   "cell_type": "code",
   "execution_count": 6,
   "id": "0f58a533",
   "metadata": {},
   "outputs": [
    {
     "name": "stdout",
     "output_type": "stream",
     "text": [
      "9\n"
     ]
    }
   ],
   "source": [
    "print (add_numbers (4, 5))"
   ]
  },
  {
   "cell_type": "markdown",
   "id": "bdfdfc8f",
   "metadata": {},
   "source": [
    "# COMENTARIOS"
   ]
  },
  {
   "cell_type": "markdown",
   "id": "4bfa2b11",
   "metadata": {},
   "source": [
    "Los **comentarios** son anotaciones en el código que se utilizan para que sea más fácil de entender. No afectan cómo se ejecuta el código.\n",
    "\n",
    "En Python, se crea un comentario insertando un **octothorpe** (también conocido como signo de número o símbolo de almohadilla: #). \n",
    "\n",
    "Todo el texto que le sigue en esa línea se ignora."
   ]
  },
  {
   "cell_type": "code",
   "execution_count": 7,
   "id": "4c13a145",
   "metadata": {},
   "outputs": [],
   "source": [
    "x = 365\n",
    "y = 7\n",
    "#Este es un comentario"
   ]
  },
  {
   "cell_type": "code",
   "execution_count": 8,
   "id": "fb9c4013",
   "metadata": {},
   "outputs": [
    {
     "name": "stdout",
     "output_type": "stream",
     "text": [
      "1\n"
     ]
    }
   ],
   "source": [
    "print (x % y)  #Encontrar el resto\n",
    "#print (x // y)\n",
    "#Otro comentario"
   ]
  },
  {
   "cell_type": "markdown",
   "id": "911de930",
   "metadata": {},
   "source": [
    "# CADENA DE DOCUMENTACION (DOCSTRINGS)"
   ]
  },
  {
   "cell_type": "markdown",
   "id": "8135b84c",
   "metadata": {},
   "source": [
    "Las **docstrings** (cadenas de documentación) tienen un propósito similar a los comentarios, ya que están diseñadas para explicar el código. \n",
    "\n",
    "Sin embargo, son más específicos y tienen una sintaxis diferente. Se crean colocando una cadena de varias líneas que contiene una explicación de la función debajo de la **primera línea de la función**.\n",
    "\n",
    "* A diferencia de los comentarios convencionales, las docstrings se conservan durante todo el tiempo de ejecución del programa. Esto permite al programador inspeccionar estos comentarios en tiempo de ejecución."
   ]
  },
  {
   "cell_type": "code",
   "execution_count": 9,
   "id": "dd7cd1f1",
   "metadata": {},
   "outputs": [],
   "source": [
    "def shout (word):\n",
    "    \"\"\"\n",
    "    Print a word whit an\n",
    "    exclamation mark following it\n",
    "    \"\"\"\n",
    "    print (word + \"!\")"
   ]
  },
  {
   "cell_type": "code",
   "execution_count": 10,
   "id": "732b7c4f",
   "metadata": {},
   "outputs": [
    {
     "name": "stdout",
     "output_type": "stream",
     "text": [
      "spam!\n"
     ]
    }
   ],
   "source": [
    "shout (\"spam\")"
   ]
  },
  {
   "cell_type": "markdown",
   "id": "2e718720",
   "metadata": {},
   "source": [
    "# FUNCIONES COMO OBJETOS"
   ]
  },
  {
   "cell_type": "markdown",
   "id": "222e4107",
   "metadata": {},
   "source": [
    "Aunque se crean de manera diferente a las variables normales, las **funciones** son como cualquier otro tipo de valor.\n",
    "\n",
    "Se pueden asignar y reasignar a variables y, posteriormente, hacer referencia a ellos con esos nombres.\n",
    "\n",
    "* El ejemplo se asigna la función **multiply** a una variable **operation**. Ahora, la operación de nombre **operation** también se puede usar para llamar a la función."
   ]
  },
  {
   "cell_type": "code",
   "execution_count": 11,
   "id": "69f41053",
   "metadata": {},
   "outputs": [],
   "source": [
    "def multiply (x, y):\n",
    "    return x * y"
   ]
  },
  {
   "cell_type": "code",
   "execution_count": 12,
   "id": "aa6f5e3f",
   "metadata": {},
   "outputs": [],
   "source": [
    "a = 4\n",
    "b = 7\n",
    "operation = multiply"
   ]
  },
  {
   "cell_type": "code",
   "execution_count": 13,
   "id": "829479e4",
   "metadata": {},
   "outputs": [
    {
     "name": "stdout",
     "output_type": "stream",
     "text": [
      "28\n"
     ]
    }
   ],
   "source": [
    "print (operation (a, b))"
   ]
  },
  {
   "cell_type": "markdown",
   "id": "2826c247",
   "metadata": {},
   "source": [
    "Las funciones también se pueden usar como **argumentos** de otras funciones.\n",
    "\n",
    "* la función **do_twice** toma una función como argumento y la llama en su cuerpo."
   ]
  },
  {
   "cell_type": "code",
   "execution_count": 14,
   "id": "0d1987ca",
   "metadata": {},
   "outputs": [],
   "source": [
    "def add (x, y):\n",
    "    return x + y"
   ]
  },
  {
   "cell_type": "code",
   "execution_count": 15,
   "id": "f86cc015",
   "metadata": {},
   "outputs": [],
   "source": [
    "def do_twice (func, x, y):\n",
    "    return func (func (x, y), func (x, y))"
   ]
  },
  {
   "cell_type": "code",
   "execution_count": 16,
   "id": "1ead47bc",
   "metadata": {},
   "outputs": [],
   "source": [
    "a = 5\n",
    "b = 10"
   ]
  },
  {
   "cell_type": "code",
   "execution_count": 17,
   "id": "02ae0668",
   "metadata": {},
   "outputs": [
    {
     "name": "stdout",
     "output_type": "stream",
     "text": [
      "30\n"
     ]
    }
   ],
   "source": [
    "print (do_twice (add, a, b))"
   ]
  },
  {
   "cell_type": "markdown",
   "id": "e7c1e515",
   "metadata": {},
   "source": [
    "# MODULOS"
   ]
  },
  {
   "cell_type": "markdown",
   "id": "b0099cb3",
   "metadata": {},
   "source": [
    "Los **módulos** son piezas de código que otras personas han escrito para realizar tareas comunes, como generar números aleatorios, realizar operaciones matemáticas, etc. La forma básica de usar un módulo es agregar **import module_name** en la parte superior de su código y luego usar **module_name.var** para acceder a funciones y valores con el nombre **var** en el módulo. Por ejemplo, el siguiente ejemplo usa el módulo **random** para generar números aleatorios:"
   ]
  },
  {
   "cell_type": "code",
   "execution_count": 1,
   "id": "da925e7e",
   "metadata": {},
   "outputs": [],
   "source": [
    "import random"
   ]
  },
  {
   "cell_type": "code",
   "execution_count": 4,
   "id": "9dd7ce79",
   "metadata": {},
   "outputs": [
    {
     "name": "stdout",
     "output_type": "stream",
     "text": [
      "3\n",
      "3\n",
      "1\n",
      "2\n",
      "3\n"
     ]
    }
   ],
   "source": [
    "for i in range(5):\n",
    "    value = random.randint (1, 6)\n",
    "    print (value)"
   ]
  },
  {
   "cell_type": "markdown",
   "id": "43b33865",
   "metadata": {},
   "source": [
    "* El código usa la función **randint** definida en el módulo **random** para imprimir 5 números aleatorios en el rango de 1 a 6."
   ]
  },
  {
   "cell_type": "markdown",
   "id": "28bcf5aa",
   "metadata": {},
   "source": [
    "Hay otro tipo de importación que se puede usar si solo necesita ciertas funciones de un módulo.\n",
    "\n",
    "Estos toman la forma **from module_name import var**, y luego **var** se puede usar como si estuviera definido normalmente en su código.\n",
    "\n",
    "Por ejemplo, importar solo la constante **pi** desde el módulo **math**:"
   ]
  },
  {
   "cell_type": "code",
   "execution_count": 5,
   "id": "56de3459",
   "metadata": {},
   "outputs": [],
   "source": [
    "from math import pi"
   ]
  },
  {
   "cell_type": "code",
   "execution_count": 6,
   "id": "6093611a",
   "metadata": {},
   "outputs": [
    {
     "name": "stdout",
     "output_type": "stream",
     "text": [
      "3.141592653589793\n"
     ]
    }
   ],
   "source": [
    "print (pi)"
   ]
  },
  {
   "cell_type": "markdown",
   "id": "905b1ecc",
   "metadata": {},
   "source": [
    "Utilice una lista separada por comas para importar varios objetos. Por ejemplo:"
   ]
  },
  {
   "cell_type": "code",
   "execution_count": 7,
   "id": "346795dd",
   "metadata": {},
   "outputs": [],
   "source": [
    "from math import pi, sqrt"
   ]
  },
  {
   "cell_type": "markdown",
   "id": "192060c2",
   "metadata": {},
   "source": [
    "El signo * importa todos los objetos de un módulo. Por ejemplo: **from math import ***\n",
    "\n",
    "Esto generalmente se desaconseja, ya que confunde variables en su código con variables en el módulo externo."
   ]
  },
  {
   "cell_type": "markdown",
   "id": "3be24921",
   "metadata": {},
   "source": [
    "Intentar importar un módulo que no está disponible provoca un ImportError."
   ]
  },
  {
   "cell_type": "code",
   "execution_count": 8,
   "id": "667761d5",
   "metadata": {},
   "outputs": [
    {
     "ename": "ModuleNotFoundError",
     "evalue": "No module named 'some_module'",
     "output_type": "error",
     "traceback": [
      "\u001b[1;31m---------------------------------------------------------------------------\u001b[0m",
      "\u001b[1;31mModuleNotFoundError\u001b[0m                       Traceback (most recent call last)",
      "\u001b[1;32m~\\AppData\\Local\\Temp/ipykernel_8004/1283308904.py\u001b[0m in \u001b[0;36m<module>\u001b[1;34m\u001b[0m\n\u001b[1;32m----> 1\u001b[1;33m \u001b[1;32mimport\u001b[0m \u001b[0msome_module\u001b[0m\u001b[1;33m\u001b[0m\u001b[1;33m\u001b[0m\u001b[0m\n\u001b[0m",
      "\u001b[1;31mModuleNotFoundError\u001b[0m: No module named 'some_module'"
     ]
    }
   ],
   "source": [
    "import some_module"
   ]
  },
  {
   "cell_type": "markdown",
   "id": "29a9b114",
   "metadata": {},
   "source": [
    "Puede importar un módulo u objeto con un nombre diferente utilizando la palabra clave **as**. Esto se usa principalmente cuando un módulo u objeto tiene un nombre largo o confuso."
   ]
  },
  {
   "cell_type": "code",
   "execution_count": 9,
   "id": "112c4a71",
   "metadata": {},
   "outputs": [],
   "source": [
    "from math import sqrt as square_root"
   ]
  },
  {
   "cell_type": "code",
   "execution_count": 10,
   "id": "a5be5d2f",
   "metadata": {},
   "outputs": [
    {
     "name": "stdout",
     "output_type": "stream",
     "text": [
      "10.0\n"
     ]
    }
   ],
   "source": [
    "print (square_root (100))"
   ]
  },
  {
   "cell_type": "code",
   "execution_count": null,
   "id": "70013ad0",
   "metadata": {},
   "outputs": [],
   "source": []
  }
 ],
 "metadata": {
  "kernelspec": {
   "display_name": "Python 3 (ipykernel)",
   "language": "python",
   "name": "python3"
  },
  "language_info": {
   "codemirror_mode": {
    "name": "ipython",
    "version": 3
   },
   "file_extension": ".py",
   "mimetype": "text/x-python",
   "name": "python",
   "nbconvert_exporter": "python",
   "pygments_lexer": "ipython3",
   "version": "3.8.12"
  }
 },
 "nbformat": 4,
 "nbformat_minor": 5
}
