{
 "cells": [
  {
   "cell_type": "markdown",
   "id": "a06b92d5",
   "metadata": {},
   "source": [
    "# TITULOS DE LIBROS"
   ]
  },
  {
   "cell_type": "markdown",
   "id": "dfa7e958",
   "metadata": {},
   "source": [
    "Se le ha pedido que cree un programa especial de categorización de libros, que asigna a cada libro un código especial basado en su título.\n",
    "\n",
    "El código es igual a la primera letra del libro, seguido del número de caracteres del título.\n",
    "\n",
    "Por ejemplo, para el libro \"Harry Potter\", el código sería: **H12**, ya que contiene 12 caracteres (incluido el espacio). \n",
    "\n",
    "Se le proporciona un archivo **books.txt**, que incluye los títulos de los libros, cada uno escrito en una línea separada. \n",
    "\n",
    "Lea el título uno por uno y genere el código para cada libro en una línea separada. \n",
    "\n",
    "Por ejemplo, si el archivo books.txt contiene: \n",
    "\n",
    "* Some book\n",
    "* Another book \n",
    "\n",
    "Su programa debería generar: \n",
    "\n",
    "* S9 \n",
    "* A12"
   ]
  },
  {
   "cell_type": "markdown",
   "id": "ca2f1249",
   "metadata": {},
   "source": [
    "(Recuerde el método **readlines()**, que devuelve una lista que contiene las líneas del archivo.)\n",
    "\n",
    "(Además, recuerda que todas las líneas, excepto la última, contienen un **\\n** al final, que no debe incluirse en el recuento de caracteres.)"
   ]
  },
  {
   "cell_type": "markdown",
   "id": "810fe162",
   "metadata": {},
   "source": [
    "## Solución:"
   ]
  },
  {
   "cell_type": "code",
   "execution_count": 121,
   "id": "23b85666",
   "metadata": {},
   "outputs": [],
   "source": [
    "file = open (\"books.txt\", \"r\")"
   ]
  },
  {
   "cell_type": "code",
   "execution_count": 122,
   "id": "ee03a107",
   "metadata": {},
   "outputs": [
    {
     "ename": "AttributeError",
     "evalue": "'str' object has no attribute 'read'",
     "output_type": "error",
     "traceback": [
      "\u001b[1;31m---------------------------------------------------------------------------\u001b[0m",
      "\u001b[1;31mAttributeError\u001b[0m                            Traceback (most recent call last)",
      "\u001b[1;32m~\\AppData\\Local\\Temp/ipykernel_2540/72813344.py\u001b[0m in \u001b[0;36m<module>\u001b[1;34m\u001b[0m\n\u001b[0;32m      2\u001b[0m \u001b[0mf\u001b[0m \u001b[1;33m=\u001b[0m \u001b[0mfile\u001b[0m\u001b[1;33m.\u001b[0m\u001b[0mreadlines\u001b[0m\u001b[1;33m(\u001b[0m\u001b[1;33m)\u001b[0m\u001b[1;33m\u001b[0m\u001b[1;33m\u001b[0m\u001b[0m\n\u001b[0;32m      3\u001b[0m \u001b[1;32mfor\u001b[0m \u001b[0mline\u001b[0m \u001b[1;32min\u001b[0m \u001b[0mf\u001b[0m\u001b[1;33m:\u001b[0m\u001b[1;33m\u001b[0m\u001b[1;33m\u001b[0m\u001b[0m\n\u001b[1;32m----> 4\u001b[1;33m     \u001b[0mprint\u001b[0m \u001b[1;33m(\u001b[0m\u001b[0mline\u001b[0m\u001b[1;33m.\u001b[0m\u001b[0mread\u001b[0m\u001b[1;33m(\u001b[0m\u001b[1;36m1\u001b[0m\u001b[1;33m)\u001b[0m\u001b[1;33m)\u001b[0m\u001b[1;33m\u001b[0m\u001b[1;33m\u001b[0m\u001b[0m\n\u001b[0m\u001b[0;32m      5\u001b[0m \u001b[0mfile\u001b[0m\u001b[1;33m.\u001b[0m\u001b[0mclose\u001b[0m\u001b[1;33m(\u001b[0m\u001b[1;33m)\u001b[0m\u001b[1;33m\u001b[0m\u001b[1;33m\u001b[0m\u001b[0m\n",
      "\u001b[1;31mAttributeError\u001b[0m: 'str' object has no attribute 'read'"
     ]
    }
   ],
   "source": [
    "#Tu código va aqui:\n",
    "f = file.readlines()\n",
    "for line in f:\n",
    "    print (line.read(1))\n",
    "file.close()"
   ]
  },
  {
   "cell_type": "code",
   "execution_count": 104,
   "id": "a498d1bd",
   "metadata": {},
   "outputs": [
    {
     "ename": "TypeError",
     "evalue": "object of type 'int' has no len()",
     "output_type": "error",
     "traceback": [
      "\u001b[1;31m---------------------------------------------------------------------------\u001b[0m",
      "\u001b[1;31mTypeError\u001b[0m                                 Traceback (most recent call last)",
      "\u001b[1;32m~\\AppData\\Local\\Temp/ipykernel_2540/739053917.py\u001b[0m in \u001b[0;36m<module>\u001b[1;34m\u001b[0m\n\u001b[1;32m----> 1\u001b[1;33m \u001b[0mlen\u001b[0m \u001b[1;33m(\u001b[0m\u001b[1;36m1\u001b[0m\u001b[1;33m)\u001b[0m\u001b[1;33m\u001b[0m\u001b[1;33m\u001b[0m\u001b[0m\n\u001b[0m",
      "\u001b[1;31mTypeError\u001b[0m: object of type 'int' has no len()"
     ]
    }
   ],
   "source": []
  },
  {
   "cell_type": "code",
   "execution_count": null,
   "id": "7d7ef892",
   "metadata": {},
   "outputs": [],
   "source": []
  }
 ],
 "metadata": {
  "kernelspec": {
   "display_name": "Python 3 (ipykernel)",
   "language": "python",
   "name": "python3"
  },
  "language_info": {
   "codemirror_mode": {
    "name": "ipython",
    "version": 3
   },
   "file_extension": ".py",
   "mimetype": "text/x-python",
   "name": "python",
   "nbconvert_exporter": "python",
   "pygments_lexer": "ipython3",
   "version": "3.9.7"
  }
 },
 "nbformat": 4,
 "nbformat_minor": 5
}
