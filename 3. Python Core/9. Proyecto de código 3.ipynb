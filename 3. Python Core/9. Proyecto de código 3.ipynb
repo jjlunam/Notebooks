{
 "cells": [
  {
   "cell_type": "markdown",
   "id": "7b284a47",
   "metadata": {},
   "source": [
    "# FizzBuzz"
   ]
  },
  {
   "cell_type": "markdown",
   "id": "257853d2",
   "metadata": {},
   "source": [
    "FizzBuzz es una asignación de programación bien conocida, que se pregunta durante las entrevistas. \n",
    "\n",
    "El código dado resuelve el problema de FizzBuzz y usa las palabras \"Solo\" y \"Learn\" en lugar de \"Fizz\" y \"Buzz\". \n",
    "\n",
    "Se toma una entrada **n** y genera los números del **1** al **n**.\n",
    "\n",
    "Para cada múltiplo de 3, escriba **\"Solo\"** en lugar del número. \n",
    "\n",
    "Para cada múltiplo de 5, imprime **\"Learn\"** en lugar del número. \n",
    "\n",
    "Para números que son múltiplos de 3 y 5, envíe **\"SoloLearn\"**. \n",
    "\n",
    "Debe cambiar el código para omitir los números pares, de modo que la lógica solo se aplique a los números impares en el rango.\n",
    "* Recuerde, la instrucción **continue** se puede usar para omitir una iteración de bucle."
   ]
  },
  {
   "cell_type": "code",
   "execution_count": null,
   "id": "51a00021",
   "metadata": {},
   "outputs": [],
   "source": [
    "n = int(input())\n",
    "\n",
    "for x in range(1, n):\n",
    "    if x % 2 == 0:\n",
    "        continue\n",
    "    if x % 3 == 0 and x % 5 == 0:\n",
    "        print(\"SoloLearn\")\n",
    "    elif x % 3 == 0:\n",
    "        print(\"Solo\")\n",
    "    elif x % 5 == 0:\n",
    "        print(\"Learn\")\n",
    "    else:\n",
    "        print(x)"
   ]
  },
  {
   "cell_type": "code",
   "execution_count": null,
   "id": "acb8d700",
   "metadata": {},
   "outputs": [],
   "source": []
  }
 ],
 "metadata": {
  "kernelspec": {
   "display_name": "Python 3 (ipykernel)",
   "language": "python",
   "name": "python3"
  },
  "language_info": {
   "codemirror_mode": {
    "name": "ipython",
    "version": 3
   },
   "file_extension": ".py",
   "mimetype": "text/x-python",
   "name": "python",
   "nbconvert_exporter": "python",
   "pygments_lexer": "ipython3",
   "version": "3.9.7"
  }
 },
 "nbformat": 4,
 "nbformat_minor": 5
}
