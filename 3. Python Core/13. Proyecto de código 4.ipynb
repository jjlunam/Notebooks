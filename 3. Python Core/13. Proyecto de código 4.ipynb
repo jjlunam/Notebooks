{
 "cells": [
  {
   "cell_type": "markdown",
   "id": "915199d6",
   "metadata": {},
   "source": [
    "# CELSIUS A FAHRENHEIT"
   ]
  },
  {
   "cell_type": "markdown",
   "id": "fa72e2ac",
   "metadata": {},
   "source": [
    "Estás haciendo un convertidor de Celsius a Fahrenheit.\n",
    "\n",
    "Escriba una función para tomar el valor Celsius como argumento y devolver el valor Fahrenheit correspondiente. \n",
    "\n",
    "**Entrada de muestra**\n",
    "\n",
    "    36 \n",
    "\n",
    "**Salida de muestra** \n",
    "\n",
    "    96.8\n",
    "    \n",
    "* La siguiente ecuación se usa para calcular el valor Fahrenheit: 9/5 * Celsius + 32"
   ]
  },
  {
   "cell_type": "code",
   "execution_count": 1,
   "id": "484c1443",
   "metadata": {},
   "outputs": [
    {
     "name": "stdout",
     "output_type": "stream",
     "text": [
      "36\n",
      "96.8\n"
     ]
    }
   ],
   "source": [
    "celsius = int(input())\n",
    "\n",
    "def conv(c):\n",
    "    #your code goes here\n",
    "    f = 9/5 * c + 32\n",
    "    return f\n",
    "\n",
    "fahrenheit = conv(celsius)\n",
    "print(fahrenheit)"
   ]
  },
  {
   "cell_type": "code",
   "execution_count": null,
   "id": "f9106114",
   "metadata": {},
   "outputs": [],
   "source": []
  }
 ],
 "metadata": {
  "kernelspec": {
   "display_name": "Python 3 (ipykernel)",
   "language": "python",
   "name": "python3"
  },
  "language_info": {
   "codemirror_mode": {
    "name": "ipython",
    "version": 3
   },
   "file_extension": ".py",
   "mimetype": "text/x-python",
   "name": "python",
   "nbconvert_exporter": "python",
   "pygments_lexer": "ipython3",
   "version": "3.8.12"
  }
 },
 "nbformat": 4,
 "nbformat_minor": 5
}
