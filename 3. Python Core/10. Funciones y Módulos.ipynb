{
 "cells": [
  {
   "cell_type": "markdown",
   "id": "8ec4a002",
   "metadata": {},
   "source": [
    "# REUTILIZACION DE CÓDIGO "
   ]
  },
  {
   "cell_type": "markdown",
   "id": "9c74935b",
   "metadata": {},
   "source": [
    "**La reutilización de código** es una parte muy importante de la programación en cualquier lenguaje.\n",
    "\n",
    "Aumentar el tamaño del código hace que sea más difícil de mantener.\n",
    "\n",
    "Para que un gran proyecto de programación tenga éxito, es esencial cumplir con el principio **Don't Repeat Yourself** , o **DRY** . Ya hemos visto una forma de hacer esto: usando bucles. En este módulo, exploraremos dos más: funciones y módulos.\n",
    "\n",
    "* Se dice que el código malo y repetitivo cumple con el principio **WET**, que significa **Write Everything Twice** o **We Enjoy Typing**."
   ]
  },
  {
   "cell_type": "markdown",
   "id": "f99e4049",
   "metadata": {},
   "source": [
    "# FUNCIONES"
   ]
  },
  {
   "cell_type": "markdown",
   "id": "e368c334",
   "metadata": {},
   "source": [
    "Cualquier instrucción que consta de una palabra seguida de información es una llamada de función. \n",
    "\n",
    "Aquí tienes algunos ejemplos que ya has visto: **paréntesis de funciones**\n",
    "\n",
    "* Las palabras delante de los paréntesis son **nombres** de funciones y los valores separados por comas dentro de los paréntesis son **argumentos** de funciones ."
   ]
  },
  {
   "cell_type": "code",
   "execution_count": 1,
   "id": "dbd7eaab",
   "metadata": {},
   "outputs": [
    {
     "name": "stdout",
     "output_type": "stream",
     "text": [
      "Hello world!\n"
     ]
    }
   ],
   "source": [
    "print (\"Hello world!\")"
   ]
  },
  {
   "cell_type": "code",
   "execution_count": 3,
   "id": "4f2b4da0",
   "metadata": {},
   "outputs": [
    {
     "data": {
      "text/plain": [
       "range(2, 20)"
      ]
     },
     "execution_count": 3,
     "metadata": {},
     "output_type": "execute_result"
    }
   ],
   "source": [
    "range (2, 20)"
   ]
  },
  {
   "cell_type": "code",
   "execution_count": 4,
   "id": "5187fad0",
   "metadata": {},
   "outputs": [
    {
     "data": {
      "text/plain": [
       "'12'"
      ]
     },
     "execution_count": 4,
     "metadata": {},
     "output_type": "execute_result"
    }
   ],
   "source": [
    "str (12)"
   ]
  },
  {
   "cell_type": "code",
   "execution_count": 5,
   "id": "6f1c39d3",
   "metadata": {},
   "outputs": [
    {
     "data": {
      "text/plain": [
       "range(10, 20, 3)"
      ]
     },
     "execution_count": 5,
     "metadata": {},
     "output_type": "execute_result"
    }
   ],
   "source": [
    "range (10, 20, 3)"
   ]
  },
  {
   "cell_type": "markdown",
   "id": "623e001d",
   "metadata": {},
   "source": [
    "Además de usar funciones predefinidas, puede crear sus propias funciones usando la instrucción **def**.\n",
    "\n",
    "Aquí hay un ejemplo de una función llamada **my_func**. No acepta argumentos e imprime \"spam\" tres veces. Se define y luego se llama. Las declaraciones en la función se ejecutan solo cuando se llama a la función.\n",
    "\n",
    "* El bloque de código dentro de cada función comienza con dos puntos (:) y tiene **sangría**."
   ]
  },
  {
   "cell_type": "code",
   "execution_count": 6,
   "id": "437ebf21",
   "metadata": {},
   "outputs": [],
   "source": [
    "def my_func():\n",
    "    print (\"spam\")\n",
    "    print (\"spam\")\n",
    "    print (\"spam\")"
   ]
  },
  {
   "cell_type": "code",
   "execution_count": 8,
   "id": "62cd89ae",
   "metadata": {},
   "outputs": [
    {
     "name": "stdout",
     "output_type": "stream",
     "text": [
      "spam\n",
      "spam\n",
      "spam\n"
     ]
    }
   ],
   "source": [
    "my_func()"
   ]
  },
  {
   "cell_type": "markdown",
   "id": "3060bbd5",
   "metadata": {},
   "source": [
    "Debe definir las funciones antes de llamarlas, de la misma manera que debe asignar variables antes de usarlas."
   ]
  },
  {
   "cell_type": "code",
   "execution_count": 10,
   "id": "8f8590cd",
   "metadata": {
    "scrolled": true
   },
   "outputs": [
    {
     "ename": "NameError",
     "evalue": "name 'hello' is not defined",
     "output_type": "error",
     "traceback": [
      "\u001b[1;31m---------------------------------------------------------------------------\u001b[0m",
      "\u001b[1;31mNameError\u001b[0m                                 Traceback (most recent call last)",
      "\u001b[1;32m~\\AppData\\Local\\Temp/ipykernel_9136/1575759905.py\u001b[0m in \u001b[0;36m<module>\u001b[1;34m\u001b[0m\n\u001b[1;32m----> 1\u001b[1;33m \u001b[0mhello\u001b[0m\u001b[1;33m(\u001b[0m\u001b[1;33m)\u001b[0m\u001b[1;33m\u001b[0m\u001b[1;33m\u001b[0m\u001b[0m\n\u001b[0m\u001b[0;32m      2\u001b[0m \u001b[1;32mdef\u001b[0m \u001b[0mhello\u001b[0m\u001b[1;33m(\u001b[0m\u001b[1;33m)\u001b[0m\u001b[1;33m:\u001b[0m\u001b[1;33m\u001b[0m\u001b[1;33m\u001b[0m\u001b[0m\n\u001b[0;32m      3\u001b[0m     \u001b[0mprint\u001b[0m \u001b[1;33m(\u001b[0m\u001b[1;34m\"Hello world!\"\u001b[0m\u001b[1;33m)\u001b[0m\u001b[1;33m\u001b[0m\u001b[1;33m\u001b[0m\u001b[0m\n",
      "\u001b[1;31mNameError\u001b[0m: name 'hello' is not defined"
     ]
    }
   ],
   "source": [
    "hello()\n",
    "def hello():\n",
    "    print (\"Hello world!\")"
   ]
  },
  {
   "cell_type": "markdown",
   "id": "96fab6d8",
   "metadata": {},
   "source": [
    "# ARGUMENTOS"
   ]
  },
  {
   "cell_type": "markdown",
   "id": "c3641883",
   "metadata": {},
   "source": [
    "Todas las definiciones de funciones que hemos visto hasta ahora han sido funciones de cero argumentos, que se llaman con paréntesis vacíos.\n",
    "\n",
    "Sin embargo, la mayoría de las funciones toman argumentos.\n",
    "\n",
    "El siguiente ejemplo define una función que toma un argumento:"
   ]
  },
  {
   "cell_type": "code",
   "execution_count": 11,
   "id": "e1fe524b",
   "metadata": {},
   "outputs": [],
   "source": [
    "def print_whit_exclamation (word):\n",
    "    print (word + \"!\")"
   ]
  },
  {
   "cell_type": "code",
   "execution_count": 14,
   "id": "92507c32",
   "metadata": {
    "scrolled": true
   },
   "outputs": [
    {
     "name": "stdout",
     "output_type": "stream",
     "text": [
      "spam!\n",
      "eggs!\n",
      "Python!\n"
     ]
    }
   ],
   "source": [
    "print_whit_exclamation (\"spam\")\n",
    "print_whit_exclamation (\"eggs\")\n",
    "print_whit_exclamation (\"Python\")"
   ]
  },
  {
   "cell_type": "markdown",
   "id": "91a2e7b2",
   "metadata": {},
   "source": [
    "También puede definir funciones con más de un argumento; separarlos con comas."
   ]
  },
  {
   "cell_type": "code",
   "execution_count": 15,
   "id": "b0cf0d34",
   "metadata": {},
   "outputs": [],
   "source": [
    "def print_sum_twice (x, y):\n",
    "    print (x + y)\n",
    "    print (x + y)"
   ]
  },
  {
   "cell_type": "code",
   "execution_count": 16,
   "id": "af46abed",
   "metadata": {},
   "outputs": [
    {
     "name": "stdout",
     "output_type": "stream",
     "text": [
      "13\n",
      "13\n"
     ]
    }
   ],
   "source": [
    "print_sum_twice (5, 8)"
   ]
  },
  {
   "cell_type": "markdown",
   "id": "8dade9f6",
   "metadata": {},
   "source": [
    "Los argumentos de la función se pueden usar como variables dentro de la definición de la función. Sin embargo, no se puede hacer referencia a ellos fuera de la definición de la función. Esto también se aplica a otras variables creadas dentro de una función.\n",
    "\n",
    "Este código arrojará un **error** porque la variable está definida dentro de la función y solo se puede hacer referencia allí.\n",
    "\n",
    "* Técnicamente, los **parámetros** son las variables en la definición de una función, y los **argumentos** son los valores que se ponen en los parámetros cuando se llama a las funciones."
   ]
  },
  {
   "cell_type": "code",
   "execution_count": 18,
   "id": "69b2239b",
   "metadata": {},
   "outputs": [],
   "source": [
    "def function (variable):\n",
    "    variable += 1\n",
    "    print (variable)"
   ]
  },
  {
   "cell_type": "code",
   "execution_count": 19,
   "id": "70346179",
   "metadata": {},
   "outputs": [
    {
     "name": "stdout",
     "output_type": "stream",
     "text": [
      "8\n"
     ]
    }
   ],
   "source": [
    "function (7)"
   ]
  },
  {
   "cell_type": "code",
   "execution_count": 20,
   "id": "e4d61239",
   "metadata": {},
   "outputs": [
    {
     "ename": "NameError",
     "evalue": "name 'variable' is not defined",
     "output_type": "error",
     "traceback": [
      "\u001b[1;31m---------------------------------------------------------------------------\u001b[0m",
      "\u001b[1;31mNameError\u001b[0m                                 Traceback (most recent call last)",
      "\u001b[1;32m~\\AppData\\Local\\Temp/ipykernel_9136/1517257646.py\u001b[0m in \u001b[0;36m<module>\u001b[1;34m\u001b[0m\n\u001b[1;32m----> 1\u001b[1;33m \u001b[0mprint\u001b[0m \u001b[1;33m(\u001b[0m\u001b[0mvariable\u001b[0m\u001b[1;33m)\u001b[0m\u001b[1;33m\u001b[0m\u001b[1;33m\u001b[0m\u001b[0m\n\u001b[0m",
      "\u001b[1;31mNameError\u001b[0m: name 'variable' is not defined"
     ]
    }
   ],
   "source": [
    "print (variable)"
   ]
  },
  {
   "cell_type": "code",
   "execution_count": null,
   "id": "43c1b93c",
   "metadata": {},
   "outputs": [],
   "source": []
  }
 ],
 "metadata": {
  "kernelspec": {
   "display_name": "Python 3 (ipykernel)",
   "language": "python",
   "name": "python3"
  },
  "language_info": {
   "codemirror_mode": {
    "name": "ipython",
    "version": 3
   },
   "file_extension": ".py",
   "mimetype": "text/x-python",
   "name": "python",
   "nbconvert_exporter": "python",
   "pygments_lexer": "ipython3",
   "version": "3.9.7"
  }
 },
 "nbformat": 4,
 "nbformat_minor": 5
}
