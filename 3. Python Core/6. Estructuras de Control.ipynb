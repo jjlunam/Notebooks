{
 "cells": [
  {
   "cell_type": "markdown",
   "id": "6759b8ad",
   "metadata": {},
   "source": [
    "# BOOLEANOS Y COMPARACIONES"
   ]
  },
  {
   "cell_type": "markdown",
   "id": "2f644dd3",
   "metadata": {},
   "source": [
    "Hay dos valores booleanos: **True y False**\n",
    "\n",
    "\n",
    "Se pueden crear comparando valores, por ejemplo, utilizando el operador **igual ==** .\n",
    "* Tenga cuidado de no confundir la **asignación (un signo igual)** con la **comparación (dos signos iguales).**"
   ]
  },
  {
   "cell_type": "code",
   "execution_count": null,
   "id": "c42c5e13",
   "metadata": {},
   "outputs": [],
   "source": [
    "my_boolean = True\n",
    "print (my_boolean)\n",
    "print (2==3)\n",
    "print (\"hola\"==\"hola\")"
   ]
  },
  {
   "cell_type": "markdown",
   "id": "980a74fd",
   "metadata": {},
   "source": [
    "# Comparación"
   ]
  },
  {
   "cell_type": "markdown",
   "id": "871a9533",
   "metadata": {},
   "source": [
    "Otro operador de comparación es el operador **no igual ( ! = )**, Se evalúa como Verdadero si los elementos que se comparan no son iguales y Falso si lo son.\n",
    "* Los operadores de comparación también se denominan **operadores relacionales** ."
   ]
  },
  {
   "cell_type": "code",
   "execution_count": null,
   "id": "aaa0137e",
   "metadata": {},
   "outputs": [],
   "source": [
    "print (1 != 1)\n",
    "print (\"once\" != \"siete\")"
   ]
  },
  {
   "cell_type": "markdown",
   "id": "6572abc0",
   "metadata": {},
   "source": [
    "Python también tiene operadores que determinan si un número (flotante o entero) es **mayor o menor que otro**. Estos operadores son **> y <** respectivamente.\n",
    "* También se pueden comparar diferentes tipos numéricos, por ejemplo, entero y flotante."
   ]
  },
  {
   "cell_type": "code",
   "execution_count": null,
   "id": "407328b2",
   "metadata": {},
   "outputs": [],
   "source": [
    "print (7 > 5)\n",
    "print (3 < 3)"
   ]
  },
  {
   "cell_type": "markdown",
   "id": "ad627df6",
   "metadata": {},
   "source": [
    "Los operadores mayor o igual que y menor o igual que son > = y < =.\n",
    "Son los mismos que los operadores estrictos mayor que y menor que, excepto que devuelven **True** al comparar números iguales."
   ]
  },
  {
   "cell_type": "code",
   "execution_count": null,
   "id": "4a391467",
   "metadata": {},
   "outputs": [],
   "source": [
    "print (7 <= 8)\n",
    "print (9 >= 9.0)"
   ]
  },
  {
   "cell_type": "markdown",
   "id": "d2c5e6e8",
   "metadata": {},
   "source": [
    "Los operadores mayor y menor que también se pueden utilizar para comparar cadenas lexicográficamente (el orden alfabético de las palabras se basa en el orden alfabético de las letras que las componen).\n",
    "* Se comparan los dos primeros personajes de \"Annie\" y \"Andy\" ( A y A ). Como son iguales, se comparan los siguientes dos caracteres. Debido a que también son iguales, los siguientes caracteres ( n y d se comparan). Y debido a que n tiene un valor de orden alfabético mayor que d , \"Annie\" es mayor que \"Andy\"."
   ]
  },
  {
   "cell_type": "code",
   "execution_count": null,
   "id": "5d990cb4",
   "metadata": {},
   "outputs": [],
   "source": [
    "print (\"Annie\" > \"Andy\")"
   ]
  },
  {
   "cell_type": "markdown",
   "id": "c28244d7",
   "metadata": {},
   "source": [
    "# Declaraciones IF"
   ]
  },
  {
   "cell_type": "markdown",
   "id": "65f43141",
   "metadata": {},
   "source": [
    "Puede utilizar instrucciones **if** para ejecutar código si se cumple una determinada condición.\n",
    "Si una expresión se evalúa como **verdadera** , se llevan a cabo algunas declaraciones. De lo contrario, no se llevan a cabo.\n",
    "* Python usa **sangría*** (espacio en blanco al comienzo de una línea) para delimitar bloques de código. Dependiendo de la lógica del programa, la sangría puede ser obligatoria. Como puede ver, las declaraciones en el **if** deben tener sangría."
   ]
  },
  {
   "cell_type": "code",
   "execution_count": 4,
   "id": "d415e289",
   "metadata": {},
   "outputs": [
    {
     "name": "stdout",
     "output_type": "stream",
     "text": [
      "10 es mayor que 5\n",
      "Programa terminado\n"
     ]
    }
   ],
   "source": [
    "if 10 > 5:\n",
    "    print (\"10 es mayor que 5\")\n",
    "print (\"Programa terminado\")"
   ]
  },
  {
   "cell_type": "markdown",
   "id": "ce805915",
   "metadata": {},
   "source": [
    "Para realizar comprobaciones más complejas, las declaraciones **if** se pueden anidar, una dentro de la otra.\n",
    "Esto significa que la instrucción **if** interna es la parte de instrucción de la externa. Ésta es una forma de ver si se cumplen varias condiciones. \n",
    "* La **sangría** se utiliza para definir el nivel de anidamiento."
   ]
  },
  {
   "cell_type": "code",
   "execution_count": 6,
   "id": "f194125f",
   "metadata": {},
   "outputs": [
    {
     "name": "stdout",
     "output_type": "stream",
     "text": [
      "Mayor que 5\n",
      "Entre 5 y 47\n"
     ]
    }
   ],
   "source": [
    "num = 12\n",
    "if num > 5:\n",
    "    print (\"Mayor que 5\")\n",
    "    if num <= 47:\n",
    "        print (\"Entre 5 y 47\")"
   ]
  },
  {
   "cell_type": "markdown",
   "id": "334e06fd",
   "metadata": {},
   "source": [
    "# Declaraciones else"
   ]
  },
  {
   "cell_type": "markdown",
   "id": "3adc4f50",
   "metadata": {},
   "source": [
    "La instrucción **if** le permite verificar una condición y ejecutar algunas declaraciones, si la condición es **Verdadera** .\n",
    "La instrucción **else** se puede utilizar para ejecutar algunas instrucciones cuando la condición de la instrucción **if** es **False** . Al igual que con las declaraciones **if** , el código dentro del bloque debe tener sangría.\n",
    "* Observe los dos puntos después de la palabra clave else."
   ]
  },
  {
   "cell_type": "code",
   "execution_count": 7,
   "id": "5aa79e0a",
   "metadata": {},
   "outputs": [
    {
     "name": "stdout",
     "output_type": "stream",
     "text": [
      "No\n"
     ]
    }
   ],
   "source": [
    "x = 4\n",
    "if x == 5:\n",
    "    print (\"Si\")\n",
    "else:\n",
    "    print (\"No\")"
   ]
  },
  {
   "cell_type": "markdown",
   "id": "7ad64f2c",
   "metadata": {},
   "source": [
    "Cada bloque de condición **if** puede tener solo una declaración **else** .\n",
    "Para realizar varias comprobaciones, puede encadenar declaraciones **if** y **else** . Por ejemplo, el siguiente programa verifica y genera el valor de la variable **num** como texto.\n",
    "* La sangría determina a qué declaraciones ***if / else** pertenecen los bloques de código."
   ]
  },
  {
   "cell_type": "code",
   "execution_count": 8,
   "id": "c995b61c",
   "metadata": {},
   "outputs": [
    {
     "name": "stdout",
     "output_type": "stream",
     "text": [
      "Tres\n"
     ]
    }
   ],
   "source": [
    "num = 3\n",
    "if num ==1:\n",
    "    print (\"Uno\")\n",
    "else:\n",
    "    if num == 2:\n",
    "        print (\"Dos\")\n",
    "    else:\n",
    "        if num == 3:\n",
    "            print (\"Tres\")\n",
    "        else:\n",
    "            print (\"Algun else\")"
   ]
  },
  {
   "cell_type": "markdown",
   "id": "c742a872",
   "metadata": {},
   "source": [
    "# Declaraciones elif"
   ]
  },
  {
   "cell_type": "markdown",
   "id": "083fbdfe",
   "metadata": {},
   "source": [
    "Varias declaraciones **if / else** hacen que el código sea largo y no sea muy legible.\n",
    "La declaración **elif** (abreviatura de else if) es un atajo que se usa al encadenar declaraciones **if y else** , lo que hace que el código sea más corto. El mismo ejemplo de la parte anterior se puede reescribir usando declaraciones elif \n",
    "\n",
    "\n",
    "Como puede ver en el ejemplo, una serie de declaraciones **if elif** puede tener un bloque **else** final , que se llama si ninguna de las expresiones **if** o **elif** es **True** .\n",
    "* La instrucción **elif** es equivalente a una instrucción **else / if** . Se utiliza para hacer el código más corto, más legible y evitar el aumento de sangría."
   ]
  },
  {
   "cell_type": "code",
   "execution_count": 9,
   "id": "a3730195",
   "metadata": {},
   "outputs": [
    {
     "name": "stdout",
     "output_type": "stream",
     "text": [
      "Tres\n"
     ]
    }
   ],
   "source": [
    "num = 3\n",
    "if num == 1:\n",
    "    print (\"Uno\")\n",
    "elif num == 2:\n",
    "    print (\"Dos\")\n",
    "elif num == 3:\n",
    "    print (\"Tres\")\n",
    "else:\n",
    "    print (\"Algun else\")"
   ]
  },
  {
   "cell_type": "markdown",
   "id": "c4d447fc",
   "metadata": {},
   "source": [
    "# Lógica booleana"
   ]
  },
  {
   "cell_type": "markdown",
   "id": "d59f4c89",
   "metadata": {},
   "source": [
    "**La lógica booleana** se usa para crear condiciones más complicadas para declaraciones **if** que se basan en más de una condición.\n",
    "Los operadores booleanos de Python son **and** , **or** y **not** ."
   ]
  },
  {
   "cell_type": "markdown",
   "id": "b1a9560d",
   "metadata": {},
   "source": [
    "# Booleano and"
   ]
  },
  {
   "cell_type": "markdown",
   "id": "86fbe35d",
   "metadata": {},
   "source": [
    "El operador **and** toma dos argumentos y se evalúa como **Verdadero** si, y solo si, ambos argumentos son **Verdaderos** . De lo contrario, se evalúa como **Falso** .\n",
    "* Los operadores booleanos se pueden utilizar en la expresión tantas veces como sea necesario."
   ]
  },
  {
   "cell_type": "code",
   "execution_count": 13,
   "id": "d35fefa0",
   "metadata": {},
   "outputs": [
    {
     "name": "stdout",
     "output_type": "stream",
     "text": [
      "True\n",
      "False\n",
      "False\n",
      "False\n"
     ]
    }
   ],
   "source": [
    "print (1 == 1 and 2 == 2)\n",
    "print (1 == 1 and 2 == 3)\n",
    "print (1 != 1 and 2 == 2)\n",
    "print (2 < 1 and 3 > 6)"
   ]
  },
  {
   "cell_type": "markdown",
   "id": "37df2c10",
   "metadata": {},
   "source": [
    "# Booleano or"
   ]
  },
  {
   "cell_type": "markdown",
   "id": "1d7db049",
   "metadata": {},
   "source": [
    "El operador **or** también toma dos argumentos. Se evalúa como **Verdadero** si alguno (o ambos) de sus argumentos son **Verdaderos*** , y **Falso** si ambos argumentos son **Falso**\n",
    "* Además de los valores, también puede comparar variables."
   ]
  },
  {
   "cell_type": "code",
   "execution_count": 14,
   "id": "a3dea54c",
   "metadata": {},
   "outputs": [
    {
     "name": "stdout",
     "output_type": "stream",
     "text": [
      "True\n",
      "True\n",
      "True\n",
      "False\n"
     ]
    }
   ],
   "source": [
    "print (1 == 1 or 2 == 2)\n",
    "print (1 == 1 or 2 == 3)\n",
    "print (1 != 1 or 2 == 2)\n",
    "print (2 < 1 or 3 > 6)"
   ]
  },
  {
   "cell_type": "markdown",
   "id": "5d5a8ad5",
   "metadata": {},
   "source": [
    "# Booleano not"
   ]
  },
  {
   "cell_type": "markdown",
   "id": "da2eff17",
   "metadata": {},
   "source": [
    "A diferencia de otros operadores que hemos visto hasta ahora, **not** solo toma un argumento y lo invierte.\n",
    "El resultado de **not True** es **False** , y **not False** pasa a **True**\n",
    "* Puede encadenar varias declaraciones condicionales en una declaración **if** utilizando los operadores booleanos."
   ]
  },
  {
   "cell_type": "code",
   "execution_count": 15,
   "id": "bab4229c",
   "metadata": {},
   "outputs": [
    {
     "name": "stdout",
     "output_type": "stream",
     "text": [
      "False\n",
      "True\n"
     ]
    }
   ],
   "source": [
    "print ( not 1 == 1)\n",
    "print ( not 1 > 7)"
   ]
  },
  {
   "cell_type": "markdown",
   "id": "22c4ecd1",
   "metadata": {},
   "source": [
    "# Operador Precedencia"
   ]
  },
  {
   "cell_type": "markdown",
   "id": "22469174",
   "metadata": {},
   "source": [
    "**El Operador Precedencia** es un concepto muy importante en la programación. Es una extensión de la idea matemática del orden de las operaciones (la multiplicación se realiza antes de la suma, etc.) para incluir otros operadores, como los de la lógica booleana. El siguiente código muestra que == tiene una precedencia mayor que **or**\n",
    "* El orden de las operaciones de Python es el mismo que el de las matemáticas normales: primero paréntesis, luego exponenciación, luego multiplicación / división y luego suma / resta."
   ]
  },
  {
   "cell_type": "code",
   "execution_count": 16,
   "id": "e1f44e37",
   "metadata": {},
   "outputs": [
    {
     "name": "stdout",
     "output_type": "stream",
     "text": [
      "True\n",
      "False\n",
      "True\n"
     ]
    }
   ],
   "source": [
    "print (False == False or True)\n",
    "print (False == (False or True))\n",
    "print ((False == False) or True )"
   ]
  },
  {
   "cell_type": "markdown",
   "id": "7c054d69",
   "metadata": {},
   "source": [
    "# Encadenando múltiples condiciones"
   ]
  },
  {
   "cell_type": "markdown",
   "id": "4fb12a4e",
   "metadata": {},
   "source": [
    "Puede encadenar varias declaraciones condicionales en una declaración **if** utilizando los operadores booleanos. Por ejemplo, podemos comprobar si el valor de una **nota** está entre 70 y 100:\n",
    "* Puede utilizar múltiples operadores **and** , **or** , **not** para encadenar múltiples condiciones juntos."
   ]
  },
  {
   "cell_type": "code",
   "execution_count": 17,
   "id": "29d2b393",
   "metadata": {},
   "outputs": [
    {
     "name": "stdout",
     "output_type": "stream",
     "text": [
      "Aprobado\n"
     ]
    }
   ],
   "source": [
    "grade = 88\n",
    "if (grade >= 70 and grade <= 100):\n",
    "    print (\"Aprobado\")"
   ]
  },
  {
   "cell_type": "code",
   "execution_count": null,
   "id": "b1aa1c17",
   "metadata": {},
   "outputs": [],
   "source": []
  }
 ],
 "metadata": {
  "kernelspec": {
   "display_name": "Python 3 (ipykernel)",
   "language": "python",
   "name": "python3"
  },
  "language_info": {
   "codemirror_mode": {
    "name": "ipython",
    "version": 3
   },
   "file_extension": ".py",
   "mimetype": "text/x-python",
   "name": "python",
   "nbconvert_exporter": "python",
   "pygments_lexer": "ipython3",
   "version": "3.9.7"
  }
 },
 "nbformat": 4,
 "nbformat_minor": 5
}
