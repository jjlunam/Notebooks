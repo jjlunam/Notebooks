{
 "cells": [
  {
   "cell_type": "markdown",
   "id": "bbaa1188",
   "metadata": {},
   "source": [
    "# TRABAJANDO CON ARCHIVOS"
   ]
  },
  {
   "cell_type": "markdown",
   "id": "de4d8f5e",
   "metadata": {},
   "source": [
    "Es una buena práctica evitar el desperdicio de recursos asegurándose de que los archivos siempre se cierren después de que se hayan utilizado. Una forma de hacer esto es usar **try** y **finally**\n",
    "\n",
    "* Esto asegura que el archivo esté siempre cerrado, incluso si ocurre un error."
   ]
  },
  {
   "cell_type": "code",
   "execution_count": 2,
   "id": "c50e3c1f",
   "metadata": {},
   "outputs": [
    {
     "name": "stdout",
     "output_type": "stream",
     "text": [
      "HOLA_MUNDO_BIENVENIDOS_A_TODOS\n",
      "1\n",
      "2\n",
      "3\n",
      "4\n",
      "5\n"
     ]
    }
   ],
   "source": [
    "try:\n",
    "    f = open (\"filename.txt\")\n",
    "    print (f.read())\n",
    "finally:\n",
    "    f.close()"
   ]
  },
  {
   "cell_type": "markdown",
   "id": "bca14f9c",
   "metadata": {},
   "source": [
    "Una forma alternativa de hacer esto es usando sentencias **with**. Esto crea una variable temporal (a menudo llamada **f**), a la que solo se puede acceder en el bloque sangrado de la instrucción **with**.\n",
    "\n",
    "El archivo se cierra automáticamente al final de la instrucción **with**, incluso si se producen excepciones en él."
   ]
  },
  {
   "cell_type": "code",
   "execution_count": 3,
   "id": "a61bd00d",
   "metadata": {},
   "outputs": [
    {
     "name": "stdout",
     "output_type": "stream",
     "text": [
      "HOLA_MUNDO_BIENVENIDOS_A_TODOS\n",
      "1\n",
      "2\n",
      "3\n",
      "4\n",
      "5\n"
     ]
    }
   ],
   "source": [
    "with open (\"filename.txt\") as f:\n",
    "    print(f.read())"
   ]
  },
  {
   "cell_type": "code",
   "execution_count": null,
   "id": "4a96aab2",
   "metadata": {},
   "outputs": [],
   "source": []
  }
 ],
 "metadata": {
  "kernelspec": {
   "display_name": "Python 3 (ipykernel)",
   "language": "python",
   "name": "python3"
  },
  "language_info": {
   "codemirror_mode": {
    "name": "ipython",
    "version": 3
   },
   "file_extension": ".py",
   "mimetype": "text/x-python",
   "name": "python",
   "nbconvert_exporter": "python",
   "pygments_lexer": "ipython3",
   "version": "3.9.7"
  }
 },
 "nbformat": 4,
 "nbformat_minor": 5
}
