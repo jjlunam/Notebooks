{
 "cells": [
  {
   "cell_type": "markdown",
   "id": "4e2eb19d",
   "metadata": {},
   "source": [
    "La **exponenciación** es elevar un número a la potencia de otro.\n",
    "Esta operación se realiza mediante dos **asteriscos ****. Usemos la exponenciación para resolver un problema conocido. Se le ofrece la opción de 1.000.000 dolares o 0.01 de dolar (un centavo) duplicado todos los días durante 30 días (la cantidad resultante se duplica todos los días). \n",
    "\n",
    "**Tarea:** Escriba un programa para calcular la cantidad que resultará de la duplicación para comprender qué opción da como resultado una cantidad mayor. \n",
    "\n",
    "**Sugerencia:** Veamos cómo la exponenciación puede ser útil para realizar el cálculo."
   ]
  },
  {
   "cell_type": "code",
   "execution_count": null,
   "id": "958ece90",
   "metadata": {},
   "outputs": [],
   "source": [
    "print (0.01 * (2 ** 30))"
   ]
  },
  {
   "cell_type": "code",
   "execution_count": null,
   "id": "a9d55d56",
   "metadata": {},
   "outputs": [],
   "source": []
  }
 ],
 "metadata": {
  "kernelspec": {
   "display_name": "Python 3 (ipykernel)",
   "language": "python",
   "name": "python3"
  },
  "language_info": {
   "codemirror_mode": {
    "name": "ipython",
    "version": 3
   },
   "file_extension": ".py",
   "mimetype": "text/x-python",
   "name": "python",
   "nbconvert_exporter": "python",
   "pygments_lexer": "ipython3",
   "version": "3.8.12"
  }
 },
 "nbformat": 4,
 "nbformat_minor": 5
}
