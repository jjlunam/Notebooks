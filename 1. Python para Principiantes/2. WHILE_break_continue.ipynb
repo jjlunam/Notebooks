{
 "cells": [
  {
   "cell_type": "markdown",
   "id": "f2697c5b",
   "metadata": {},
   "source": [
    "# **WHILE**"
   ]
  },
  {
   "cell_type": "markdown",
   "id": "a2259a94",
   "metadata": {},
   "source": [
    "**BUCLE QUE REPITE UN CODIGO MIENTRAS SE CUMPLA UNA CONDICIÓN (ITERACIÓN)**\n",
    "   "
   ]
  },
  {
   "cell_type": "code",
   "execution_count": null,
   "id": "c187b50d",
   "metadata": {},
   "outputs": [],
   "source": [
    "i = 1\n",
    "while i <= 5:\n",
    "    print (i)\n",
    "    i = i + 1\n",
    "print (\"FIN\")"
   ]
  },
  {
   "cell_type": "markdown",
   "id": "c05d6bd1",
   "metadata": {},
   "source": [
    "**BREAK**"
   ]
  },
  {
   "cell_type": "markdown",
   "id": "b666a5a9",
   "metadata": {},
   "source": [
    "INTERRUPCION DENTRO DEL BUCLE "
   ]
  },
  {
   "cell_type": "code",
   "execution_count": null,
   "id": "ca1b5285",
   "metadata": {},
   "outputs": [],
   "source": [
    "i = 0\n",
    "while True:\n",
    "    print (i)\n",
    "    i = i + 1\n",
    "    if i >= 5:\n",
    "        break\n",
    "print (\"FIN\")"
   ]
  },
  {
   "cell_type": "markdown",
   "id": "7d457d5b",
   "metadata": {},
   "source": [
    "**CONTINUE**"
   ]
  },
  {
   "cell_type": "markdown",
   "id": "810f0d87",
   "metadata": {},
   "source": [
    "SALTO AL INICIO DE UN BUCLE PARA CONTINUAR CON LA SIGUIENTE ITERACIÓN"
   ]
  },
  {
   "cell_type": "code",
   "execution_count": null,
   "id": "743cfa09",
   "metadata": {},
   "outputs": [],
   "source": [
    "i = 1\n",
    "while i <= 5:\n",
    "    print(i)\n",
    "    i = i + 1\n",
    "    if i == 3:\n",
    "        print (\"SALTO EN 3\")\n",
    "        continue"
   ]
  },
  {
   "cell_type": "markdown",
   "id": "e3c17f11",
   "metadata": {},
   "source": [
    "EJEMPLO DE BREAK Y CONTINUE:"
   ]
  },
  {
   "cell_type": "code",
   "execution_count": null,
   "id": "efd35d62",
   "metadata": {},
   "outputs": [],
   "source": [
    "i = 0\n",
    "while True:\n",
    "    i = i + 1\n",
    "    if (i == 2):\n",
    "        continue\n",
    "    if (i == 5):\n",
    "        break\n",
    "    print (i)"
   ]
  },
  {
   "cell_type": "markdown",
   "id": "dae77ca2",
   "metadata": {},
   "source": [
    "## \"EJEMPLO USANDO WHILE\""
   ]
  },
  {
   "cell_type": "markdown",
   "id": "9e2d0fad",
   "metadata": {},
   "source": [
    "MOSTRAR LOS CUADRADOS DE NÚMEROS CONSECUTIVOS:"
   ]
  },
  {
   "cell_type": "code",
   "execution_count": null,
   "id": "bb20a5d5",
   "metadata": {},
   "outputs": [],
   "source": [
    "LIMITE = 1000\n",
    "contador = 0\n",
    "potencia_2 = 2**contador\n",
    "while potencia_2 < LIMITE:\n",
    "    print ('2 elevado a: '+ str(contador)+ ' es igual a: '+ str(potencia_2))\n",
    "    contador = contador + 1\n",
    "    potencia_2 = 2**contador"
   ]
  }
 ],
 "metadata": {
  "kernelspec": {
   "display_name": "Python 3 (ipykernel)",
   "language": "python",
   "name": "python3"
  },
  "language_info": {
   "codemirror_mode": {
    "name": "ipython",
    "version": 3
   },
   "file_extension": ".py",
   "mimetype": "text/x-python",
   "name": "python",
   "nbconvert_exporter": "python",
   "pygments_lexer": "ipython3",
   "version": "3.9.7"
  }
 },
 "nbformat": 4,
 "nbformat_minor": 5
}
