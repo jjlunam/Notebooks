{
 "cells": [
  {
   "cell_type": "markdown",
   "id": "83890059",
   "metadata": {},
   "source": [
    "# **BUCLE FOR**"
   ]
  },
  {
   "cell_type": "markdown",
   "id": "b78cfda6",
   "metadata": {},
   "source": [
    "EL BUCLE FOR SE UTILIZA PARA ITERAR SOBRE UNA SECUENCIA DETERMINADA, COMO LISTAS O CADENAS.  \n",
    "\n",
    "EL BUCLE FOR DEFINE UNA VARIABLE QUE TOMA EL VALOR DEL ELEMENTO ACTUAL DE LA LISTA EN CADA ITERACIÓN"
   ]
  },
  {
   "cell_type": "markdown",
   "id": "48415f8a",
   "metadata": {},
   "source": [
    "El siguiente código muestra cada elemento de la lista y agrega un signo de exclamación al final:"
   ]
  },
  {
   "cell_type": "code",
   "execution_count": null,
   "id": "01591c86",
   "metadata": {},
   "outputs": [],
   "source": [
    "palabras = [\"hello\" , \"world\" , \"spam\" , \"eggs\"]\n",
    "for i in palabras:\n",
    "    print (i + \"!\")"
   ]
  },
  {
   "cell_type": "markdown",
   "id": "628c9233",
   "metadata": {},
   "source": [
    "SE PUEDE USAR EL BUCLE FOR PARA ITERAR SOBRE CADENAS:"
   ]
  },
  {
   "cell_type": "code",
   "execution_count": null,
   "id": "4aa4b814",
   "metadata": {},
   "outputs": [],
   "source": [
    "str = \"testing for loops\"\n",
    "count = 0\n",
    "for x in str:\n",
    "    if(x == 't'):\n",
    "        count += 1\n",
    "print (count)"
   ]
  },
  {
   "cell_type": "markdown",
   "id": "15caf9ef",
   "metadata": {},
   "source": [
    "SIMILAR A WHILE, LAS DECLARACIONES BREAK Y CONTINUE SE PUEDEN USAR EN BUCLES FOR, PARA DETENER O SALTAR A LA SIGUIENTE ITERACIÓN"
   ]
  },
  {
   "cell_type": "code",
   "execution_count": null,
   "id": "7092ee85",
   "metadata": {},
   "outputs": [],
   "source": [
    "text = \"some text\"\n",
    "for x in text:\n",
    "    if x == 'e':\n",
    "        break\n",
    "    print (x)"
   ]
  },
  {
   "cell_type": "markdown",
   "id": "554d5c8b",
   "metadata": {},
   "source": [
    "# FOR vs WHILE"
   ]
  },
  {
   "cell_type": "markdown",
   "id": "98b900bd",
   "metadata": {},
   "source": [
    "**Ambos bucles se usan para ejecutar un bloque de código varias veces. Por lo general se usa FOR cuando el número de iteraciones es fijo. Por ejemplo, iterar sobre una lista fija de elementos de una lista de compras.**\n",
    "\n",
    "\n",
    "**El bucle WHILE se usa en casos donde no se conoce el número de iteraciones en el bloque de código del bucle. Por ejemplo, finalizar el ciclo cuando el usuario ingresa una entrada especifica en un programa de calculadora**"
   ]
  },
  {
   "cell_type": "markdown",
   "id": "d22b98f1",
   "metadata": {},
   "source": [
    "**Ambos se pueden usar para lograr los mismos resultados, el bucle FOR tiene una sintaxis más limpia y corta, lo que lo convierte en una mejor opción en la mayoría de casos.**"
   ]
  },
  {
   "cell_type": "markdown",
   "id": "307f83e4",
   "metadata": {},
   "source": [
    "Ejemplo:"
   ]
  },
  {
   "cell_type": "code",
   "execution_count": null,
   "id": "6c5e8984",
   "metadata": {},
   "outputs": [],
   "source": [
    "nums = [1,2,3,4]\n",
    "res = 0\n",
    "for x in nums:\n",
    "    if (x%2 == 0):\n",
    "        continue\n",
    "    else:\n",
    "        res += x\n",
    "print (res)"
   ]
  },
  {
   "cell_type": "markdown",
   "id": "a7d45cb4",
   "metadata": {},
   "source": [
    "La declaración \"list\" devuelve en lista lo que se encuentre en su estructura, por ejemplo un rango:"
   ]
  },
  {
   "cell_type": "code",
   "execution_count": null,
   "id": "404e23e9",
   "metadata": {},
   "outputs": [],
   "source": [
    "rango = list(range(2,10))\n",
    "print (rango)"
   ]
  }
 ],
 "metadata": {
  "kernelspec": {
   "display_name": "Python 3 (ipykernel)",
   "language": "python",
   "name": "python3"
  },
  "language_info": {
   "codemirror_mode": {
    "name": "ipython",
    "version": 3
   },
   "file_extension": ".py",
   "mimetype": "text/x-python",
   "name": "python",
   "nbconvert_exporter": "python",
   "pygments_lexer": "ipython3",
   "version": "3.9.7"
  }
 },
 "nbformat": 4,
 "nbformat_minor": 5
}
