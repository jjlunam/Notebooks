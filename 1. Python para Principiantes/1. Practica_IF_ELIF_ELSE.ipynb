{
 "cells": [
  {
   "cell_type": "markdown",
   "id": "1e0f6418",
   "metadata": {},
   "source": [
    "# PRACTICA"
   ]
  },
  {
   "cell_type": "markdown",
   "id": "38403bf3",
   "metadata": {},
   "source": [
    "El seguimiento de su IMC es una forma útil de comprobar si mantiene un peso saludable. Se calcula utilizando el peso y la estatura de una persona, utilizando esta fórmula: peso / estatura²\n",
    "\n",
    "El número resultante indica una de las siguientes categorías:\n",
    "* Peso insuficiente = menos de 18,5\n",
    "* Normal = más o igual a 18,5 y menos de 25\n",
    "* Sobrepeso = mayor o igual a 25 y menor a 30\n",
    "* Obesidad = 30 o más\n",
    "\n",
    "Hagamos que averiguar su IMC sea más rápido y fácil, creando un programa que tome el peso y la altura de una persona como entrada y genere la categoría de IMC correspondiente.\n",
    "\n",
    "Entrada de muestra\n",
    "* 85\n",
    "* 1,9\n",
    "\n",
    "Salida de muestra\n",
    "* Normal"
   ]
  },
  {
   "cell_type": "markdown",
   "id": "3503541e",
   "metadata": {},
   "source": [
    "**RESOLUCION:**"
   ]
  },
  {
   "cell_type": "code",
   "execution_count": null,
   "id": "29edc9a7",
   "metadata": {},
   "outputs": [],
   "source": [
    "weight = int(input(\"ingrese su peso en Kg: \"))"
   ]
  },
  {
   "cell_type": "code",
   "execution_count": null,
   "id": "fc537331",
   "metadata": {},
   "outputs": [],
   "source": [
    "height = float(input(\"Ingrese su talla en metros: \"))"
   ]
  },
  {
   "cell_type": "code",
   "execution_count": null,
   "id": "25d0c965",
   "metadata": {},
   "outputs": [],
   "source": [
    "bmi = weight/height**2\n",
    "\n",
    "if bmi < 18.5:\n",
    "    print (\"Underweight\")\n",
    "elif bmi  >= 18.5 and bmi < 25:\n",
    "    print (\"Normal\")\n",
    "elif bmi >= 25 and bmi < 30:\n",
    "    print (\"Overweight\")\n",
    "else:\n",
    "    print (\"Obesity\")"
   ]
  }
 ],
 "metadata": {
  "kernelspec": {
   "display_name": "Python 3 (ipykernel)",
   "language": "python",
   "name": "python3"
  },
  "language_info": {
   "codemirror_mode": {
    "name": "ipython",
    "version": 3
   },
   "file_extension": ".py",
   "mimetype": "text/x-python",
   "name": "python",
   "nbconvert_exporter": "python",
   "pygments_lexer": "ipython3",
   "version": "3.9.7"
  }
 },
 "nbformat": 4,
 "nbformat_minor": 5
}
