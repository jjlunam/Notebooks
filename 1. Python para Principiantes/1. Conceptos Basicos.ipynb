{
  "nbformat": 4,
  "nbformat_minor": 0,
  "metadata": {
    "colab": {
      "provenance": [],
      "collapsed_sections": []
    },
    "kernelspec": {
      "name": "python3",
      "display_name": "Python 3"
    },
    "language_info": {
      "name": "python"
    }
  },
  "cells": [
    {
      "cell_type": "markdown",
      "source": [
        "# CONCEPTOS BASICOS"
      ],
      "metadata": {
        "id": "YYDSEsApCPZe"
      }
    },
    {
      "cell_type": "markdown",
      "source": [
        "Python es uno de los lenguajes de programación más populares, ampliamente utilizado en el desarrollo web y de juegos, análisis de datos, ciencia de datos, aprendizaje automático y mucho más.\n",
        "\n",
        "Este curso lo ayudará a codificar sus propios programas en poco tiempo, de la manera más simple, para que pueda resolver problemas del mundo real y crear sus propias aplicaciones."
      ],
      "metadata": {
        "id": "H1i5iipQCUiN"
      }
    },
    {
      "cell_type": "markdown",
      "source": [
        "## ¿Por qué Python?"
      ],
      "metadata": {
        "id": "jGsRriUsCZrX"
      }
    },
    {
      "cell_type": "markdown",
      "source": [
        "Python tiene una sintaxis simple, lo que significa que podrá aprenderlo rápidamente y ponerlo en práctica después de unas pocas lecciones."
      ],
      "metadata": {
        "id": "b67ZlZW2CdaQ"
      }
    },
    {
      "cell_type": "code",
      "execution_count": null,
      "metadata": {
        "colab": {
          "base_uri": "https://localhost:8080/"
        },
        "id": "0O_XftKeCCAY",
        "outputId": "09ebe265-474c-409e-9e51-4e757676ca15"
      },
      "outputs": [
        {
          "output_type": "stream",
          "name": "stdout",
          "text": [
            "74750.0\n"
          ]
        }
      ],
      "source": [
        "print (65000 * 1.15)"
      ]
    },
    {
      "cell_type": "markdown",
      "source": [
        "El código de ejemplo muestra el salario promedio en dólares estadounidenses de un programador de Python de nivel de entrada, más un bono anual del 15 %."
      ],
      "metadata": {
        "id": "0C0-gxWTChwf"
      }
    },
    {
      "cell_type": "markdown",
      "source": [
        "## SALIDA"
      ],
      "metadata": {
        "id": "Hu0lu4NHC1Jq"
      }
    },
    {
      "cell_type": "markdown",
      "source": [
        "El comando de **impresión** es la forma más fácil de enviar un mensaje específico a la pantalla u otro dispositivo de visualización.\n",
        "\n",
        "Este mensaje o **salida** puede ser un número, texto o el resultado de un cálculo."
      ],
      "metadata": {
        "id": "UVLLYsMPC4cW"
      }
    },
    {
      "cell_type": "code",
      "source": [
        "print (60)"
      ],
      "metadata": {
        "colab": {
          "base_uri": "https://localhost:8080/"
        },
        "id": "II52nMSkCqJW",
        "outputId": "139d633f-587b-484e-b478-f3522003b904"
      },
      "execution_count": null,
      "outputs": [
        {
          "output_type": "stream",
          "name": "stdout",
          "text": [
            "60\n"
          ]
        }
      ]
    },
    {
      "cell_type": "markdown",
      "source": [
        "> El comando de **print** siempre va seguido de paréntesis que contienen la salida que queremos enviar a la pantalla."
      ],
      "metadata": {
        "id": "IrzVfG8fDBVm"
      }
    },
    {
      "cell_type": "markdown",
      "source": [
        "### Impresión de texto"
      ],
      "metadata": {
        "id": "pGbOflH8UKFw"
      }
    },
    {
      "cell_type": "markdown",
      "source": [
        "Las computadoras tratan el texto y los números de manera diferente. Al imprimir salidas de texto, debe encerrar el texto en **comillas simples o dobles**"
      ],
      "metadata": {
        "id": "OZjnqhiuUMrA"
      }
    },
    {
      "cell_type": "code",
      "source": [
        "print (\"Codificar es un arte\")"
      ],
      "metadata": {
        "id": "ScTrhduCC_xe",
        "colab": {
          "base_uri": "https://localhost:8080/"
        },
        "outputId": "3828fe7b-1f74-4f4f-fb4a-7b87e6e44fcb"
      },
      "execution_count": null,
      "outputs": [
        {
          "output_type": "stream",
          "name": "stdout",
          "text": [
            "Codificar es un arte\n"
          ]
        }
      ]
    },
    {
      "cell_type": "markdown",
      "source": [
        "El texto entre comillas se llama cadena (string)\n",
        "> Las comillas que encierran el texto deben ser iguales, ya sean simples o dobles. Si olvida agregar las comillas o si las comillas no son las mismas, Python devolverá un error."
      ],
      "metadata": {
        "id": "znxMHqiJUXKI"
      }
    },
    {
      "cell_type": "markdown",
      "source": [
        "Hay situaciones en las que es posible que desee **imprimir varios mensajes** en su código.\n",
        "\n",
        "Cada declaración de impresión genera texto en una **nueva línea**"
      ],
      "metadata": {
        "id": "JB68xY88UiNw"
      }
    },
    {
      "cell_type": "code",
      "source": [
        "print(\"Lista de compras\")\n",
        "print(\"pan\")\n",
        "print(\"Huevos\")"
      ],
      "metadata": {
        "colab": {
          "base_uri": "https://localhost:8080/"
        },
        "id": "CdqcdNwLUWMR",
        "outputId": "521314a1-6606-4c48-8d77-348308434eb4"
      },
      "execution_count": null,
      "outputs": [
        {
          "output_type": "stream",
          "name": "stdout",
          "text": [
            "Lista de compras\n",
            "pan\n",
            "Huevos\n"
          ]
        }
      ]
    },
    {
      "cell_type": "markdown",
      "source": [
        ">> Python recibe su nombre de la serie de televisión de comedia de la BBC **Monty Python** porque su creador pensó que necesitaba un nombre que fuera corto, único y ligeramente misterioso."
      ],
      "metadata": {
        "id": "wDDmOCJfUv-h"
      }
    },
    {
      "cell_type": "markdown",
      "source": [
        "### CONCLUSIONES"
      ],
      "metadata": {
        "id": "CjG2GjbDU5Cq"
      }
    },
    {
      "cell_type": "markdown",
      "source": [
        "¡Impresionante! ¡Ahora sabe cómo generar texto y números con Python! \n",
        "\n",
        "Recuerde los siguientes puntos importantes: \n",
        "- La declaración **print** debe ir seguida de paréntesis, encerrando la salida que queremos enviar a la pantalla. \n",
        "- un mensaje de texto (también llamado **cadena**) debe estar entre comillas. \n",
        "- no necesita comillas para generar **números**. \n"
      ],
      "metadata": {
        "id": "-kNvTIOrU7Zh"
      }
    },
    {
      "cell_type": "markdown",
      "source": [
        "---\n",
        "# OPERACIONES SIMPLES"
      ],
      "metadata": {
        "id": "doNOT-4NXcw0"
      }
    },
    {
      "cell_type": "markdown",
      "source": [
        "Entonces, Python puede deletrear, pero ¿puede contar? Hablemos de cálculos.\n",
        "\n",
        "Hacer un cálculo en Python es simple, solo ingréselo en la declaración de **impresión**"
      ],
      "metadata": {
        "id": "NMdMIhi5Xct7"
      }
    },
    {
      "cell_type": "code",
      "source": [
        "print (2 + 2)\n",
        "print (5 + 4 - 3)"
      ],
      "metadata": {
        "colab": {
          "base_uri": "https://localhost:8080/"
        },
        "id": "yoDp9raOX65V",
        "outputId": "3575bb4f-a70b-45a2-f127-a6c59d814e1e"
      },
      "execution_count": null,
      "outputs": [
        {
          "output_type": "stream",
          "name": "stdout",
          "text": [
            "4\n",
            "6\n"
          ]
        }
      ]
    },
    {
      "cell_type": "markdown",
      "source": [
        "> ¿Ves los espacios alrededor de los signos más y menos? El código funcionará sin ellos, pero incluirlos hace que sea mucho más fácil de leer."
      ],
      "metadata": {
        "id": "UOq-Yux-XyvN"
      }
    },
    {
      "cell_type": "markdown",
      "source": [
        "**Multiplicación**\n",
        "\n",
        "\n",
        "La multiplicación se hace usando un símbolo de asterisco * :"
      ],
      "metadata": {
        "id": "JhcviC-lXcr4"
      }
    },
    {
      "cell_type": "code",
      "source": [
        "print (12 * 64)"
      ],
      "metadata": {
        "colab": {
          "base_uri": "https://localhost:8080/"
        },
        "id": "0S0YJtfAYFBS",
        "outputId": "61107e5e-eb1c-4ff3-e489-52356be15478"
      },
      "execution_count": null,
      "outputs": [
        {
          "output_type": "stream",
          "name": "stdout",
          "text": [
            "768\n"
          ]
        }
      ]
    },
    {
      "cell_type": "markdown",
      "source": [
        "**División**\n",
        "\n",
        "\n",
        "La división se realiza mediante una barra oblicua:"
      ],
      "metadata": {
        "id": "mdP_Mbl7Xco9"
      }
    },
    {
      "cell_type": "code",
      "source": [
        "print (100 / 2)"
      ],
      "metadata": {
        "colab": {
          "base_uri": "https://localhost:8080/"
        },
        "id": "sfjr1n91YL5r",
        "outputId": "3de777c9-8172-4ae2-fef3-715385c4cb28"
      },
      "execution_count": null,
      "outputs": [
        {
          "output_type": "stream",
          "name": "stdout",
          "text": [
            "50.0\n"
          ]
        }
      ]
    },
    {
      "cell_type": "markdown",
      "source": [
        "Usar una sola barra para dividir números siempre produce un **decimal** (o flotante, como se le llama en programación), incluso si el resultado es un número entero."
      ],
      "metadata": {
        "id": "QlTiaQqFXcmU"
      }
    },
    {
      "cell_type": "markdown",
      "source": [
        "Al igual que en las matemáticas regulares, podemos usar **paréntesis** para indicar las operaciones que queremos realizar primero, así:"
      ],
      "metadata": {
        "id": "_p3S1xnCXcjN"
      }
    },
    {
      "cell_type": "code",
      "source": [
        "print (2 * (3 + 4))"
      ],
      "metadata": {
        "colab": {
          "base_uri": "https://localhost:8080/"
        },
        "id": "TXkHGzf1YnH8",
        "outputId": "56970f26-f99b-499b-d8dd-c939dd496e26"
      },
      "execution_count": null,
      "outputs": [
        {
          "output_type": "stream",
          "name": "stdout",
          "text": [
            "14\n"
          ]
        }
      ]
    },
    {
      "cell_type": "markdown",
      "source": [
        "**Números negativos**\n",
        "\n",
        "\n",
        "Puede usar el signo menos delante de un número para convertirlo en negativo."
      ],
      "metadata": {
        "id": "Nqe-HdToXcgD"
      }
    },
    {
      "cell_type": "code",
      "source": [
        "print (-8 * 6)"
      ],
      "metadata": {
        "id": "6v1vQtblXcV3",
        "colab": {
          "base_uri": "https://localhost:8080/"
        },
        "outputId": "95d7b5f4-c490-4ec6-cc73-93e7402a7ab4"
      },
      "execution_count": null,
      "outputs": [
        {
          "output_type": "stream",
          "name": "stdout",
          "text": [
            "-48\n"
          ]
        }
      ]
    },
    {
      "cell_type": "markdown",
      "source": [
        "Una de las mejores cosas de Python es que puede realizar operaciones con números realmente grandes. Por ejemplo, calculemos 123456789 por 12345:"
      ],
      "metadata": {
        "id": "3_GwxjqIY010"
      }
    },
    {
      "cell_type": "code",
      "source": [
        "print (123456789 * 12345)"
      ],
      "metadata": {
        "colab": {
          "base_uri": "https://localhost:8080/"
        },
        "id": "2lxq0DdBY3mz",
        "outputId": "7697cc58-715d-4231-aa1d-1779bd20e6ff"
      },
      "execution_count": null,
      "outputs": [
        {
          "output_type": "stream",
          "name": "stdout",
          "text": [
            "1524074060205\n"
          ]
        }
      ]
    },
    {
      "cell_type": "markdown",
      "source": [
        "---\n",
        "# TIPO DE DATOS"
      ],
      "metadata": {
        "id": "2jQeOhBZY0zi"
      }
    },
    {
      "cell_type": "markdown",
      "source": [
        "Antes de continuar, es una buena idea presentar los principales tipos de datos que usamos en Python. Cada valor en Python tiene un **tipo**. \n",
        "\n",
        "El texto entre comillas, como \"Hello World\" se llama cadena .\n",
        "\n",
        "> Como hemos visto, podemos usar comillas simples o dobles para crear **cadenas** (string).\n",
        "\n"
      ],
      "metadata": {
        "id": "40BSIuG1Y0wt"
      }
    },
    {
      "cell_type": "markdown",
      "source": [
        "**ENTEROS**\n",
        "\n",
        "\n",
        "Los números enteros se llaman **números enteros**. Podemos generar números enteros con la declaración de impresión:"
      ],
      "metadata": {
        "id": "imTRf_9tY0uN"
      }
    },
    {
      "cell_type": "code",
      "source": [
        "print (42)"
      ],
      "metadata": {
        "colab": {
          "base_uri": "https://localhost:8080/"
        },
        "id": "Oya4WGydZaQT",
        "outputId": "a544f3aa-e5a3-4698-9174-4998a3b599a3"
      },
      "execution_count": null,
      "outputs": [
        {
          "output_type": "stream",
          "name": "stdout",
          "text": [
            "42\n"
          ]
        }
      ]
    },
    {
      "cell_type": "markdown",
      "source": [
        "Puede sumar, restar y multiplicar números enteros, produciendo otro entero como resultado."
      ],
      "metadata": {
        "id": "CuVahLUVY0rl"
      }
    },
    {
      "cell_type": "code",
      "source": [
        "print (8 + 4 -2)\n",
        "print (10 * 6)"
      ],
      "metadata": {
        "colab": {
          "base_uri": "https://localhost:8080/"
        },
        "id": "lv_l4vDuZrjM",
        "outputId": "384f4961-9058-47ea-ff19-51a18f7e9022"
      },
      "execution_count": null,
      "outputs": [
        {
          "output_type": "stream",
          "name": "stdout",
          "text": [
            "10\n",
            "60\n"
          ]
        }
      ]
    },
    {
      "cell_type": "markdown",
      "source": [
        "**FLOTANTES**\n",
        "\n",
        "\n",
        "En la lección anterior, aprendimos que dividir dos números enteros produce un decimal, que se llama **flotante**.\n",
        "> El resultado de la división siempre es flotante, incluso si el resultado no tiene resto."
      ],
      "metadata": {
        "id": "1exk8RKUY0o3"
      }
    },
    {
      "cell_type": "code",
      "source": [
        "print (6 / 2)\n",
        "print (8 / 3)"
      ],
      "metadata": {
        "colab": {
          "base_uri": "https://localhost:8080/"
        },
        "id": "GTEQYDIHaB0l",
        "outputId": "6f7a6366-4964-4ad1-8095-3555fbfbdc6c"
      },
      "execution_count": null,
      "outputs": [
        {
          "output_type": "stream",
          "name": "stdout",
          "text": [
            "3.0\n",
            "2.6666666666666665\n"
          ]
        }
      ]
    },
    {
      "cell_type": "markdown",
      "source": [
        "Puede realizar operaciones matemáticas con flotantes, al igual que con números enteros:"
      ],
      "metadata": {
        "id": "-1_0heaPY0md"
      }
    },
    {
      "cell_type": "code",
      "source": [
        "print (4.13 * 7)\n",
        "print (1.3 + 9.87)\n",
        "print(4 + 3.7)"
      ],
      "metadata": {
        "colab": {
          "base_uri": "https://localhost:8080/"
        },
        "id": "GG9B_-OZaLVl",
        "outputId": "8bd71442-e50f-446a-bb4c-51005144897f"
      },
      "execution_count": null,
      "outputs": [
        {
          "output_type": "stream",
          "name": "stdout",
          "text": [
            "28.91\n",
            "11.17\n",
            "7.7\n"
          ]
        }
      ]
    },
    {
      "cell_type": "markdown",
      "source": [
        ">> Importante: cuando agrega un número entero a un flotante, el resultado siempre es un flotante."
      ],
      "metadata": {
        "id": "S-6OKClEY0h2"
      }
    },
    {
      "cell_type": "markdown",
      "source": [
        "---\n",
        "# OPERACIONES MATEMÁTICAS"
      ],
      "metadata": {
        "id": "H7KcG_CnY0e-"
      }
    },
    {
      "cell_type": "markdown",
      "source": [
        "Dos asteriscos ** se usan para elevar un número a la potencia de otro, lo que se llama **exponenciación**."
      ],
      "metadata": {
        "id": "gTteJxOtY0ci"
      }
    },
    {
      "cell_type": "code",
      "source": [
        "print (2 ** 5)"
      ],
      "metadata": {
        "colab": {
          "base_uri": "https://localhost:8080/"
        },
        "id": "CALl9IZLbMh2",
        "outputId": "97cce49c-4feb-418e-b31d-a14d8b7c4598"
      },
      "execution_count": null,
      "outputs": [
        {
          "output_type": "stream",
          "name": "stdout",
          "text": [
            "32\n"
          ]
        }
      ]
    },
    {
      "cell_type": "markdown",
      "source": [
        "Puedes encadenar exponenciaciones juntas.\n",
        "En otras palabras, puedes elevar un número a una potencia, que también puede elevarse a una potencia."
      ],
      "metadata": {
        "id": "mkpGYc_xY0Zv"
      }
    },
    {
      "cell_type": "code",
      "source": [
        "print (2 ** 3 ** 2)"
      ],
      "metadata": {
        "colab": {
          "base_uri": "https://localhost:8080/"
        },
        "id": "elgpn_RYbTb1",
        "outputId": "8e5f0345-3747-400c-84c9-d3a77d6f42c8"
      },
      "execution_count": null,
      "outputs": [
        {
          "output_type": "stream",
          "name": "stdout",
          "text": [
            "512\n"
          ]
        }
      ]
    },
    {
      "cell_type": "markdown",
      "source": [
        "También podemos usar **flotantes** en exponenciación. \n"
      ],
      "metadata": {
        "id": "MSJ-QMAjY0XF"
      }
    },
    {
      "cell_type": "code",
      "source": [
        "print (9 ** (1/2))"
      ],
      "metadata": {
        "colab": {
          "base_uri": "https://localhost:8080/"
        },
        "id": "W5UMjaV5bhtW",
        "outputId": "00b2af4c-9864-4108-fd11-c003eb43903a"
      },
      "execution_count": null,
      "outputs": [
        {
          "output_type": "stream",
          "name": "stdout",
          "text": [
            "3.0\n"
          ]
        }
      ]
    },
    {
      "cell_type": "markdown",
      "source": [
        "**DIVISION DE PISO**\n",
        "\n",
        "Como hemos visto, dividir dos números siempre produce un **flotante**. \n",
        "\n",
        "En caso de que queramos encontrar la cantidad producida por la división de dos números como un número entero (también llamado **cociente**), podemos usar el operador de división de piso //: "
      ],
      "metadata": {
        "id": "9Oe891Q0Y0Uc"
      }
    },
    {
      "cell_type": "code",
      "source": [
        "print ( 20 // 6)"
      ],
      "metadata": {
        "id": "ljCLSUj-XcS3",
        "colab": {
          "base_uri": "https://localhost:8080/"
        },
        "outputId": "83bf4b73-f343-4e2b-b4cd-bf52308ffa61"
      },
      "execution_count": null,
      "outputs": [
        {
          "output_type": "stream",
          "name": "stdout",
          "text": [
            "3\n"
          ]
        }
      ]
    },
    {
      "cell_type": "markdown",
      "source": [
        "> El código anterior generará 3, porque entra tres veces 6 en 20"
      ],
      "metadata": {
        "id": "D-bl5zAbbxfQ"
      }
    },
    {
      "cell_type": "markdown",
      "source": [
        "**RESTO**\n",
        "\n",
        "\n",
        "Si queremos encontrar solo el resto en una división, usamos el operador de **módulo %**:"
      ],
      "metadata": {
        "id": "Iblkcoe7cdkX"
      }
    },
    {
      "cell_type": "code",
      "source": [
        "print ( 20 % 6)"
      ],
      "metadata": {
        "colab": {
          "base_uri": "https://localhost:8080/"
        },
        "id": "7rixLBOKcc8f",
        "outputId": "ba1f0839-b4c5-45a3-942f-16d7bc3ad220"
      },
      "execution_count": null,
      "outputs": [
        {
          "output_type": "stream",
          "name": "stdout",
          "text": [
            "2\n"
          ]
        }
      ]
    },
    {
      "cell_type": "markdown",
      "source": [
        "**COCIENTE Y RESTO**\n",
        "\n",
        "\n",
        "También podemos usar los operadores de división de piso y módulo con flotantes:"
      ],
      "metadata": {
        "id": "GWx_0FDncrL3"
      }
    },
    {
      "cell_type": "code",
      "source": [
        "print (1.25 % 0.5)\n",
        "print (4.2 // 1.4)"
      ],
      "metadata": {
        "id": "5OraoH_fXcQe",
        "colab": {
          "base_uri": "https://localhost:8080/"
        },
        "outputId": "937ba478-82de-4b79-c004-9d79d65c9e88"
      },
      "execution_count": null,
      "outputs": [
        {
          "output_type": "stream",
          "name": "stdout",
          "text": [
            "0.25\n",
            "3.0\n"
          ]
        }
      ]
    }
  ]
}