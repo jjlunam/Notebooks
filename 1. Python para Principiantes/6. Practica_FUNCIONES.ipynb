{
 "cells": [
  {
   "cell_type": "markdown",
   "id": "a8641387",
   "metadata": {},
   "source": [
    "# BUSCADOR"
   ]
  },
  {
   "cell_type": "markdown",
   "id": "16e8db3c",
   "metadata": {},
   "source": [
    "Estás trabajando en un motor de búsqueda.  ¡Cuida tu espalda Google!\n",
    "\n",
    "El código dado toma **un texto y una palabra** como entrada y los pasa a una función llamada **search()**.\n",
    "\n",
    "La función de **search()** debe devolver \"Palabra encontrada\" si la palabra está presente en el texto, o \"Palabra no encontrada\", si no lo está.\n",
    "\n",
    "Entrada de muestra\n",
    " - \"Esto es asombroso\"\n",
    " - \"increíble\"\n",
    "\n",
    "Salida de muestra\n",
    " - Palabra encontrada"
   ]
  },
  {
   "cell_type": "code",
   "execution_count": null,
   "id": "f1d21686",
   "metadata": {},
   "outputs": [],
   "source": [
    "text = input()\n",
    "word = input()\n",
    "def search(text, word):\n",
    "    if word in text:\n",
    "        print (\"Word found\")\n",
    "    else:\n",
    "        print (\"Word not found\")       "
   ]
  },
  {
   "cell_type": "code",
   "execution_count": null,
   "id": "dfcc7b35",
   "metadata": {},
   "outputs": [],
   "source": [
    "search(text, word)"
   ]
  }
 ],
 "metadata": {
  "kernelspec": {
   "display_name": "Python 3 (ipykernel)",
   "language": "python",
   "name": "python3"
  },
  "language_info": {
   "codemirror_mode": {
    "name": "ipython",
    "version": 3
   },
   "file_extension": ".py",
   "mimetype": "text/x-python",
   "name": "python",
   "nbconvert_exporter": "python",
   "pygments_lexer": "ipython3",
   "version": "3.9.7"
  }
 },
 "nbformat": 4,
 "nbformat_minor": 5
}
