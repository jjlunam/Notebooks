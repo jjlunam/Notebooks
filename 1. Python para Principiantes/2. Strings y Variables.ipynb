{
  "nbformat": 4,
  "nbformat_minor": 0,
  "metadata": {
    "colab": {
      "provenance": [],
      "collapsed_sections": []
    },
    "kernelspec": {
      "name": "python3",
      "display_name": "Python 3"
    },
    "language_info": {
      "name": "python"
    }
  },
  "cells": [
    {
      "cell_type": "markdown",
      "source": [
        "# STRINGS"
      ],
      "metadata": {
        "id": "kHDkFXPtdNVn"
      }
    },
    {
      "cell_type": "markdown",
      "source": [
        "Conocimos cadenas en el módulo 1, pero ahora es el momento de conocernos mejor. \n",
        "\n",
        "Recuerde, podemos crear una **cadena** ingresando texto entre **dos comillas simples o dobles**."
      ],
      "metadata": {
        "id": "8f8dWNpedNSf"
      }
    },
    {
      "cell_type": "code",
      "source": [
        "print (\"Python is fun!\")"
      ],
      "metadata": {
        "colab": {
          "base_uri": "https://localhost:8080/"
        },
        "id": "ntMnhdfYdjBh",
        "outputId": "4c20bc14-29cf-460f-9296-8f5c0bde1ff1"
      },
      "execution_count": null,
      "outputs": [
        {
          "output_type": "stream",
          "name": "stdout",
          "text": [
            "Python is fun!\n"
          ]
        }
      ]
    },
    {
      "cell_type": "markdown",
      "source": [
        "El delimitador (\" o ') utilizado para una cadena no afecta su comportamiento de ninguna manera."
      ],
      "metadata": {
        "id": "M6baBpWEdUu4"
      }
    },
    {
      "cell_type": "markdown",
      "source": [
        "Todo lo que está entre comillas es una cadena, incluso los números."
      ],
      "metadata": {
        "id": "9o6LRK_6dNMn"
      }
    },
    {
      "cell_type": "code",
      "source": [
        "print (\"42\")"
      ],
      "metadata": {
        "colab": {
          "base_uri": "https://localhost:8080/"
        },
        "id": "Z3DXU36Jd1wA",
        "outputId": "06c843e5-dcfe-43cc-cbfe-6a93a9c1ec3d"
      },
      "execution_count": null,
      "outputs": [
        {
          "output_type": "stream",
          "name": "stdout",
          "text": [
            "42\n"
          ]
        }
      ]
    },
    {
      "cell_type": "markdown",
      "source": [
        "### BARRA INVERTIDA"
      ],
      "metadata": {
        "id": "Qlb-UT-UdNJn"
      }
    },
    {
      "cell_type": "markdown",
      "source": [
        "En Python, la barra invertida \\ es un carácter **Escape** especial, llamado carácter.\n",
        "\n",
        "Se usa para representar ciertas cosas en una cadena, como nuevas líneas, tabulaciones y otras cosas útiles. \n",
        "> Tap Continue to learn more about escaping."
      ],
      "metadata": {
        "id": "kev7PFLBdNGv"
      }
    },
    {
      "cell_type": "markdown",
      "source": [
        "Si desea incluir una comilla en una cadena, debe escapar usando una **barra invertida.**\n",
        "> Las barras invertidas que usamos para escapar no se muestran en la salida."
      ],
      "metadata": {
        "id": "riEY2-0QdNDY"
      }
    },
    {
      "cell_type": "code",
      "source": [
        "print ('Brian\\'s: He\\'s. not an angel. He\\'s a very naughty boy!')"
      ],
      "metadata": {
        "id": "cWR-qG33ePIh"
      },
      "execution_count": null,
      "outputs": []
    },
    {
      "cell_type": "markdown",
      "source": [
        "Puede hacer lo mismo con las comillas dobles."
      ],
      "metadata": {
        "id": "Y_ckQAeidNAP"
      }
    },
    {
      "cell_type": "code",
      "source": [
        "print(\"He said: \\\"cool!\\\".\")"
      ],
      "metadata": {
        "colab": {
          "base_uri": "https://localhost:8080/"
        },
        "id": "LVC8JWp8eaNo",
        "outputId": "8942e4f6-e9b3-4c13-c915-d830de559f08"
      },
      "execution_count": null,
      "outputs": [
        {
          "output_type": "stream",
          "name": "stdout",
          "text": [
            "He said: \"cool!\".\n"
          ]
        }
      ]
    },
    {
      "cell_type": "markdown",
      "source": [
        "### NUEVAS LINEAS"
      ],
      "metadata": {
        "id": "V3wXzrhwdM9P"
      }
    },
    {
      "cell_type": "markdown",
      "source": [
        "La barra invertida también se usa para crear nuevas líneas en el texto.\n",
        "\n",
        "Para crear una nueva línea usamos \\n."
      ],
      "metadata": {
        "id": "fcCKjrz_dM6J"
      }
    },
    {
      "cell_type": "code",
      "source": [
        "print (' Uno \\n Dos \\n Tres')"
      ],
      "metadata": {
        "colab": {
          "base_uri": "https://localhost:8080/"
        },
        "id": "3nc9Pya4p-cw",
        "outputId": "5931747d-3deb-4661-ee41-4c5c3cfa5d97"
      },
      "execution_count": null,
      "outputs": [
        {
          "output_type": "stream",
          "name": "stdout",
          "text": [
            " Uno \n",
            " Dos \n",
            " Tres\n"
          ]
        }
      ]
    },
    {
      "cell_type": "markdown",
      "source": [
        "**TABULACION**\n",
        "\n",
        "\n",
        "Similar a una nueva línea, podemos crear una tabulación usando \\t"
      ],
      "metadata": {
        "id": "_77jqdFQdM3H"
      }
    },
    {
      "cell_type": "code",
      "source": [
        "print('\\t hey \\t there')"
      ],
      "metadata": {
        "colab": {
          "base_uri": "https://localhost:8080/"
        },
        "id": "NRRDBSFEqRJ4",
        "outputId": "299db76c-0d1c-41dd-e20c-9ae32ef0987e"
      },
      "execution_count": null,
      "outputs": [
        {
          "output_type": "stream",
          "name": "stdout",
          "text": [
            "\t hey \t there\n"
          ]
        }
      ]
    },
    {
      "cell_type": "markdown",
      "source": [
        "RETORNO\n",
        "\n",
        "\\r es el símbolo de retorno:"
      ],
      "metadata": {
        "id": "FHMwS5zVdM0I"
      }
    },
    {
      "cell_type": "code",
      "source": [
        "print('Hi \\r there')"
      ],
      "metadata": {
        "colab": {
          "base_uri": "https://localhost:8080/"
        },
        "id": "mCf-WTJiqm2y",
        "outputId": "88e29bb5-9233-4196-9712-0e9b355c067e"
      },
      "execution_count": null,
      "outputs": [
        {
          "output_type": "stream",
          "name": "stdout",
          "text": [
            "Hi \r there\n"
          ]
        }
      ]
    },
    {
      "cell_type": "markdown",
      "source": [
        "> \\r se utiliza para desplazar el cursor al principio de la línea; sin embargo, es posible que no funcione como se esperaba en todos los entornos de Python."
      ],
      "metadata": {
        "id": "vFwDGOcHdMxQ"
      }
    },
    {
      "cell_type": "markdown",
      "source": [
        "¿Qué pasa si necesitamos incluir el carácter especial en nuestra salida? Por ejemplo, qué pasa si queremos tener \\n en la salida. \n",
        "\n",
        "En ese caso, simplemente necesitamos escapar usando otra barra invertida."
      ],
      "metadata": {
        "id": "8KE_pLaLdMuQ"
      }
    },
    {
      "cell_type": "code",
      "source": [
        "print (\"Newline is \\\\n\")"
      ],
      "metadata": {
        "colab": {
          "base_uri": "https://localhost:8080/"
        },
        "id": "iGAeZrg5-m94",
        "outputId": "df34c9f7-e4fb-411f-f0dd-9c20cf1a641a"
      },
      "execution_count": null,
      "outputs": [
        {
          "output_type": "stream",
          "name": "stdout",
          "text": [
            "Newline is \\n\n"
          ]
        }
      ]
    },
    {
      "cell_type": "markdown",
      "source": [
        "###\\n vs \\r"
      ],
      "metadata": {
        "id": "Fmf0XxIEdMrX"
      }
    },
    {
      "cell_type": "markdown",
      "source": [
        "¿Cuál es la diferencia entre \\n y \\r ? \n",
        "\n",
        "\\n es el carácter de nueva línea, mientras que \\r es el retorno de carro. Se diferencian en lo que los utiliza. \n",
        "\n",
        "Windows usa \\r\\n para indicar que se presionó la tecla Intro, mientras que Linux y Unix usan \\n ."
      ],
      "metadata": {
        "id": "_tCrgsqLdMoY"
      }
    },
    {
      "cell_type": "markdown",
      "source": [
        "### NUEVAS LINEAS"
      ],
      "metadata": {
        "id": "QIc2F6zQdMln"
      }
    },
    {
      "cell_type": "markdown",
      "source": [
        "\\n es útil, pero puede ser engorroso si estamos tratando de formatear mucho texto de varias líneas. \n",
        "\n",
        "¡Aunque hay otra manera! Las líneas nuevas se agregan automáticamente para las cadenas creadas con tres comillas."
      ],
      "metadata": {
        "id": "o9klqlgadMio"
      }
    },
    {
      "cell_type": "code",
      "source": [
        "print (\"\"\"this\n",
        "is a\n",
        "multiline\n",
        "text\"\"\")"
      ],
      "metadata": {
        "colab": {
          "base_uri": "https://localhost:8080/"
        },
        "id": "juF-CqUg_BvU",
        "outputId": "57d71bed-43de-4458-e97b-f1c152f9f314"
      },
      "execution_count": null,
      "outputs": [
        {
          "output_type": "stream",
          "name": "stdout",
          "text": [
            "this\n",
            "is a\n",
            "multiline\n",
            "text\n"
          ]
        }
      ]
    },
    {
      "cell_type": "markdown",
      "source": [
        "> Esto facilita el formateo de textos largos de varias líneas sin la necesidad de poner explícitamente \\n para los saltos de línea."
      ],
      "metadata": {
        "id": "b6EEknA3dMfn"
      }
    },
    {
      "cell_type": "markdown",
      "source": [
        "### TRES CITAS"
      ],
      "metadata": {
        "id": "C9NuiSyYdMcy"
      }
    },
    {
      "cell_type": "markdown",
      "source": [
        "Cuando usa tres comillas para crear texto, no es necesario que se escapen las comillas"
      ],
      "metadata": {
        "id": "w7_z0aHPdMaJ"
      }
    },
    {
      "cell_type": "code",
      "source": [
        "print ('''\n",
        "I'm learning,\n",
        "Python's syntax is easy.\n",
        "''')"
      ],
      "metadata": {
        "colab": {
          "base_uri": "https://localhost:8080/"
        },
        "id": "BGVcOH_b_bEe",
        "outputId": "a4346767-0ea8-48c3-ce3a-123a94ee377e"
      },
      "execution_count": null,
      "outputs": [
        {
          "output_type": "stream",
          "name": "stdout",
          "text": [
            "\n",
            "I'm learning,\n",
            "Python's syntax is easy.\n",
            "\n"
          ]
        }
      ]
    },
    {
      "cell_type": "markdown",
      "source": [
        "# OPERACIONES CON STRINGS"
      ],
      "metadata": {
        "id": "tLPcdQJFryeY"
      }
    },
    {
      "cell_type": "markdown",
      "source": [
        "## CONCATENACIÓN"
      ],
      "metadata": {
        "id": "vpzTkHeYr1Pe"
      }
    },
    {
      "cell_type": "markdown",
      "source": [
        "En Python, las matemáticas funcionan tanto con palabras como con números. \n",
        "\n",
        "Entonces, no solo podemos agregar números enteros y flotantes, sino también cadenas, usando algo llamado **concatenación**, que se puede hacer en dos cadenas cualesquiera."
      ],
      "metadata": {
        "id": "8KWR65EXr22H"
      }
    },
    {
      "cell_type": "code",
      "source": [
        "print(\"spam\" + 'eggs')"
      ],
      "metadata": {
        "colab": {
          "base_uri": "https://localhost:8080/"
        },
        "id": "nI_SitQhrq_b",
        "outputId": "a7b18484-f618-4d0d-9f86-7b88229a7d5c"
      },
      "execution_count": 1,
      "outputs": [
        {
          "output_type": "stream",
          "name": "stdout",
          "text": [
            "spameggs\n"
          ]
        }
      ]
    },
    {
      "cell_type": "markdown",
      "source": [
        "Las cadenas que contienen números todavía se agregan como cadenas en lugar de números enteros."
      ],
      "metadata": {
        "id": "SQDtp-ZEsDVJ"
      }
    },
    {
      "cell_type": "code",
      "source": [
        "print(\"2\" + \"2\")"
      ],
      "metadata": {
        "colab": {
          "base_uri": "https://localhost:8080/"
        },
        "id": "XrGTov1zrq8h",
        "outputId": "b31ca892-7641-4193-b1cf-16aaae5a00b1"
      },
      "execution_count": 2,
      "outputs": [
        {
          "output_type": "stream",
          "name": "stdout",
          "text": [
            "22\n"
          ]
        }
      ]
    },
    {
      "cell_type": "markdown",
      "source": [
        "> ¡Pero no intentes agregar una cadena a un número! Aunque pueden parecer similares, son dos entidades diferentes, por lo que esto romperá el código y producirá un error."
      ],
      "metadata": {
        "id": "UyB7w3NjsIiA"
      }
    },
    {
      "cell_type": "markdown",
      "source": [
        "Es posible que no pueda sumar cadenas a números enteros, ¡pero puede multiplicar por ellos! \n",
        "\n",
        "Al multiplicar una cadena por un número entero, se produce una versión repetida de la cadena original."
      ],
      "metadata": {
        "id": "Bm9gKCOEsO3K"
      }
    },
    {
      "cell_type": "code",
      "source": [
        "print(\"spam\" * 3)\n",
        "print(4 * '2')"
      ],
      "metadata": {
        "id": "8hAsho-gsOn0"
      },
      "execution_count": null,
      "outputs": []
    },
    {
      "cell_type": "markdown",
      "source": [
        "Pero no intentes multiplicar una cadena por otra cadena. Esto solo generará un error."
      ],
      "metadata": {
        "id": "1dMGadvfsdyL"
      }
    },
    {
      "cell_type": "code",
      "source": [
        "print(\"test\" * \"hi\")"
      ],
      "metadata": {
        "id": "BBp0law4rq5h"
      },
      "execution_count": null,
      "outputs": []
    },
    {
      "cell_type": "markdown",
      "source": [
        "> Lo mismo ocurrirá si intentas multiplicar una cadena por un flotante, incluso si el flotante es un número entero."
      ],
      "metadata": {
        "id": "Dga7jaJdsgJY"
      }
    },
    {
      "cell_type": "markdown",
      "source": [
        "### **RESUMEN**"
      ],
      "metadata": {
        "id": "Vu_jjVi7sxcQ"
      }
    },
    {
      "cell_type": "markdown",
      "source": [
        "Algunos puntos clave:\n",
        "\n",
        "Puede incluir símbolos especiales en una cadena usando la barra invertida: \\n para nuevas líneas, \\t para tabulaciones, etc. \n",
        "\n",
        "En caso de que necesite incluir comillas, debe **escaparlas** usando una barra invertida.\n",
        ">> Puede sumar cadenas usando el operador más, así como multiplicar una cadena con un número entero, lo que da como resultado una versión repetida de la cadena."
      ],
      "metadata": {
        "id": "-gIff5sus0hI"
      }
    },
    {
      "cell_type": "markdown",
      "source": [
        "---\n",
        "# VARIABLES"
      ],
      "metadata": {
        "id": "ybOgLyFIdMXR"
      }
    },
    {
      "cell_type": "markdown",
      "source": [
        "Una variable le permite almacenar un **valor** asignándolo a un **nombre**. El nombre se puede utilizar para hacer referencia al valor más adelante en el programa.\n",
        "> Por ejemplo, en el desarrollo de juegos, usaría una variable para almacenar cuántos puntos ha anotado el jugador."
      ],
      "metadata": {
        "id": "eZj3uzFQdMFT"
      }
    },
    {
      "cell_type": "markdown",
      "source": [
        "Para asignar una variable, use **un signo igual**"
      ],
      "metadata": {
        "id": "JyJoltyz_4H6"
      }
    },
    {
      "cell_type": "code",
      "source": [
        "user = \"James\""
      ],
      "metadata": {
        "id": "xjVECaSO_7oM"
      },
      "execution_count": null,
      "outputs": []
    },
    {
      "cell_type": "markdown",
      "source": [
        "> En el ejemplo anterior, asignamos la cadena \"James\" a una variable llamada **user**."
      ],
      "metadata": {
        "id": "4YNEaPFW_4Eq"
      }
    },
    {
      "cell_type": "markdown",
      "source": [
        "El signo igual se llama **operador de asignación** y se usa para asignar un valor a una variable. \n",
        "\n",
        "Puede asignar cualquier tipo de valor a su variable."
      ],
      "metadata": {
        "id": "0N_pN1yu_4Bu"
      }
    },
    {
      "cell_type": "code",
      "source": [
        "x = 42\n",
        "y = \"Hello\"\n",
        "z = 3.14"
      ],
      "metadata": {
        "id": "-6oGFNDtAM27"
      },
      "execution_count": null,
      "outputs": []
    },
    {
      "cell_type": "markdown",
      "source": [
        "### NOMBRES DE VARIABLES\n",
        "\n",
        "\n",
        "\n"
      ],
      "metadata": {
        "id": "REwev2b8_3-6"
      }
    },
    {
      "cell_type": "markdown",
      "source": [
        "Nombrar sus variables es bastante flexible. Puede utilizar **letras, números y guiones bajos** en los nombres de las variables. Pero **no puede** usar símbolos especiales o comenzar el nombre con un número.\n",
        "> Recuerde, Python es un lenguaje que distingue entre mayúsculas y minúsculas. Lo que significa que **Apellido** y apellido son dos nombres de variables diferentes."
      ],
      "metadata": {
        "id": "b8Z7ox9d_38H"
      }
    },
    {
      "cell_type": "markdown",
      "source": [
        "## TRABAJANDO CON VARIABLES"
      ],
      "metadata": {
        "id": "kiQOGvlE_35D"
      }
    },
    {
      "cell_type": "markdown",
      "source": [
        "Entonces, tienes tu variable y la nombraste. Ahora puede usarlos para realizar las operaciones correspondientes, tal como lo hace con números y cadenas. Como esto:\n",
        "> Puede ver que la variable almacena su valor a lo largo del programa."
      ],
      "metadata": {
        "id": "5dOltrou_32G"
      }
    },
    {
      "cell_type": "code",
      "source": [
        "x = 7\n",
        "print(x)\n",
        "\n",
        "print(x+3)\n",
        "print(x)"
      ],
      "metadata": {
        "colab": {
          "base_uri": "https://localhost:8080/"
        },
        "id": "Y8ZTa4f6BXYJ",
        "outputId": "985afe1e-ee19-42b6-a02f-afb739ffd213"
      },
      "execution_count": null,
      "outputs": [
        {
          "output_type": "stream",
          "name": "stdout",
          "text": [
            "7\n",
            "10\n",
            "7\n"
          ]
        }
      ]
    },
    {
      "cell_type": "markdown",
      "source": [
        "¿Necesita cambiar el valor de una variable? Fácil. Las variables se pueden reasignar tantas veces como se desee"
      ],
      "metadata": {
        "id": "jl8JC2Qk_3zI"
      }
    },
    {
      "cell_type": "code",
      "source": [
        "x = 123.456\n",
        "print(x)\n",
        "\n",
        "x = \"This is a string\"\n",
        "print (x + \"!\")"
      ],
      "metadata": {
        "colab": {
          "base_uri": "https://localhost:8080/"
        },
        "id": "wpScnCqBBcCM",
        "outputId": "aec06d22-37ab-468e-b962-5316955bcebe"
      },
      "execution_count": null,
      "outputs": [
        {
          "output_type": "stream",
          "name": "stdout",
          "text": [
            "123.456\n",
            "This is a string!\n"
          ]
        }
      ]
    },
    {
      "cell_type": "markdown",
      "source": [
        "> ¡Pero cuidado! Sobrescribir la misma variable con diferentes tipos de datos generalmente no es una buena práctica. Para evitar errores, trate de evitar hacerlo."
      ],
      "metadata": {
        "id": "WbB7OuIpBoL1"
      }
    },
    {
      "cell_type": "markdown",
      "source": [
        "Un programa puede incluir múltiples variables, que pueden usarse juntas para producir un resultado."
      ],
      "metadata": {
        "id": "I93Ax6od_3wi"
      }
    },
    {
      "cell_type": "code",
      "source": [
        "a = 8\n",
        "name = \"Bob\"\n",
        "print(a * name)"
      ],
      "metadata": {
        "colab": {
          "base_uri": "https://localhost:8080/"
        },
        "id": "giI9RlnYBtBf",
        "outputId": "3db0a609-f0f3-41ef-c558-9d5a86074467"
      },
      "execution_count": null,
      "outputs": [
        {
          "output_type": "stream",
          "name": "stdout",
          "text": [
            "BobBobBobBobBobBobBobBob\n"
          ]
        }
      ]
    },
    {
      "cell_type": "markdown",
      "source": [
        "Puede usar la instrucción **del** para eliminar una variable.\n",
        "> Intentar usar la variable eliminada provoca un error."
      ],
      "metadata": {
        "id": "KYOZFfaY_3ts"
      }
    },
    {
      "cell_type": "code",
      "source": [
        "x = 42\n",
        "del x "
      ],
      "metadata": {
        "id": "vBRX0w_BB75K"
      },
      "execution_count": null,
      "outputs": []
    },
    {
      "cell_type": "markdown",
      "source": [
        "Las variables eliminadas se pueden reasignar."
      ],
      "metadata": {
        "id": "bqsvl88p_3q6"
      }
    },
    {
      "cell_type": "code",
      "source": [
        "x = 2\n",
        "del x\n",
        "x = 8\n",
        "print(x)"
      ],
      "metadata": {
        "colab": {
          "base_uri": "https://localhost:8080/"
        },
        "id": "Qi5qROhKCEC0",
        "outputId": "a55d547a-0ebe-450b-cf3a-622f3eb08d5c"
      },
      "execution_count": null,
      "outputs": [
        {
          "output_type": "stream",
          "name": "stdout",
          "text": [
            "8\n"
          ]
        }
      ]
    },
    {
      "cell_type": "markdown",
      "source": [
        "### **INPUT** (ENTRADA)"
      ],
      "metadata": {
        "id": "LnzLp8G4_3oK"
      }
    },
    {
      "cell_type": "markdown",
      "source": [
        "Algunos programas necesitan recibir información del usuario.\n",
        "\n",
        "Por ejemplo, un juego puede solicitar el nombre y la edad del usuario como entrada y luego usarlos en el juego. \n",
        "La función **input()** solicita al usuario que ingrese y devuelve lo que ingresa como una cadena ."
      ],
      "metadata": {
        "id": "_wjNnYc2_3lT"
      }
    },
    {
      "cell_type": "code",
      "source": [
        "x = input()\n",
        "print(x)"
      ],
      "metadata": {
        "colab": {
          "base_uri": "https://localhost:8080/"
        },
        "id": "zQjYHJUBCdPa",
        "outputId": "5623be2d-5a61-4c74-a39e-1a139f9dadd9"
      },
      "execution_count": null,
      "outputs": [
        {
          "output_type": "stream",
          "name": "stdout",
          "text": [
            "hola\n",
            "hola\n"
          ]
        }
      ]
    },
    {
      "cell_type": "markdown",
      "source": [
        "Incluso si el usuario ingresa un número como entrada, se procesa como una **cadena**"
      ],
      "metadata": {
        "id": "HyaKR3YD_3in"
      }
    },
    {
      "cell_type": "code",
      "source": [
        "x = input()\n",
        "print (\"You entered: \" + x)"
      ],
      "metadata": {
        "colab": {
          "base_uri": "https://localhost:8080/"
        },
        "id": "3cQvkiGfCk0Z",
        "outputId": "79dc6963-4574-4abd-97c2-2d0268779c48"
      },
      "execution_count": null,
      "outputs": [
        {
          "output_type": "stream",
          "name": "stdout",
          "text": [
            "josias\n",
            "You entered: josias\n"
          ]
        }
      ]
    },
    {
      "cell_type": "markdown",
      "source": [
        "La instrucción de input debe ir seguida de paréntesis."
      ],
      "metadata": {
        "id": "hc10XpL3_3f3"
      }
    },
    {
      "cell_type": "code",
      "source": [
        "name = input()\n",
        "print (\"Welcome, \" + name)"
      ],
      "metadata": {
        "colab": {
          "base_uri": "https://localhost:8080/"
        },
        "id": "U8_dVPLwCzBZ",
        "outputId": "0e4107f3-a072-4733-d49d-961c7873f0a1"
      },
      "execution_count": null,
      "outputs": [
        {
          "output_type": "stream",
          "name": "stdout",
          "text": [
            "Josias\n",
            "Welcome, Josias\n"
          ]
        }
      ]
    },
    {
      "cell_type": "markdown",
      "source": [
        "Puede proporcionar una cadena a **input()** entre paréntesis, produciendo un mensaje de solicitud."
      ],
      "metadata": {
        "id": "hmvWFirt_3dO"
      }
    },
    {
      "cell_type": "code",
      "source": [
        "name = input(\"Ingrese su nombre: \")\n",
        "print (\"Hola, \" + name)"
      ],
      "metadata": {
        "colab": {
          "base_uri": "https://localhost:8080/"
        },
        "id": "Co9VtuaeC8Mp",
        "outputId": "45b2c342-718a-4679-8db0-39280bd3f161"
      },
      "execution_count": null,
      "outputs": [
        {
          "output_type": "stream",
          "name": "stdout",
          "text": [
            "Ingrese su nombre: Josias\n",
            "Hola, Josias\n"
          ]
        }
      ]
    },
    {
      "cell_type": "markdown",
      "source": [
        "> El mensaje de solicitud le dice al usuario qué entrada está solicitando el programa, por lo que es importante asegurarse de que esté claro."
      ],
      "metadata": {
        "id": "-BIPDbXw_3ac"
      }
    },
    {
      "cell_type": "markdown",
      "source": [
        "Entonces sabemos que la función **input()** devuelve una cadena. Pero, ¿y si necesitamos que sea otra cosa, como un número? No hay problema, ¡podemos hacerlo totalmente! Supongamos que hemos tomado la edad del usuario como entrada. Para convertirlo a un número, podemos usar la función **int()**:"
      ],
      "metadata": {
        "id": "ZpAloRIc_3Xr"
      }
    },
    {
      "cell_type": "code",
      "source": [
        "edad = int(input())\n",
        "print(edad)"
      ],
      "metadata": {
        "colab": {
          "base_uri": "https://localhost:8080/"
        },
        "id": "ySFDrRakDYZ9",
        "outputId": "9d765a90-c5dd-4a61-9209-3d2481aa79f9"
      },
      "execution_count": null,
      "outputs": [
        {
          "output_type": "stream",
          "name": "stdout",
          "text": [
            "35\n",
            "35\n"
          ]
        }
      ]
    },
    {
      "cell_type": "markdown",
      "source": [
        "> Esto lo convertirá de una cadena a un número entero. "
      ],
      "metadata": {
        "id": "1ipwtnmi_3U-"
      }
    },
    {
      "cell_type": "markdown",
      "source": [
        "Similar a la función **int()**, la función **float()** convierte una cadena en un flotante:"
      ],
      "metadata": {
        "id": "MB9xklYc_3SE"
      }
    },
    {
      "cell_type": "code",
      "source": [
        "height = float(input())\n",
        "print(height)"
      ],
      "metadata": {
        "colab": {
          "base_uri": "https://localhost:8080/"
        },
        "id": "OU689fenDmHg",
        "outputId": "327ad185-394e-4bb5-dbd6-cfa633274cee"
      },
      "execution_count": null,
      "outputs": [
        {
          "output_type": "stream",
          "name": "stdout",
          "text": [
            "5\n",
            "5.0\n"
          ]
        }
      ]
    },
    {
      "cell_type": "markdown",
      "source": [
        "A veces es necesario usar un número en una concatenación de cadenas. \n",
        "\n",
        "Esto se puede hacer usando la función **str()**, que convierte un número en una cadena. "
      ],
      "metadata": {
        "id": "_YG-jZS9_3F7"
      }
    },
    {
      "cell_type": "code",
      "source": [
        "age = 42\n",
        "print(\"His age is \" + str(age))"
      ],
      "metadata": {
        "colab": {
          "base_uri": "https://localhost:8080/"
        },
        "id": "xZOyo8EdDxnh",
        "outputId": "96302ec2-a039-4f01-9fb7-737a97debe4e"
      },
      "execution_count": null,
      "outputs": [
        {
          "output_type": "stream",
          "name": "stdout",
          "text": [
            "His age is 42\n"
          ]
        }
      ]
    },
    {
      "cell_type": "markdown",
      "source": [
        "Lo último que hay que mencionar es que puede usar **input()** varias veces para tomar varias entradas de usuario. "
      ],
      "metadata": {
        "id": "q6lgTiYUD91_"
      }
    },
    {
      "cell_type": "code",
      "source": [
        "name = input()\n",
        "age = input()\n",
        "print(name + \"is \" + age)"
      ],
      "metadata": {
        "id": "WclObfxcEAf4"
      },
      "execution_count": null,
      "outputs": []
    },
    {
      "cell_type": "markdown",
      "source": [
        "# OPERADORES IN-PLACE"
      ],
      "metadata": {
        "id": "Y2vfDfvJtacE"
      }
    },
    {
      "cell_type": "markdown",
      "source": [
        "**Los operadores in situ** le permiten escribir código como ' **x = x + 3** ' de manera más concisa, como ' **x += 3** '."
      ],
      "metadata": {
        "id": "cBPaPDuXtfO-"
      }
    },
    {
      "cell_type": "code",
      "source": [
        "x = 2\n",
        "print(x)\n",
        "\n",
        "x += 3\n",
        "print(x)"
      ],
      "metadata": {
        "colab": {
          "base_uri": "https://localhost:8080/"
        },
        "id": "y_whk6E4tdmp",
        "outputId": "b4b94c76-abfa-4028-e634-1496eaae4543"
      },
      "execution_count": 7,
      "outputs": [
        {
          "output_type": "stream",
          "name": "stdout",
          "text": [
            "2\n",
            "5\n"
          ]
        }
      ]
    },
    {
      "cell_type": "markdown",
      "source": [
        "Los operadores in situ se pueden utilizar para cualquier operación numérica (+, -, *, /, %, **, //). "
      ],
      "metadata": {
        "id": "gdLRj85Jt0xO"
      }
    },
    {
      "cell_type": "code",
      "source": [
        "x = 8\n",
        "\n",
        "x += 2\n",
        "print (x)\n",
        "\n",
        "x/= 3\n",
        "print(x)\n",
        "\n",
        "x **= 5\n",
        "print(x)"
      ],
      "metadata": {
        "colab": {
          "base_uri": "https://localhost:8080/"
        },
        "id": "J_gwZ5r1tt7V",
        "outputId": "f0c5cc13-8826-469f-dcf4-17b93135c8f4"
      },
      "execution_count": 8,
      "outputs": [
        {
          "output_type": "stream",
          "name": "stdout",
          "text": [
            "10\n",
            "3.3333333333333335\n",
            "411.5226337448561\n"
          ]
        }
      ]
    },
    {
      "cell_type": "markdown",
      "source": [
        "También puede usar operadores in-place para la concatenación de cadenas"
      ],
      "metadata": {
        "id": "Y6dGLCCwuKjs"
      }
    },
    {
      "cell_type": "code",
      "source": [
        "x = \"spam\"\n",
        "print(x)\n",
        "\n",
        "x += \"eggs\"\n",
        "print(x)"
      ],
      "metadata": {
        "colab": {
          "base_uri": "https://localhost:8080/"
        },
        "id": "hef4WZcouAin",
        "outputId": "ba41a407-01fd-4d11-ad06-e1723c803646"
      },
      "execution_count": 9,
      "outputs": [
        {
          "output_type": "stream",
          "name": "stdout",
          "text": [
            "spam\n",
            "spameggs\n"
          ]
        }
      ]
    },
    {
      "cell_type": "markdown",
      "source": [
        "Hemos cubierto una serie de temas importantes, como variables, entrada y operadores. Estos se pueden usar juntos para hacer un programa más complejo. \n",
        "\n",
        "Por ejemplo, hagamos un programa que tome **millas** como entrada y genere el valor de **km** correspondiente"
      ],
      "metadata": {
        "id": "NbZ1ZCz_uYZC"
      }
    },
    {
      "cell_type": "code",
      "source": [
        "miles = int(input())\n",
        "km = miles * 1.68934\n",
        "\n",
        "print (km)"
      ],
      "metadata": {
        "colab": {
          "base_uri": "https://localhost:8080/"
        },
        "id": "SDfY4WWvuVYL",
        "outputId": "82146f03-398f-4e0f-8363-4e50e5f7a545"
      },
      "execution_count": 10,
      "outputs": [
        {
          "output_type": "stream",
          "name": "stdout",
          "text": [
            "50\n",
            "84.467\n"
          ]
        }
      ]
    },
    {
      "cell_type": "code",
      "source": [],
      "metadata": {
        "id": "bMDCUtFvupPX"
      },
      "execution_count": null,
      "outputs": []
    }
  ]
}