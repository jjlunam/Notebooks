{
 "cells": [
  {
   "cell_type": "markdown",
   "id": "b637a208",
   "metadata": {},
   "source": [
    "# **FUNCIONES**"
   ]
  },
  {
   "cell_type": "markdown",
   "id": "8c136838",
   "metadata": {},
   "source": [
    "* UNA FUNCION ES UN GRUPO DE DECLARACIONES RELACIONADAS QUE REALIZA UNA TAREA ESPECIFICA. \n",
    "* LAS FUNCIONES AYUDAN A DIVIDIR NUESTRO PROGRAMA EN PARTES MAS PEQUEÑAS Y MODULARES. \n",
    "* A MEDIDA QUE NUESTRO PROGRAMA CRECE CADA VEZ MAS, LAS FUNCIONES LO HACEN MAS ORGANIZADO Y MANEJABLE."
   ]
  },
  {
   "cell_type": "markdown",
   "id": "f570027e",
   "metadata": {},
   "source": [
    "ADEMAS, EVITA LA REPETICION Y HACE QUE EL CODIGO SEA REUTILIZABLE."
   ]
  },
  {
   "cell_type": "markdown",
   "id": "6a25cfb6",
   "metadata": {},
   "source": [
    "### Una función tiene un nombre y puede tener argumentos. Ejemplo:"
   ]
  },
  {
   "cell_type": "code",
   "execution_count": null,
   "id": "ce4a7387",
   "metadata": {},
   "outputs": [],
   "source": [
    "print (\"Hello\")"
   ]
  },
  {
   "cell_type": "markdown",
   "id": "356ca070",
   "metadata": {},
   "source": [
    "### Funciones conocidas en Python:"
   ]
  },
  {
   "cell_type": "code",
   "execution_count": null,
   "id": "6e18aeae",
   "metadata": {},
   "outputs": [],
   "source": [
    "print (\"Hello world!\")\n",
    "range (2, 20)   # 2 ARGUMENTOS\n",
    "str (12)        # 1 ARGUMENTO\n",
    "range (10,20,3) # 3 ARGUMENTOS"
   ]
  },
  {
   "cell_type": "markdown",
   "id": "46fd2e14",
   "metadata": {},
   "source": [
    "# FUNCIONES DE LISTA"
   ]
  },
  {
   "cell_type": "markdown",
   "id": "49445eb7",
   "metadata": {},
   "source": [
    "EXISTEN MUCHAS FUNCIONES INTEGRADAS ÚTILES PARA LISTAS:"
   ]
  },
  {
   "cell_type": "markdown",
   "id": "65acccb8",
   "metadata": {},
   "source": [
    "### LA FUNCION **len ()** PERMITE OBTENER EL NÚMERO DE ELEMENTOS DE UNA LISTA"
   ]
  },
  {
   "cell_type": "markdown",
   "id": "8be54a2a",
   "metadata": {},
   "source": [
    "* A diferencia de los elementos de indexación, **len** no comienza en cero. Si la lista tiene 5 elementos, **len** devolverá 5"
   ]
  },
  {
   "cell_type": "code",
   "execution_count": null,
   "id": "4665d0b5",
   "metadata": {},
   "outputs": [],
   "source": [
    "nums = [1, 3, 5, 2, 4]\n",
    "print (len(nums))"
   ]
  },
  {
   "cell_type": "markdown",
   "id": "5884c635",
   "metadata": {},
   "source": [
    "TAMBIEN SE PUEDE USAR **len** EN CADENAS DE CARATERES"
   ]
  },
  {
   "cell_type": "code",
   "execution_count": null,
   "id": "7b570e41",
   "metadata": {},
   "outputs": [],
   "source": [
    "str = \"some text\"  #EL ESPACIO TAMBIEN ES UN CARACTER\n",
    "x = len (str)\n",
    "print (x)"
   ]
  },
  {
   "cell_type": "markdown",
   "id": "9a490c19",
   "metadata": {},
   "source": [
    "### LA FUNCION append () SE USA PARA AGREGAR UN ELEMENTO AL FINAL DE LA LISTA"
   ]
  },
  {
   "cell_type": "markdown",
   "id": "fc1b6628",
   "metadata": {},
   "source": [
    "* La función se llama utilizando el nombre de la lista, seguido por un punto."
   ]
  },
  {
   "cell_type": "code",
   "execution_count": null,
   "id": "604470ba",
   "metadata": {},
   "outputs": [],
   "source": [
    "nums = [1, 2, 3]\n",
    "nums.append (4)\n",
    "print (nums)"
   ]
  },
  {
   "cell_type": "markdown",
   "id": "5c714f45",
   "metadata": {},
   "source": [
    "### insert () INSERTA UN NUEVO ELEMENTO EN LA POSICION DADA EN LA LISTA"
   ]
  },
  {
   "cell_type": "markdown",
   "id": "55089cf1",
   "metadata": {},
   "source": [
    "* El primer argumento es el índice de posición, mientras que el segundo es el elemento a insertar en esa posición."
   ]
  },
  {
   "cell_type": "code",
   "execution_count": null,
   "id": "d39b57f5",
   "metadata": {},
   "outputs": [],
   "source": [
    "words = [\"Python\", \"fun\"]\n",
    "words.insert (1, \"is\")\n",
    "print (words)"
   ]
  },
  {
   "cell_type": "markdown",
   "id": "0dbde0ef",
   "metadata": {},
   "source": [
    "### index () ENCUENTRA LA PRIMERA APARICION DE UN ELEMENTO DE LISTA Y DEVUELVE SU INDICE (POSICIÓN)"
   ]
  },
  {
   "cell_type": "markdown",
   "id": "f045bf37",
   "metadata": {},
   "source": [
    "* Se devuelve un error en caso de que elemento especifico no se encuentre en la lista."
   ]
  },
  {
   "cell_type": "code",
   "execution_count": null,
   "id": "a95f1c5c",
   "metadata": {},
   "outputs": [],
   "source": [
    "letters = [\"p\", \"q\", \"r\", \"s\", \"p\", \"u\"]\n",
    "print (letters.index (\"r\"))\n",
    "print (letters.index (\"p\"))\n",
    "print (letters.index (\"q\"))"
   ]
  },
  {
   "cell_type": "markdown",
   "id": "0eb6e99a",
   "metadata": {},
   "source": [
    "### max (): DEVUELVE EL VALOR MAXIMO.\n",
    "### min (): DEVUELVE EL VALOR MINIMO."
   ]
  },
  {
   "cell_type": "code",
   "execution_count": null,
   "id": "69d6a16b",
   "metadata": {},
   "outputs": [],
   "source": [
    "x = [1, 8, 42, 3]\n",
    "print (min (x))\n",
    "print (max (x))"
   ]
  },
  {
   "cell_type": "markdown",
   "id": "82693509",
   "metadata": {},
   "source": [
    "### list.count (item): DEVUELVE UN RECUENTO DE CUANTAS VECES APARECE UN ELEMENTO EN UNA LISTA\n",
    "### list.remove (item): ELIMINA UN ELEMENTO DE UNA LISTA\n",
    "### list.reverse (item): INVIERTE LOS ELEMENTOS DE UNA LISTA"
   ]
  },
  {
   "cell_type": "code",
   "execution_count": null,
   "id": "61383769",
   "metadata": {},
   "outputs": [],
   "source": [
    "x = [\"egg\", 4, 6, 2, 7, 2, 9]\n",
    "print (x.count (\"egg\"))\n",
    "\n",
    "x.remove (4)\n",
    "print (x)\n",
    "\n",
    "x.reverse ()\n",
    "print (x)"
   ]
  },
  {
   "cell_type": "markdown",
   "id": "ea9fccee",
   "metadata": {},
   "source": [
    "# FORMATO DE CADENA"
   ]
  },
  {
   "cell_type": "markdown",
   "id": "50952475",
   "metadata": {},
   "source": [
    "LAS CADENAS TIENEN UNA FUNCION format (), QUE PERMITE INCRUSTAR VALORES, UTILIZANDO MARCADORES DE POSICIÓN"
   ]
  },
  {
   "cell_type": "markdown",
   "id": "2a565d4d",
   "metadata": {},
   "source": [
    "*  Cada argumento de la función de formato se coloca en la cadena en la posición correspondiente, que se determina utilizando las llaves {}"
   ]
  },
  {
   "cell_type": "code",
   "execution_count": null,
   "id": "23d9a99e",
   "metadata": {},
   "outputs": [],
   "source": [
    "nums = [4, 5, 6]\n",
    "msg = \"Numbers: {0} {1} {2}\".format (nums[0], nums[1], nums[2])\n",
    "print (msg)"
   ]
  },
  {
   "cell_type": "markdown",
   "id": "d7410628",
   "metadata": {},
   "source": [
    "TAMBIEN SE PUEDE NOMBRAR LOS MARCADORES DE POSICIÓN, EN LUGAR DE LOS NÚMEROS DE INDICE"
   ]
  },
  {
   "cell_type": "code",
   "execution_count": null,
   "id": "3468cdd1",
   "metadata": {},
   "outputs": [],
   "source": [
    "a = \"{x}, {y}\".format(x = 5, y = 12)\n",
    "print (a)"
   ]
  },
  {
   "cell_type": "markdown",
   "id": "65d3b181",
   "metadata": {},
   "source": [
    "# **FUNCIONES DE CADENAS**"
   ]
  },
  {
   "cell_type": "markdown",
   "id": "d388544c",
   "metadata": {},
   "source": [
    "**join() UNE UNA LISTA CON UNA CADENA COMO UN SEPARADOR PARA DEVOLVER OTRA CADENA**"
   ]
  },
  {
   "cell_type": "markdown",
   "id": "d1e81955",
   "metadata": {},
   "source": [
    "* El resultado es un string"
   ]
  },
  {
   "cell_type": "code",
   "execution_count": null,
   "id": "d6ae7270",
   "metadata": {},
   "outputs": [],
   "source": [
    "x = \"-\".join([\"spam\", \"eggs\", \"ham\"])\n",
    "print(x)"
   ]
  },
  {
   "cell_type": "markdown",
   "id": "0c41494d",
   "metadata": {},
   "source": [
    "**split() ES LO OPUESTO A join(). CONVIERTE UNA CADENA CON UN CIERTO SEPARADOR EN UNA LISTA. POR EJEMPLO DIVIDIR UNA ORACIÓN EN PALABRAS:**"
   ]
  },
  {
   "cell_type": "code",
   "execution_count": null,
   "id": "cb6f9fb3",
   "metadata": {},
   "outputs": [],
   "source": [
    "str = \"some text goes here\"\n",
    "x = str.split(' ')\n",
    "print (x)"
   ]
  },
  {
   "cell_type": "markdown",
   "id": "a6e34869",
   "metadata": {},
   "source": [
    "**replace() REEMPLAZA UNA SUBCADENA DE UNA CADENA POR OTRA**"
   ]
  },
  {
   "cell_type": "code",
   "execution_count": null,
   "id": "91205cad",
   "metadata": {},
   "outputs": [],
   "source": [
    "x = \"Hello ME\"\n",
    "print (x.replace(\"ME\", \"world\"))"
   ]
  },
  {
   "cell_type": "markdown",
   "id": "d6b782f0",
   "metadata": {},
   "source": [
    "**lower() Y upper() CAMBIAN LAS LETRAS DE UNA CADENA A MINUSCULAS Y MAYUSCULAS**"
   ]
  },
  {
   "cell_type": "code",
   "execution_count": null,
   "id": "d9bb0116",
   "metadata": {},
   "outputs": [],
   "source": [
    "print (\"This is a sentence.\".upper())\n",
    "print (\"AN ALL CAPS SENTENCE\".lower())"
   ]
  },
  {
   "cell_type": "markdown",
   "id": "089a06e4",
   "metadata": {},
   "source": [
    "# SE PUEDE CREAR FUNCIONES PROPIAS USANDO LA FUNCION \"def\""
   ]
  },
  {
   "cell_type": "code",
   "execution_count": null,
   "id": "8e6d51a3",
   "metadata": {},
   "outputs": [],
   "source": [
    "def my_func():\n",
    "    print (\"spam\")\n",
    "    print (\"spam\")\n",
    "    print (\"spam\")\n",
    "\n",
    "#LLEVA DOS PUNTOS Y SANGRÍA"
   ]
  },
  {
   "cell_type": "code",
   "execution_count": null,
   "id": "dce0ac3d",
   "metadata": {},
   "outputs": [],
   "source": [
    "my_func()\n",
    "\n",
    "#SE LLAMA A LA FUNCION USANDO EL NOMBRE Y PARENTESIS"
   ]
  },
  {
   "cell_type": "markdown",
   "id": "9558d146",
   "metadata": {},
   "source": [
    "# ARGUMENTOS DE FUNCION"
   ]
  },
  {
   "cell_type": "markdown",
   "id": "9ebf086e",
   "metadata": {},
   "source": [
    "LAS FUNCIONES PUEDEN TENER ARGUMENTOS, QUE SE PUEDEN USAR PARA GENERAR LA SALIDA DE LA FUNCIÓN.\n",
    "* El argumento se define entre paréntesis"
   ]
  },
  {
   "cell_type": "code",
   "execution_count": null,
   "id": "7e142a78",
   "metadata": {},
   "outputs": [],
   "source": [
    "def exclamation (word):\n",
    "    print (word + \"!\")"
   ]
  },
  {
   "cell_type": "code",
   "execution_count": null,
   "id": "b024aedd",
   "metadata": {},
   "outputs": [],
   "source": [
    "exclamation (\"spam\")"
   ]
  },
  {
   "cell_type": "markdown",
   "id": "eb67c469",
   "metadata": {},
   "source": [
    "SE PUEDE LLAMAR A LA FUNCION CON DIFERENTES ARGUMENTOS.\n",
    "* Los argumentos se utilizan para pasar información a la función. Esto nos permite reutilizar la lógica de la función para diferentes valores."
   ]
  },
  {
   "cell_type": "code",
   "execution_count": null,
   "id": "338250c7",
   "metadata": {},
   "outputs": [],
   "source": [
    "def exclamation (word):\n",
    "    print (word + \"!\")"
   ]
  },
  {
   "cell_type": "code",
   "execution_count": null,
   "id": "02f5328e",
   "metadata": {},
   "outputs": [],
   "source": [
    "exclamation (\"spam\")\n",
    "exclamation (\"eggs\")\n",
    "exclamation (\"python\")"
   ]
  },
  {
   "cell_type": "markdown",
   "id": "f9d01b63",
   "metadata": {},
   "source": [
    "SE PUEDE DEFINIR FUNCIONES CON MÁS DE UN ARGUMENTO SEPARANDO CON COMAS"
   ]
  },
  {
   "cell_type": "code",
   "execution_count": null,
   "id": "49a6ba69",
   "metadata": {},
   "outputs": [],
   "source": [
    "def print_sum_twice(x, y):\n",
    "    print (x + y)\n",
    "    print (x * y)"
   ]
  },
  {
   "cell_type": "code",
   "execution_count": null,
   "id": "efddee09",
   "metadata": {},
   "outputs": [],
   "source": [
    "print_sum_twice (5, 8)"
   ]
  },
  {
   "cell_type": "markdown",
   "id": "9d00ddae",
   "metadata": {},
   "source": [
    "SE PUEDE TENER DIFERENTES DECLARACIONES EN LAS FUNCIONES, TRABAJANDO CON LAS VARIABLES DEL ARGUMENTO, COMO DECLARACIONES IF Y BUCLES"
   ]
  },
  {
   "cell_type": "code",
   "execution_count": null,
   "id": "e8813ac5",
   "metadata": {},
   "outputs": [],
   "source": [
    "def even(x):\n",
    "    if x%2 == 0:\n",
    "        print (\"yes\")\n",
    "    else:\n",
    "        print (\"no\")"
   ]
  },
  {
   "cell_type": "code",
   "execution_count": null,
   "id": "4bf325bb",
   "metadata": {},
   "outputs": [],
   "source": [
    "even(10)"
   ]
  },
  {
   "cell_type": "markdown",
   "id": "054dc7ed",
   "metadata": {},
   "source": [
    "# REGRESION DE FUNCIONES"
   ]
  },
  {
   "cell_type": "markdown",
   "id": "c9aa8783",
   "metadata": {},
   "source": [
    "CIERTAS FUNCIONES COMO **int** o **str**, DEVUELVEN UN VALOR EN LUGAR DE GENERARLO. EL VALOR DEVUELTO SE PUEDE UTILIZAR MÁS ADELANTE EN EL CÓDIGO, POR EJEMPLO, ASIGNANDOLO A UNA VARIABLE.\n",
    "\n",
    "PARA HACER ESTO PARA FUNCIONES DEFINIDAS, PUEDE USAR LA DECLARACION **return**.\n",
    "* Se puede asignar el resultado de una función a una variable.\n",
    "\n",
    "\n",
    "* El retorno es útil cuando no necesita imprimir el resultado de la función, pero necesita usarlo en su código. Por ejemplo, la función **return()** de una cuenta bancaria podría devolver el saldo restante de la cuenta."
   ]
  },
  {
   "cell_type": "code",
   "execution_count": null,
   "id": "7c4814e1",
   "metadata": {},
   "outputs": [],
   "source": [
    "def sum (x, y):\n",
    "    return x + y"
   ]
  },
  {
   "cell_type": "code",
   "execution_count": null,
   "id": "1171adb2",
   "metadata": {},
   "outputs": [],
   "source": [
    "res = sum (42, 7)\n",
    "print (res)"
   ]
  },
  {
   "cell_type": "markdown",
   "id": "073562e8",
   "metadata": {},
   "source": [
    "**Ejemplo:**"
   ]
  },
  {
   "cell_type": "code",
   "execution_count": null,
   "id": "b4479302",
   "metadata": {},
   "outputs": [],
   "source": [
    "def foo(x, y):\n",
    "    if x >= y:\n",
    "        return x\n",
    "    else:\n",
    "        return y"
   ]
  },
  {
   "cell_type": "code",
   "execution_count": null,
   "id": "bba9e6d8",
   "metadata": {},
   "outputs": [],
   "source": [
    "z = foo(4, 7)\n",
    "print (z)"
   ]
  },
  {
   "cell_type": "markdown",
   "id": "7a9735fc",
   "metadata": {},
   "source": [
    "SE PUEDE USAR EL VALOR DEVUELTO EN OTRO CÓDIGO:"
   ]
  },
  {
   "cell_type": "code",
   "execution_count": null,
   "id": "681cefdd",
   "metadata": {},
   "outputs": [],
   "source": [
    "def max (x, y):\n",
    "    if x >= y:\n",
    "        return x\n",
    "    else:\n",
    "        return y"
   ]
  },
  {
   "cell_type": "code",
   "execution_count": null,
   "id": "8eaaa4d7",
   "metadata": {},
   "outputs": [],
   "source": [
    "if (max(6, 4) > 10):\n",
    "    print (\"Yes\")\n",
    "else:\n",
    "    print (\"Nope\")"
   ]
  },
  {
   "cell_type": "markdown",
   "id": "03ec04de",
   "metadata": {},
   "source": [
    "UNA VEZ QUE SE DEVUELVE UN VALOR DE UNA FUNCION, DEJA DE EJECUTARSE INMEDIATAMENTE.\n",
    "\n",
    "NO SE EJECUTARÁ NINGUN CODIGO COLOCADO DESPUÉS DE LA DECLARACIÓN **return**"
   ]
  },
  {
   "cell_type": "code",
   "execution_count": null,
   "id": "66c1afd4",
   "metadata": {},
   "outputs": [],
   "source": [
    "def add_number (x, y):\n",
    "    total = x + y\n",
    "    return total\n",
    "    print (\"Esto no se imprimirá\")"
   ]
  },
  {
   "cell_type": "code",
   "execution_count": null,
   "id": "60df8ad7",
   "metadata": {},
   "outputs": [],
   "source": [
    "print (add_number(4, 5))"
   ]
  },
  {
   "cell_type": "markdown",
   "id": "4b61a97f",
   "metadata": {},
   "source": [
    "UNA FUNCION SOLO PUEDE **RETORNAR** UNA VEZ, POR LO TANTO, SI NECESITA DEVOLVER VARIOS VALORES, PUEDE USAR UNA **LISTA**"
   ]
  },
  {
   "cell_type": "code",
   "execution_count": null,
   "id": "9665cdf5",
   "metadata": {},
   "outputs": [],
   "source": [
    "def double (a, b):\n",
    "    return [a*2 , b*2]"
   ]
  },
  {
   "cell_type": "code",
   "execution_count": null,
   "id": "d96e84e5",
   "metadata": {},
   "outputs": [],
   "source": [
    "x = double (6, 9)\n",
    "print (x)"
   ]
  },
  {
   "cell_type": "markdown",
   "id": "82707225",
   "metadata": {},
   "source": [
    "# COMENTARIOS"
   ]
  },
  {
   "cell_type": "markdown",
   "id": "ccc92d75",
   "metadata": {},
   "source": [
    "LOS COMENTARIOS SON ANOTACIONES DEL CODIGO QUE SE USAN PARA FACILITAR LA COMPRENSIÓN. NO AFECTA A LA EJECUCIÓN DEL CÓDIGO.\n",
    "\n",
    "EN PYTHON, UN COMENTARIO SE CREA CON EL SIGNO DE NÚMERO O ALMOHADILLA **(#)**. TODO EL TEXTO QUE SIGUE SE IGNORA."
   ]
  },
  {
   "cell_type": "markdown",
   "id": "ad32a715",
   "metadata": {},
   "source": [
    "# DOCSTRINGS"
   ]
  },
  {
   "cell_type": "markdown",
   "id": "940c76b8",
   "metadata": {},
   "source": [
    "LAS CADENAS DE DOCUMENTOS SON SIMILARES A LOS COMENTARIOS, YA QUE ESTÁN DISEÑADAS PARA EXPLICAR EL CÓDIGO. PERO SON MAS ESPECÍFICOS Y TIENEN SINTAXIS DIFERENTE.\n",
    "\n",
    "SE CREAN COLOCANDO UNA CADENA DE VARIAS LÍNEAS QUE CONTIENE UNA EXPLICACIÓN DE LA FUNCIÓN DEBAJO DE LA PRIMERA LÍNEA DE LA FUNCIÓN."
   ]
  },
  {
   "cell_type": "code",
   "execution_count": null,
   "id": "8429a525",
   "metadata": {},
   "outputs": [],
   "source": [
    "def shout (word):\n",
    "    \"\"\"\n",
    "    Imprime una palabra\n",
    "    con un signo de exclamación.\n",
    "    \"\"\"\n",
    "    print (word + \"!\")"
   ]
  },
  {
   "cell_type": "code",
   "execution_count": null,
   "id": "19b1693e",
   "metadata": {},
   "outputs": [],
   "source": [
    "shout (\"spam\")"
   ]
  },
  {
   "cell_type": "markdown",
   "id": "db6af1ca",
   "metadata": {},
   "source": [
    "LAS CADENAS DE DOCUMENTOS ACTÚAN COMO DOCUMENTACIÓN PARA OTROS DESARROLLADORES QUE UTILIZAN SU FUNCIÓN.\n",
    "* A diferencia de los comentarios convencionales, los **DOCSTRINGS** se conservan durante el tiempo de ejecución del programa. Esto permite al programador inspeccionar estos comentarios en el tiempo de ejecución."
   ]
  },
  {
   "cell_type": "code",
   "execution_count": null,
   "id": "1f6df0ab",
   "metadata": {},
   "outputs": [],
   "source": []
  }
 ],
 "metadata": {
  "kernelspec": {
   "display_name": "Python 3 (ipykernel)",
   "language": "python",
   "name": "python3"
  },
  "language_info": {
   "codemirror_mode": {
    "name": "ipython",
    "version": 3
   },
   "file_extension": ".py",
   "mimetype": "text/x-python",
   "name": "python",
   "nbconvert_exporter": "python",
   "pygments_lexer": "ipython3",
   "version": "3.9.7"
  }
 },
 "nbformat": 4,
 "nbformat_minor": 5
}
