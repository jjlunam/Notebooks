{
  "nbformat": 4,
  "nbformat_minor": 0,
  "metadata": {
    "colab": {
      "provenance": [],
      "collapsed_sections": []
    },
    "kernelspec": {
      "name": "python3",
      "display_name": "Python 3"
    },
    "language_info": {
      "name": "python"
    }
  },
  "cells": [
    {
      "cell_type": "markdown",
      "source": [
        "# FLUJO DE CONTROL"
      ],
      "metadata": {
        "id": "olUdipgwmxsX"
      }
    },
    {
      "cell_type": "markdown",
      "source": [
        "## BOOLEANOS"
      ],
      "metadata": {
        "id": "AoPHBVa6m1OF"
      }
    },
    {
      "cell_type": "markdown",
      "source": [
        "Los booleanos pueden tener dos valores: True y False.\n",
        "\n",
        "Podemos crear valores booleanos comparando valores, usando el operador **Asignación** **==**"
      ],
      "metadata": {
        "id": "xKpUjxswm5FG"
      }
    },
    {
      "cell_type": "code",
      "execution_count": 3,
      "metadata": {
        "colab": {
          "base_uri": "https://localhost:8080/"
        },
        "id": "sAaV19uGmwro",
        "outputId": "32505a41-b1d7-4fee-abe6-1f11dfe1d88f"
      },
      "outputs": [
        {
          "output_type": "stream",
          "name": "stdout",
          "text": [
            "True\n",
            "False\n",
            "True\n"
          ]
        }
      ],
      "source": [
        "my_boolean = True\n",
        "print(my_boolean)\n",
        "\n",
        "print (2==3)\n",
        "\n",
        "print (\"hello\" == \"hello\")"
      ]
    },
    {
      "cell_type": "markdown",
      "source": [
        "> Tenga cuidado de no confundir el signo Asignación (un signo igual) con la de **Comparación** (dos signos iguales)."
      ],
      "metadata": {
        "id": "QpwKUHgRnCrL"
      }
    },
    {
      "cell_type": "markdown",
      "source": [
        "El tipo de datos booleano tiene uno de los dos únicos valores posibles: **True y False**.\n",
        "\n",
        "Tenga en cuenta que los valores deben comenzar con una letra mayúscula."
      ],
      "metadata": {
        "id": "Jj9TasAUnzvj"
      }
    },
    {
      "cell_type": "code",
      "source": [
        "open = True\n",
        "close = False"
      ],
      "metadata": {
        "id": "9MwxVMlDnwwz"
      },
      "execution_count": 4,
      "outputs": []
    },
    {
      "cell_type": "markdown",
      "source": [
        "Los valores booleanos se crean al comparar valores. Python tiene varios operadores de comparación: igual a ==, no igual a !=, mayor que >, menor que <, mayor o igual a >=, menor o igual a <=. \n",
        "\n",
        "Veamos algunos ejemplos:"
      ],
      "metadata": {
        "id": "PbA0j1pcoA_p"
      }
    },
    {
      "cell_type": "code",
      "source": [
        "x = 7\n",
        "\n",
        "print(x != 8)\n",
        "print(x > 5)\n",
        "print(x < 2)\n",
        "print(x >= 7)\n",
        "print(x <= 7)"
      ],
      "metadata": {
        "colab": {
          "base_uri": "https://localhost:8080/"
        },
        "id": "1SIzAZaMoCOx",
        "outputId": "c231db73-7e4f-426d-f55e-441de387efe3"
      },
      "execution_count": 5,
      "outputs": [
        {
          "output_type": "stream",
          "name": "stdout",
          "text": [
            "True\n",
            "True\n",
            "False\n",
            "True\n",
            "True\n"
          ]
        }
      ]
    },
    {
      "cell_type": "markdown",
      "source": [
        "> Los operadores de comparación también se denominan **Operadores relacionales**."
      ],
      "metadata": {
        "id": "J0MUICB_oCo7"
      }
    },
    {
      "cell_type": "markdown",
      "source": [
        "Los operadores mayor que y menor que también se pueden usar para comparar cadenas lexicográficamente (el orden alfabético de las palabras se basa en el orden alfabético de las letras que las componen)."
      ],
      "metadata": {
        "id": "-wg0-IaWoquZ"
      }
    },
    {
      "cell_type": "code",
      "source": [
        "print (\"a\" > \"b\")\n",
        "print (\"Bob\" > \" Dave\")"
      ],
      "metadata": {
        "colab": {
          "base_uri": "https://localhost:8080/"
        },
        "id": "bTFlvd_-n-k8",
        "outputId": "81c1439d-1643-4eba-d932-8c655f74ceda"
      },
      "execution_count": 6,
      "outputs": [
        {
          "output_type": "stream",
          "name": "stdout",
          "text": [
            "False\n",
            "True\n"
          ]
        }
      ]
    },
    {
      "cell_type": "markdown",
      "source": [
        "Los valores booleanos verdadero y falso se pueden representar como números enteros 1 y 0, respectivamente."
      ],
      "metadata": {
        "id": "C_Y8DtHho6BC"
      }
    },
    {
      "cell_type": "code",
      "source": [
        "x = (7 > 5)\n",
        "print (int(x))"
      ],
      "metadata": {
        "colab": {
          "base_uri": "https://localhost:8080/"
        },
        "id": "-mTbb2Fzo8Qc",
        "outputId": "89b15a9f-b9c6-4c2f-a066-1526c0961070"
      },
      "execution_count": 7,
      "outputs": [
        {
          "output_type": "stream",
          "name": "stdout",
          "text": [
            "1\n"
          ]
        }
      ]
    },
    {
      "cell_type": "markdown",
      "source": [
        "> Tenga en cuenta que usamos la función **int** () para convertir el valor booleano en un número entero."
      ],
      "metadata": {
        "id": "8XU3DGZ2o8q9"
      }
    },
    {
      "cell_type": "markdown",
      "source": [
        "# DECLARACIONES IF"
      ],
      "metadata": {
        "id": "YCmlwz-4pSh0"
      }
    },
    {
      "cell_type": "markdown",
      "source": [
        "Una cosa que puede hacer con los valores booleanos es usar sentencias **if** para ejecutar código en función de una determinada condición, por ejemplo, si el valor booleano se evalúa como **True**. Una declaración **if** se ve así:\n",
        "\n",
        "```\n",
        "if condition:\n",
        "    statements\n",
        "```\n",
        "\n"
      ],
      "metadata": {
        "id": "vYcnqPCOpcAS"
      }
    },
    {
      "cell_type": "markdown",
      "source": [
        "Python usa **indentación** (ese espacio vacío al comienzo de una línea) para delimitar bloques de código.\n",
        "\n",
        "Dependiendo de la lógica del programa, la sangría puede ser obligatoria.\n",
        "> Las declaraciones en el if deben estar sangradas."
      ],
      "metadata": {
        "id": "pIh3dBw5p2xj"
      }
    },
    {
      "cell_type": "code",
      "source": [
        "x = 42\n",
        "if x > 5:\n",
        "  print (\"x es mayor que 5\")\n"
      ],
      "metadata": {
        "colab": {
          "base_uri": "https://localhost:8080/"
        },
        "id": "6c5kQ4EipRlJ",
        "outputId": "ecbe1bb0-d9ab-4e3e-b13a-b24ca4316d31"
      },
      "execution_count": 8,
      "outputs": [
        {
          "output_type": "stream",
          "name": "stdout",
          "text": [
            "x es mayor que 5\n"
          ]
        }
      ]
    },
    {
      "cell_type": "markdown",
      "source": [
        ">> Dado que la condición de la instrucción if es verdadera, el programa genera \"x es mayor que 5\"."
      ],
      "metadata": {
        "id": "ohNV4o97qpK9"
      }
    },
    {
      "cell_type": "markdown",
      "source": [
        "Los dos puntos al final de la expresión en la instrucción if son importantes, no los omita.\n",
        "\n",
        "En ocasiones tendremos que realizar comprobaciones más complejas. Pero eso no es problema, porque las sentencias if se pueden anidar, una dentro de otra."
      ],
      "metadata": {
        "id": "s-XOV7STq0OL"
      }
    },
    {
      "cell_type": "code",
      "source": [
        "num = 12\n",
        "if num > 5:\n",
        "  print(\"Bigger tha 5\")\n",
        "  if num <= 47:\n",
        "    print(\"Between 5 and 47\")"
      ],
      "metadata": {
        "colab": {
          "base_uri": "https://localhost:8080/"
        },
        "id": "jp0I1t2so2em",
        "outputId": "bc431f49-2dfa-4612-f1d2-1a73dc94e14c"
      },
      "execution_count": 9,
      "outputs": [
        {
          "output_type": "stream",
          "name": "stdout",
          "text": [
            "Bigger tha 5\n",
            "Between 5 and 47\n"
          ]
        }
      ]
    },
    {
      "cell_type": "markdown",
      "source": [
        "La sangría se utiliza para definir el nivel de anidamiento."
      ],
      "metadata": {
        "id": "vKlWYHIQrG9I"
      }
    },
    {
      "cell_type": "markdown",
      "source": [
        "# DECLARACIONES ELSE"
      ],
      "metadata": {
        "id": "Hf9rpTU2vCuJ"
      }
    },
    {
      "cell_type": "markdown",
      "source": [
        "La declaración **else** se puede usar para ejecutar algunas declaraciones cuando la condición de la declaración **if** es **falsa**"
      ],
      "metadata": {
        "id": "G2_S8Qi2vFzn"
      }
    },
    {
      "cell_type": "code",
      "source": [
        "x = 4\n",
        "if x == 5:\n",
        "  print(\"Yes\")\n",
        "else:\n",
        "  print(\"No\")"
      ],
      "metadata": {
        "colab": {
          "base_uri": "https://localhost:8080/"
        },
        "id": "rIGdH1NivEBT",
        "outputId": "c16b8a2a-fcf1-4a4a-bd7a-68b678469b07"
      },
      "execution_count": 10,
      "outputs": [
        {
          "output_type": "stream",
          "name": "stdout",
          "text": [
            "No\n"
          ]
        }
      ]
    },
    {
      "cell_type": "markdown",
      "source": [
        "Al igual que con las declaraciones **if**, el código dentro del bloque debe sangrarse.\n",
        "> Los **dos puntos** al final de la palabra clave else son importantes, no los omita."
      ],
      "metadata": {
        "id": "3QNBwWrcwC_2"
      }
    },
    {
      "cell_type": "markdown",
      "source": [
        "Cada bloque de condición **if** puede tener solo una declaración **else**. Entonces, para que podamos hacer múltiples controles, necesitamos entrelazar declaraciones **if** y **else**. \n",
        "\n",
        "Por ejemplo, el siguiente programa verifica y genera el valor de la variable num como texto:"
      ],
      "metadata": {
        "id": "a-eMQGJCwC9W"
      }
    },
    {
      "cell_type": "code",
      "source": [
        "num = 3\n",
        "if num ==1:\n",
        "  print(\"One\")\n",
        "else:\n",
        "  if num == 2:\n",
        "    print(\"Two\")\n",
        "  else:\n",
        "    if num == 3:\n",
        "      print(\"Three\")\n",
        "    else:\n",
        "      print(\"Something else\")"
      ],
      "metadata": {
        "colab": {
          "base_uri": "https://localhost:8080/"
        },
        "id": "yuyI5ajowPhE",
        "outputId": "8547ed9b-fba7-4c9b-a7a0-df04eb06ffab"
      },
      "execution_count": 11,
      "outputs": [
        {
          "output_type": "stream",
          "name": "stdout",
          "text": [
            "Three\n"
          ]
        }
      ]
    },
    {
      "cell_type": "markdown",
      "source": [
        "> La sangría determina a qué sentencias **if/else** pertenecen los bloques de código."
      ],
      "metadata": {
        "id": "VaxDjNbnwC6e"
      }
    },
    {
      "cell_type": "markdown",
      "source": [
        "# DECLARACIONES ELIF"
      ],
      "metadata": {
        "id": "pMWYBObIxQzf"
      }
    },
    {
      "cell_type": "markdown",
      "source": [
        "Demasiadas declaraciones **if/else** hacen que su código sea largo y difícil de leer. \n",
        "\n",
        "La mejor manera de resolver esto es la declaración **elif** (abreviatura de else if). Es un atajo para entrelazar declaraciones **if y else**, lo que hace que el código sea más corto y más fácil de leer. \n",
        "\n",
        "El mismo ejemplo de la parte anterior se puede reescribir usando declaraciones elif"
      ],
      "metadata": {
        "id": "xeVnh2MzxS9H"
      }
    },
    {
      "cell_type": "code",
      "source": [
        "num = 3\n",
        "if num == 1:\n",
        "  print(\"One\")\n",
        "elif num == 2:\n",
        "  print(\"Two\")\n",
        "elif num == 3:\n",
        "  print(\"Three\")\n",
        "else:\n",
        "  print(\"Something else\")"
      ],
      "metadata": {
        "colab": {
          "base_uri": "https://localhost:8080/"
        },
        "id": "w_GO9RcTxQA4",
        "outputId": "51519fad-0179-4d81-9f6a-c64d36ae4b18"
      },
      "execution_count": 12,
      "outputs": [
        {
          "output_type": "stream",
          "name": "stdout",
          "text": [
            "Three\n"
          ]
        }
      ]
    },
    {
      "cell_type": "markdown",
      "source": [
        "Y como puede ver en el ejemplo anterior, una serie de sentencias **if elif** puede tener un bloque **else** final, que es llamado si las expresiones **if y else** no son Verdaderas."
      ],
      "metadata": {
        "id": "NDeRFWHPx34q"
      }
    },
    {
      "cell_type": "code",
      "source": [
        "num = 8\n",
        "if num == 1:\n",
        "  print(\"One\")\n",
        "elif num == 2:\n",
        "  print(\"Two\")\n",
        "elif num == 3:\n",
        "  print(\"Three\")\n",
        "else:\n",
        "  print(\"Something else\")"
      ],
      "metadata": {
        "colab": {
          "base_uri": "https://localhost:8080/"
        },
        "id": "n9Nt8waGwCv7",
        "outputId": "b4ce1b66-be19-4bdc-e44c-ea568ce6c6e6"
      },
      "execution_count": 13,
      "outputs": [
        {
          "output_type": "stream",
          "name": "stdout",
          "text": [
            "Something else\n"
          ]
        }
      ]
    },
    {
      "cell_type": "markdown",
      "source": [
        "# LOGICA BOOLEANA"
      ],
      "metadata": {
        "id": "6LI45nAUyr1P"
      }
    },
    {
      "cell_type": "markdown",
      "source": [
        "Ahora es el momento de subir de nivel nuestros valores booleanos con algunos operadores, que nos permiten combinar múltiples condiciones. \n",
        "\n",
        "Empecemos con el operador **and**. Es True, si ambas condiciones se evalúan como True:"
      ],
      "metadata": {
        "id": "Z7lPY6G3yv0U"
      }
    },
    {
      "cell_type": "code",
      "source": [
        "print(1 == 1 and 2 == 2)\n",
        "print(1 == 1 and 2 == 3)\n",
        "print(1 != 1 and 2 == 2)\n",
        "print(2 < 1 and 3 > 4)"
      ],
      "metadata": {
        "colab": {
          "base_uri": "https://localhost:8080/"
        },
        "id": "Z-PkupRRwCsl",
        "outputId": "86a8ab0f-3826-4276-d7c8-bbcd245f909b"
      },
      "execution_count": 14,
      "outputs": [
        {
          "output_type": "stream",
          "name": "stdout",
          "text": [
            "True\n",
            "False\n",
            "False\n",
            "False\n"
          ]
        }
      ]
    },
    {
      "cell_type": "markdown",
      "source": [
        "## BOOLEANO OR"
      ],
      "metadata": {
        "id": "epBunbr_zIoC"
      }
    },
    {
      "cell_type": "markdown",
      "source": [
        "El **operador or** es Verdadero si alguna (o ambas) de sus condiciones son Verdaderas, y Falso si ambas condiciones son Falsas"
      ],
      "metadata": {
        "id": "WE-ISLZuzL8Y"
      }
    },
    {
      "cell_type": "code",
      "source": [
        "print(1 == 1 or 2 == 2)\n",
        "print(1 == 1 or 2 == 3)\n",
        "print(1 != 1 or 2 == 2)\n",
        "print(2 < 1 or 3 > 6)"
      ],
      "metadata": {
        "colab": {
          "base_uri": "https://localhost:8080/"
        },
        "id": "4bxDKu0GwCqG",
        "outputId": "49114a7a-40cf-46fb-d274-5538e8cea94e"
      },
      "execution_count": 15,
      "outputs": [
        {
          "output_type": "stream",
          "name": "stdout",
          "text": [
            "True\n",
            "True\n",
            "True\n",
            "False\n"
          ]
        }
      ]
    },
    {
      "cell_type": "markdown",
      "source": [
        "Como puede ver, además de los valores, también puede comparar variables para formar condiciones:\n"
      ],
      "metadata": {
        "id": "zpnTKAGUzhYx"
      }
    },
    {
      "cell_type": "code",
      "source": [
        "age = 24\n",
        "limit = 18\n",
        "height = 191\n",
        "\n",
        "if (age > limit and height > 180):\n",
        "  print(\"Yes\")"
      ],
      "metadata": {
        "colab": {
          "base_uri": "https://localhost:8080/"
        },
        "id": "Hi8mB2v0wAX2",
        "outputId": "f243d9b2-1792-4a91-a01c-450517f7a9c6"
      },
      "execution_count": 16,
      "outputs": [
        {
          "output_type": "stream",
          "name": "stdout",
          "text": [
            "Yes\n"
          ]
        }
      ]
    },
    {
      "cell_type": "markdown",
      "source": [
        "## BOOLEANO NOT"
      ],
      "metadata": {
        "id": "ysRuCAclzwna"
      }
    },
    {
      "cell_type": "markdown",
      "source": [
        "Finalmente, el **operador not **funciona un poco diferente. **not** toma solo un argumento y lo invierte. \n",
        "\n",
        "El resultado de **not True** es Falso , y **not False** es Verdadero . "
      ],
      "metadata": {
        "id": "WXTRHqjJzzal"
      }
    },
    {
      "cell_type": "code",
      "source": [
        "print(not 1 == 1)\n",
        "print(not 1 > 7)"
      ],
      "metadata": {
        "colab": {
          "base_uri": "https://localhost:8080/"
        },
        "id": "RVqe2fokzt1P",
        "outputId": "e1b7f96f-7d33-498a-de3b-5ab549539985"
      },
      "execution_count": 17,
      "outputs": [
        {
          "output_type": "stream",
          "name": "stdout",
          "text": [
            "False\n",
            "True\n"
          ]
        }
      ]
    },
    {
      "cell_type": "markdown",
      "source": [
        "---\n",
        "Puede encadenar varias sentencias condicionales en una sentencia if utilizando los operadores booleanos."
      ],
      "metadata": {
        "id": "F-4P0TYI0Ryv"
      }
    },
    {
      "cell_type": "code",
      "source": [
        "country = \"US\"\n",
        "age = 42\n",
        "\n",
        "if(country == \"US\" or country == \"GB\") and (age > 8 and age < 100):\n",
        "  print(\"Cool\")"
      ],
      "metadata": {
        "colab": {
          "base_uri": "https://localhost:8080/"
        },
        "id": "-uTZdyp40JvU",
        "outputId": "627fcf4b-576d-4951-af20-b823a4f40552"
      },
      "execution_count": 18,
      "outputs": [
        {
          "output_type": "stream",
          "name": "stdout",
          "text": [
            "Cool\n"
          ]
        }
      ]
    },
    {
      "cell_type": "markdown",
      "source": [
        "El orden de las operaciones de Python es el mismo que el de las matemáticas normales: primero los paréntesis, luego la exponenciación, luego la multiplicación/división y luego la suma/resta."
      ],
      "metadata": {
        "id": "Xd-EARob0nqu"
      }
    },
    {
      "cell_type": "markdown",
      "source": [
        "---\n",
        "# BUCLES WHILE"
      ],
      "metadata": {
        "id": "REsxGMlw0tyz"
      }
    },
    {
      "cell_type": "markdown",
      "source": [
        "## BUCLE"
      ],
      "metadata": {
        "id": "KlC6mBQ20xXX"
      }
    },
    {
      "cell_type": "markdown",
      "source": [
        "Los bucles le permiten repetir un bloque de código varias veces.\n",
        "> Por ejemplo, supongamos que necesitamos procesar múltiples entradas de usuario, de modo que cada vez que el usuario ingrese algo, se debe ejecutar el mismo bloque de código."
      ],
      "metadata": {
        "id": "6OZ8q0qL0zfs"
      }
    },
    {
      "cell_type": "markdown",
      "source": [
        "## BUCLES WHILE"
      ],
      "metadata": {
        "id": "KUOg3PHo06t3"
      }
    },
    {
      "cell_type": "markdown",
      "source": [
        "Aquí hay un bucle **while** (mientras) que contiene una variable que cuenta de 1 a 5, momento en el que termina el bucle."
      ],
      "metadata": {
        "id": "vxUsVV8q0-Oq"
      }
    },
    {
      "cell_type": "code",
      "source": [
        "i = 1\n",
        "while i <= 5:\n",
        "  print(i)\n",
        "  i = i + 1\n",
        "\n",
        "print(\"Finished\")"
      ],
      "metadata": {
        "colab": {
          "base_uri": "https://localhost:8080/"
        },
        "id": "WU0ibsao0jnA",
        "outputId": "82ebb346-d0ac-4c32-b000-90084341d37c"
      },
      "execution_count": 19,
      "outputs": [
        {
          "output_type": "stream",
          "name": "stdout",
          "text": [
            "1\n",
            "2\n",
            "3\n",
            "4\n",
            "5\n",
            "Finished\n"
          ]
        }
      ]
    },
    {
      "cell_type": "markdown",
      "source": [
        "Durante cada ejecución del bucle, la variable **i** se incrementa en uno, hasta llegar a 5.\n",
        "> Entonces, el bucle ejecutará la declaración de impresión 5 veces."
      ],
      "metadata": {
        "id": "nnub1R051AAZ"
      }
    },
    {
      "cell_type": "markdown",
      "source": [
        "Las declaraciones dentro del bucle **while** deben estar sangradas, de forma similar a una declaración if ."
      ],
      "metadata": {
        "id": "TAu3e27d1lOR"
      }
    },
    {
      "cell_type": "code",
      "source": [
        "x = 0\n",
        "while x < 10:\n",
        "  print(x)\n",
        "  x += 1"
      ],
      "metadata": {
        "colab": {
          "base_uri": "https://localhost:8080/"
        },
        "id": "66sMLRhV1f9D",
        "outputId": "aeb52373-d032-40fd-95f9-b4b29bd76bd2"
      },
      "execution_count": 20,
      "outputs": [
        {
          "output_type": "stream",
          "name": "stdout",
          "text": [
            "0\n",
            "1\n",
            "2\n",
            "3\n",
            "4\n",
            "5\n",
            "6\n",
            "7\n",
            "8\n",
            "9\n"
          ]
        }
      ]
    },
    {
      "cell_type": "markdown",
      "source": [
        "El código en el cuerpo de un bucle **while** se ejecuta repetidamente mientras la condición es **True**.\n",
        "\n",
        "Esto se llama **iteración**. \n",
        "\n",
        "El siguiente código agrega el número actual a la variable de suma durante cada iteración:"
      ],
      "metadata": {
        "id": "RLhqhNCs1x5H"
      }
    },
    {
      "cell_type": "code",
      "source": [
        "sum = 0\n",
        "x = 10\n",
        "while x > 0:\n",
        "  sum += x\n",
        "  x -= 1\n",
        "\n",
        "print(sum)\n"
      ],
      "metadata": {
        "colab": {
          "base_uri": "https://localhost:8080/"
        },
        "id": "s0mHYsvN1uw-",
        "outputId": "80d31f38-fd90-4aef-d076-32df3864515d"
      },
      "execution_count": 21,
      "outputs": [
        {
          "output_type": "stream",
          "name": "stdout",
          "text": [
            "55\n"
          ]
        }
      ]
    },
    {
      "cell_type": "markdown",
      "source": [
        "También puede usar otras declaraciones, como declaraciones **if** en bucles.\n",
        "\n",
        "Esto es especialmente útil en cosas como los juegos, en los que es posible que deba recorrer varias acciones del jugador y agregar o quitar puntos a la puntuación del jugador.\n",
        "\n",
        "Mira este código, que usa una instrucción if/else dentro de un ciclo while para separar los números pares e impares en el rango de 1 a 10:"
      ],
      "metadata": {
        "id": "M0_EBLxA2OMd"
      }
    },
    {
      "cell_type": "code",
      "source": [
        "x = 1\n",
        "while x < 10:\n",
        "  if x % 2 == 0:\n",
        "    print(str(x) + \" is even\")\n",
        "  else:\n",
        "    print(str(x) + \" is odd\")\n",
        "  x += 1\n"
      ],
      "metadata": {
        "colab": {
          "base_uri": "https://localhost:8080/"
        },
        "id": "ppNcM3s12IYy",
        "outputId": "278f9d87-0918-458b-b264-20a5d48b0b13"
      },
      "execution_count": 22,
      "outputs": [
        {
          "output_type": "stream",
          "name": "stdout",
          "text": [
            "1 is odd\n",
            "2 is even\n",
            "3 is odd\n",
            "4 is even\n",
            "5 is odd\n",
            "6 is even\n",
            "7 is odd\n",
            "8 is even\n",
            "9 is odd\n"
          ]
        }
      ]
    },
    {
      "cell_type": "markdown",
      "source": [
        "> str(x) se usa para convertir el número x en una cadena, de modo que pueda usarse para la concatenación."
      ],
      "metadata": {
        "id": "QpXMyVrB2PO7"
      }
    },
    {
      "cell_type": "markdown",
      "source": [
        "Si la condición del bucle **while** sigue siendo True , el bucle se ejecutará indefinidamente, provocando un bucle infinito ."
      ],
      "metadata": {
        "id": "wQycew4a2x9w"
      }
    },
    {
      "cell_type": "code",
      "source": [
        "x = 8\n",
        "while x > 3:\n",
        "  print(x) # NO EJECUTAR"
      ],
      "metadata": {
        "id": "JQKafK7a2y6c"
      },
      "execution_count": null,
      "outputs": []
    },
    {
      "cell_type": "markdown",
      "source": [
        "Una forma breve de crear un bucle infinito es usar **while True**."
      ],
      "metadata": {
        "id": "MN4IT-he2zSc"
      }
    },
    {
      "cell_type": "markdown",
      "source": [
        "---\n",
        "# BREAK Y CONTINUE"
      ],
      "metadata": {
        "id": "D5YpEBU23Fb6"
      }
    },
    {
      "cell_type": "markdown",
      "source": [
        "## BREAK"
      ],
      "metadata": {
        "id": "Q7fX7O703KiH"
      }
    },
    {
      "cell_type": "markdown",
      "source": [
        "Para finalizar un bucle **while** antes de tiempo, podemos usar una instrucción **break**. \n",
        "\n",
        "Por ejemplo, podemos romper un bucle infinito si se cumple alguna condición:"
      ],
      "metadata": {
        "id": "TR6VIKHX3MH3"
      }
    },
    {
      "cell_type": "code",
      "source": [
        "i = 0\n",
        "while True:\n",
        "  print(i)\n",
        "  i = i + 1\n",
        "  if i >= 5:\n",
        "    print(\"Breaking\")\n",
        "    break\n",
        "\n",
        "print(\"Finished\")"
      ],
      "metadata": {
        "colab": {
          "base_uri": "https://localhost:8080/"
        },
        "id": "avoUSoAb3IWt",
        "outputId": "5f88ff10-3151-494e-fed8-3cedfeb39202"
      },
      "execution_count": 23,
      "outputs": [
        {
          "output_type": "stream",
          "name": "stdout",
          "text": [
            "0\n",
            "1\n",
            "2\n",
            "3\n",
            "4\n",
            "Breaking\n",
            "Finished\n"
          ]
        }
      ]
    },
    {
      "cell_type": "markdown",
      "source": [
        "**Aquí hay un ejemplo de caso de uso de ruptura:**\n",
        "\n",
        "Se puede usar un ciclo while infinito para tomar continuamente la entrada del usuario. Por ejemplo, está haciendo una calculadora y necesita tomar números del usuario para sumar y detenerse cuando el usuario ingresa **\"stop\"**. \n",
        "\n",
        "En este caso, la declaración de interrupción **break** se puede usar para finalizar el ciclo infinito cuando la entrada del usuario es igual a \"stop\".\n",
        "> El uso de la sentencia **break** fuera de un bucle provoca un error."
      ],
      "metadata": {
        "id": "G1szisdV3oKN"
      }
    },
    {
      "cell_type": "markdown",
      "source": [
        "## CONTINUE"
      ],
      "metadata": {
        "id": "THRuIgj14BLv"
      }
    },
    {
      "cell_type": "markdown",
      "source": [
        "Otra declaración que se puede usar dentro de los bucles es **continue**.\n",
        "\n",
        "A diferencia de break, **continue** salta de regreso a la parte superior del bucle, en lugar de detenerlo. \n",
        "\n",
        "Básicamente, la declaración de **continue** detiene la iteración actual y continúa con la siguiente interación."
      ],
      "metadata": {
        "id": "tLs_UGQM4Dxa"
      }
    },
    {
      "cell_type": "code",
      "source": [
        "i = 0\n",
        "while i < 5:\n",
        "  i += 1\n",
        "  if i == 3:\n",
        "    print(\"Skipping 3\")\n",
        "    continue\n",
        "  print(i)"
      ],
      "metadata": {
        "colab": {
          "base_uri": "https://localhost:8080/"
        },
        "id": "IBWc0E-Z3kCD",
        "outputId": "6aa26a29-3cdc-47d6-a397-6eddd6579b34"
      },
      "execution_count": 24,
      "outputs": [
        {
          "output_type": "stream",
          "name": "stdout",
          "text": [
            "1\n",
            "2\n",
            "Skipping 3\n",
            "4\n",
            "5\n"
          ]
        }
      ]
    },
    {
      "cell_type": "markdown",
      "source": [
        "**Un ejemplo de caso de uso de continuar:**\n",
        "\n",
        "Un sistema de emisión de boletos de una aerolínea necesita calcular el costo total de todos los boletos comprados. Las entradas para niños menores de 3 años son gratuitas. Podemos usar un ciclo while para iterar a través de la lista de pasajeros y calcular el costo total de sus boletos. Aquí, la declaración de **conntinue** se puede usar para omitir a los niños."
      ],
      "metadata": {
        "id": "VIVMcmbB4gil"
      }
    },
    {
      "cell_type": "code",
      "source": [],
      "metadata": {
        "id": "IZe3ZooE4c10"
      },
      "execution_count": null,
      "outputs": []
    }
  ]
}