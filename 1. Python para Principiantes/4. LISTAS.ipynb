{
 "cells": [
  {
   "cell_type": "markdown",
   "id": "4222e351",
   "metadata": {},
   "source": [
    "# LISTAS"
   ]
  },
  {
   "cell_type": "markdown",
   "id": "be439360",
   "metadata": {},
   "source": [
    "* Se utiliza para almacenar artículos\n",
    "* Se crea usando corchetes con comas que separan los elementos:"
   ]
  },
  {
   "cell_type": "code",
   "execution_count": null,
   "id": "87b7d3b6",
   "metadata": {},
   "outputs": [],
   "source": [
    "words = [\"Hola\" , \"mundo\" , \"!\"]"
   ]
  },
  {
   "cell_type": "markdown",
   "id": "b4468bd2",
   "metadata": {},
   "source": [
    "Si se quiere acceder a un elemento de la lista, se usa su índice entre los corchetes:"
   ]
  },
  {
   "cell_type": "code",
   "execution_count": null,
   "id": "4f1325e4",
   "metadata": {},
   "outputs": [],
   "source": [
    "print (words[0])"
   ]
  },
  {
   "cell_type": "code",
   "execution_count": null,
   "id": "4e2a5569",
   "metadata": {},
   "outputs": [],
   "source": [
    "print (words[1])"
   ]
  },
  {
   "cell_type": "markdown",
   "id": "0f85e72c",
   "metadata": {},
   "source": [
    "Las listas pueden contener diferentes tipos de datos, como strings y números:"
   ]
  },
  {
   "cell_type": "code",
   "execution_count": null,
   "id": "312bf59b",
   "metadata": {},
   "outputs": [],
   "source": [
    "x = [\"a\",\"b\",\"c\"]\n",
    "y = [1,2,3,4,5]"
   ]
  },
  {
   "cell_type": "code",
   "execution_count": null,
   "id": "7fe3d0b2",
   "metadata": {},
   "outputs": [],
   "source": [
    "print(x[1])"
   ]
  },
  {
   "cell_type": "code",
   "execution_count": null,
   "id": "338da4c4",
   "metadata": {},
   "outputs": [],
   "source": [
    "print(y[3])"
   ]
  },
  {
   "cell_type": "markdown",
   "id": "977fdf21",
   "metadata": {},
   "source": [
    "Se pueden usar listas para representar matrices:"
   ]
  },
  {
   "cell_type": "code",
   "execution_count": null,
   "id": "1521cde5",
   "metadata": {},
   "outputs": [],
   "source": [
    "m = [\n",
    "    [1,2,3],\n",
    "    [4,5,6]\n",
    "]"
   ]
  },
  {
   "cell_type": "markdown",
   "id": "b561d732",
   "metadata": {},
   "source": [
    "Esto es util porque se pueden alamacenar datos en formato de filas y columnas.\n",
    "Para acceder a los elementos de la matriz, se especifica la fila y columna usando corchetes:"
   ]
  },
  {
   "cell_type": "code",
   "execution_count": null,
   "id": "b7717135",
   "metadata": {},
   "outputs": [],
   "source": [
    "print (m[1][2])"
   ]
  },
  {
   "cell_type": "markdown",
   "id": "13d8e5b5",
   "metadata": {},
   "source": [
    "# **OPERACIONES CON LISTAS**"
   ]
  },
  {
   "cell_type": "markdown",
   "id": "c23dfcc3",
   "metadata": {},
   "source": [
    "EL ELEMENTO EN UN DETERMINADO INDICE SE PUEDE REASIGNAR:"
   ]
  },
  {
   "cell_type": "code",
   "execution_count": null,
   "id": "ab99fdd6",
   "metadata": {},
   "outputs": [],
   "source": [
    "nums = [5 , 8 , 2]\n",
    "nums[1] = 42\n",
    "print (nums)"
   ]
  },
  {
   "cell_type": "markdown",
   "id": "0780b5a2",
   "metadata": {},
   "source": [
    "LAS LISTAS SE PUEDEN CONCATENAR DE LA MISMA MANERA QUE LOS STRINGS:"
   ]
  },
  {
   "cell_type": "code",
   "execution_count": null,
   "id": "7319fde7",
   "metadata": {},
   "outputs": [],
   "source": [
    "nums = [1 , 2 , 3]\n",
    "print (nums  + [4 , 5 , 6])"
   ]
  },
  {
   "cell_type": "markdown",
   "id": "1da8f876",
   "metadata": {},
   "source": [
    "SE PUEDE CONCEPTUALIZAR A LOS STRINGS COMO LISTAS DE CARACTERES QUE NO SE PUEDEN CAMBIAR. \n",
    "\n",
    "DE MANERA SIMILAR A LAS CADENAS, SE PUEDEN MULTIPLICAR POR UN ENTERO:"
   ]
  },
  {
   "cell_type": "code",
   "execution_count": null,
   "id": "95b4a08b",
   "metadata": {},
   "outputs": [],
   "source": [
    "nums = [1 , 2 , 3]\n",
    "print (nums * 3)"
   ]
  },
  {
   "cell_type": "markdown",
   "id": "ddac9ed8",
   "metadata": {},
   "source": [
    "PARA VERIFICAR SI UN ELEMENTO SE ENCUENTRA EN UNA LISTA SE USA EL OPERADOR **\"in\"**\n",
    "\n",
    "DEVUELVE **\"True\"** SI EL ELEMENTO APARECE UNA O MAS VECES EN LA LISTA Y **\"False\"** SI NO ES ASÍ:"
   ]
  },
  {
   "cell_type": "code",
   "execution_count": null,
   "id": "b74d2335",
   "metadata": {},
   "outputs": [],
   "source": [
    "words = [\"spam\" , \"egg\" , \"spam\" , \"sausage\"]\n",
    "print (\"spam\" in words)\n",
    "print (\"egg\" in words)\n",
    "print (\"tomato\" in words)"
   ]
  },
  {
   "cell_type": "markdown",
   "id": "2606db34",
   "metadata": {},
   "source": [
    "**Ejercicio:**"
   ]
  },
  {
   "cell_type": "code",
   "execution_count": null,
   "id": "c1133cf3",
   "metadata": {},
   "outputs": [],
   "source": [
    "nums = [10,9,8,7,6,5]\n",
    "nums[0] = nums[1] - 5\n",
    "if 4 in nums:\n",
    "    print (nums[3])\n",
    "else:\n",
    "    print (nums[4])"
   ]
  },
  {
   "cell_type": "markdown",
   "id": "993992dc",
   "metadata": {},
   "source": [
    "EL OPERADOR **in** TAMBIEN SE USA PARA DETERMINAR SI UNA CADENA ES UNA SUBCADENA DE OTRA:"
   ]
  },
  {
   "cell_type": "code",
   "execution_count": null,
   "id": "3d8fbcee",
   "metadata": {},
   "outputs": [],
   "source": [
    "x = \"hello world\"\n",
    "if \"world\" in x:\n",
    "    print (\"yes\")"
   ]
  },
  {
   "cell_type": "markdown",
   "id": "9c6785e8",
   "metadata": {},
   "source": [
    "ASIMISMO, PARA VERIFICAR SI UN ELEMENTO NO ESTÁ EN UNA LISTA SE USA **\"not\"*** DE UNA DE LAS SIGUIENTES MANERAS:"
   ]
  },
  {
   "cell_type": "code",
   "execution_count": null,
   "id": "75fe7fe9",
   "metadata": {},
   "outputs": [],
   "source": [
    "nums = [1 , 2 , 3]\n",
    "print (not 4 in nums)\n",
    "print (4 not in nums)\n",
    "print (not 3 in nums)\n",
    "print (3 not in nums)"
   ]
  },
  {
   "cell_type": "code",
   "execution_count": null,
   "id": "85511058",
   "metadata": {},
   "outputs": [],
   "source": []
  }
 ],
 "metadata": {
  "kernelspec": {
   "display_name": "Python 3 (ipykernel)",
   "language": "python",
   "name": "python3"
  },
  "language_info": {
   "codemirror_mode": {
    "name": "ipython",
    "version": 3
   },
   "file_extension": ".py",
   "mimetype": "text/x-python",
   "name": "python",
   "nbconvert_exporter": "python",
   "pygments_lexer": "ipython3",
   "version": "3.9.7"
  }
 },
 "nbformat": 4,
 "nbformat_minor": 5
}
