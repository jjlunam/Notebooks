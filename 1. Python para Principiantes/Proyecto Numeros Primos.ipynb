{
 "cells": [
  {
   "cell_type": "markdown",
   "id": "5c7d2d9c",
   "metadata": {},
   "source": [
    "## **PROYECTO DE NUMERO PRIMOS**"
   ]
  },
  {
   "cell_type": "markdown",
   "id": "81d04c14",
   "metadata": {},
   "source": [
    "UN NUMERO PRIMO SÓLO SE PUEDE DIVIDIR POR 1 Y POR SÍ  MISMO.\n",
    "\n",
    "Se pide mostrar los números primos menores que 100:"
   ]
  },
  {
   "cell_type": "code",
   "execution_count": 8,
   "id": "e35ed57c",
   "metadata": {},
   "outputs": [],
   "source": []
  },
  {
   "cell_type": "code",
   "execution_count": 9,
   "id": "596404c3",
   "metadata": {
    "scrolled": true
   },
   "outputs": [
    {
     "name": "stdout",
     "output_type": "stream",
     "text": [
      "2\n",
      "3\n",
      "4\n",
      "5\n",
      "6\n",
      "7\n",
      "8\n",
      "9\n"
     ]
    }
   ],
   "source": []
  },
  {
   "cell_type": "code",
   "execution_count": null,
   "id": "1ed26ac7",
   "metadata": {},
   "outputs": [],
   "source": []
  }
 ],
 "metadata": {
  "kernelspec": {
   "display_name": "Python 3 (ipykernel)",
   "language": "python",
   "name": "python3"
  },
  "language_info": {
   "codemirror_mode": {
    "name": "ipython",
    "version": 3
   },
   "file_extension": ".py",
   "mimetype": "text/x-python",
   "name": "python",
   "nbconvert_exporter": "python",
   "pygments_lexer": "ipython3",
   "version": "3.9.7"
  }
 },
 "nbformat": 4,
 "nbformat_minor": 5
}
