{
 "cells": [
  {
   "cell_type": "markdown",
   "id": "5c7d2d9c",
   "metadata": {},
   "source": [
    "## **PROYECTO DE NUMERO PRIMOS**"
   ]
  },
  {
   "cell_type": "markdown",
   "id": "81d04c14",
   "metadata": {},
   "source": [
    "UN NUMERO PRIMO SÓLO SE PUEDE DIVIDIR POR 1 Y POR SÍ  MISMO.\n",
    "\n",
    "Se pide mostrar los números primos menores que 100:"
   ]
  },
  {
   "cell_type": "code",
   "execution_count": 13,
   "id": "e35ed57c",
   "metadata": {},
   "outputs": [
    {
     "name": "stdout",
     "output_type": "stream",
     "text": [
      "2\n",
      "3\n",
      "5\n",
      "7\n",
      "11\n",
      "13\n",
      "17\n",
      "19\n",
      "23\n",
      "29\n",
      "31\n",
      "37\n",
      "41\n",
      "43\n",
      "47\n",
      "53\n",
      "59\n",
      "61\n",
      "67\n",
      "71\n",
      "73\n",
      "79\n",
      "83\n",
      "89\n",
      "97\n"
     ]
    }
   ],
   "source": [
    "def EsPrimo(x):\n",
    "    if x < 2:\n",
    "        return False\n",
    "    elif x == 2:\n",
    "        return  True\n",
    "    for n in range (2, x):\n",
    "        if x % n == 0:\n",
    "            return False\n",
    "    return True\n",
    "\n",
    "for n in range (100):\n",
    "    if EsPrimo(n) is True:\n",
    "        print (n)\n",
    "        "
   ]
  },
  {
   "cell_type": "code",
   "execution_count": null,
   "id": "1ed26ac7",
   "metadata": {},
   "outputs": [],
   "source": []
  }
 ],
 "metadata": {
  "kernelspec": {
   "display_name": "Python 3 (ipykernel)",
   "language": "python",
   "name": "python3"
  },
  "language_info": {
   "codemirror_mode": {
    "name": "ipython",
    "version": 3
   },
   "file_extension": ".py",
   "mimetype": "text/x-python",
   "name": "python",
   "nbconvert_exporter": "python",
   "pygments_lexer": "ipython3",
   "version": "3.9.7"
  }
 },
 "nbformat": 4,
 "nbformat_minor": 5
}
